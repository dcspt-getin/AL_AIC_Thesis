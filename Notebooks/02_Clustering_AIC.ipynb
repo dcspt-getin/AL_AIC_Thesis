{
 "cells": [
  {
   "attachments": {},
   "cell_type": "markdown",
   "metadata": {},
   "source": [
    "# Clustering (taking into account the pre-calculated Clusters)\n"
   ]
  },
  {
   "attachments": {},
   "cell_type": "markdown",
   "metadata": {},
   "source": [
    "## 1. Import Libraries\n"
   ]
  },
  {
   "cell_type": "code",
   "execution_count": null,
   "metadata": {},
   "outputs": [],
   "source": [
    "# Import Libraries\n",
    "\n",
    "import pandas as pd\n",
    "import numpy as np\n",
    "\n",
    "import os\n",
    "\n",
    "import matplotlib.pyplot as plt\n",
    "import contextily as cx\n",
    "\n",
    "import spopt\n",
    "\n",
    "from sklearn.decomposition import PCA\n",
    "from sklearn.preprocessing import StandardScaler\n",
    "from sklearn.cluster import AgglomerativeClustering\n",
    "from sklearn.metrics import pairwise as skm\n",
    "from sklearn.metrics import silhouette_score, silhouette_samples\n",
    "\n",
    "import scipy.cluster.hierarchy as sch\n",
    "\n",
    "from spopt.region import MaxPHeuristic as MaxP\n",
    "from libpysal.weights import Queen\n",
    "\n",
    "import scipy.sparse as sp\n",
    "from splot.libpysal import plot_spatial_weights\n",
    "\n",
    "%matplotlib inline\n",
    "os.environ[\"USE_PYGEOS\"] = \"0\""
   ]
  },
  {
   "attachments": {},
   "cell_type": "markdown",
   "metadata": {},
   "source": [
    "## 2. Loading Data, Transforming Variables\n"
   ]
  },
  {
   "cell_type": "code",
   "execution_count": null,
   "metadata": {},
   "outputs": [],
   "source": [
    "# read data\n",
    "bgri_cluster = pd.read_pickle(\"../Data/piclo_bgri.piclo\")"
   ]
  },
  {
   "cell_type": "code",
   "execution_count": null,
   "metadata": {},
   "outputs": [],
   "source": [
    "all_data = pd.read_pickle(\"../Data/all_data.piclo\")"
   ]
  },
  {
   "cell_type": "code",
   "execution_count": null,
   "metadata": {},
   "outputs": [],
   "source": [
    "bgri_cluster.shape"
   ]
  },
  {
   "cell_type": "code",
   "execution_count": null,
   "metadata": {},
   "outputs": [],
   "source": [
    "bgri_cluster.shape"
   ]
  },
  {
   "cell_type": "code",
   "execution_count": null,
   "metadata": {},
   "outputs": [],
   "source": [
    "# read data\n",
    "clusters_fr = pd.read_pickle(\"../Data/piclo_clusters_fr.piclo\")\n",
    "clusters_lug = pd.read_pickle(\"../Data/piclo_clusters_lug.piclo\")\n",
    "clusters_lp = pd.read_pickle(\"../Data/piclo_clusters_lp.piclo\")"
   ]
  },
  {
   "cell_type": "code",
   "execution_count": null,
   "metadata": {},
   "outputs": [],
   "source": [
    "bgri_cluster.head()"
   ]
  },
  {
   "cell_type": "code",
   "execution_count": null,
   "metadata": {},
   "outputs": [],
   "source": [
    "bgri_cluster.shape"
   ]
  },
  {
   "cell_type": "code",
   "execution_count": null,
   "metadata": {},
   "outputs": [],
   "source": [
    "bgri_cluster[bgri_cluster[\"Cluster_LP\"].isnull()]"
   ]
  },
  {
   "cell_type": "code",
   "execution_count": null,
   "metadata": {},
   "outputs": [],
   "source": [
    "bgri_cluster = bgri_cluster[~bgri_cluster[\"Cluster_LP\"].isnull()]"
   ]
  },
  {
   "cell_type": "code",
   "execution_count": null,
   "metadata": {},
   "outputs": [],
   "source": [
    "bgri_cluster.shape"
   ]
  },
  {
   "cell_type": "code",
   "execution_count": null,
   "metadata": {},
   "outputs": [],
   "source": [
    "clusters_fr.head()"
   ]
  },
  {
   "cell_type": "code",
   "execution_count": null,
   "metadata": {},
   "outputs": [],
   "source": [
    "clusters_lug.head()"
   ]
  },
  {
   "cell_type": "code",
   "execution_count": null,
   "metadata": {},
   "outputs": [],
   "source": [
    "clusters_lp.head()"
   ]
  },
  {
   "cell_type": "code",
   "execution_count": null,
   "metadata": {},
   "outputs": [],
   "source": [
    "clusters_fr.shape"
   ]
  },
  {
   "cell_type": "code",
   "execution_count": null,
   "metadata": {},
   "outputs": [],
   "source": [
    "clusters_lug.shape"
   ]
  },
  {
   "cell_type": "code",
   "execution_count": null,
   "metadata": {},
   "outputs": [],
   "source": [
    "clusters_lp.shape"
   ]
  },
  {
   "cell_type": "code",
   "execution_count": null,
   "metadata": {},
   "outputs": [],
   "source": [
    "bgri_cluster.head()"
   ]
  },
  {
   "cell_type": "code",
   "execution_count": null,
   "metadata": {},
   "outputs": [],
   "source": [
    "bgri_cluster.shape"
   ]
  },
  {
   "cell_type": "code",
   "execution_count": null,
   "metadata": {},
   "outputs": [],
   "source": [
    "# group by cluster and sum values, getting socioeconomic indicators for each cluster (from the subsection information)\n",
    "bgri_cluster_LP = (\n",
    "    bgri_cluster.groupby([\"Cluster_LP\"]).sum().reset_index(level=\"Cluster_LP\")\n",
    ")\n",
    "bgri_cluster_LUG = bgri_cluster.groupby([\"LUG11\"]).sum().reset_index(level=\"LUG11\")\n",
    "bgri_cluster_FR = bgri_cluster.groupby([\"FR11\"]).sum().reset_index(level=\"FR11\")"
   ]
  },
  {
   "cell_type": "code",
   "execution_count": null,
   "metadata": {},
   "outputs": [],
   "source": [
    "bgri_cluster_LP.shape"
   ]
  },
  {
   "cell_type": "code",
   "execution_count": null,
   "metadata": {},
   "outputs": [],
   "source": [
    "# rotinas utilizadas para verificar a presença de NaNs - linhas dropadas\n",
    "\n",
    "# set de pontos (X) com NaNs depois do standardscaler()\n",
    "# este output só aparece se o bloco \"bgri_cluster.drop([24, 32, 47, 94, 101], axis=0, inplace=True)\" não estiver implementado\n",
    "\n",
    "\n",
    "# {10, 14, 49, 56, 59, 61, 62}\n",
    "\n"
   ]
  },
  {
   "cell_type": "code",
   "execution_count": null,
   "metadata": {},
   "outputs": [],
   "source": [
    "bgri_cluster_LP.isnull().values.any()"
   ]
  },
  {
   "cell_type": "code",
   "execution_count": null,
   "metadata": {},
   "outputs": [],
   "source": [
    "list(bgri_cluster_LP.columns)"
   ]
  },
  {
   "cell_type": "code",
   "execution_count": null,
   "metadata": {},
   "outputs": [],
   "source": [
    "## code below was used to check for NaNs in the rows identified with NaN values\n",
    "# bgri_cluster_LP.loc[[10]].transpose()[0:60]\n",
    "# bgri_cluster_LP.loc[[14]].transpose()[0:60]\n",
    "# bgri_cluster_LP.loc[[49]].transpose()[0:60]\n",
    "# bgri_cluster_LP.loc[[56]].transpose()[0:60]\n",
    "# bgri_cluster_LP.loc[[61]].transpose()[0:60]\n",
    "# bgri_cluster_LP.loc[[62]].transpose()[0:60]"
   ]
  },
  {
   "cell_type": "code",
   "execution_count": null,
   "metadata": {},
   "outputs": [],
   "source": [
    "## after analyzing all the columns, we decided to drop the following columns:\n",
    "## - N_RES_HABITUAL_1_2_DIV\n",
    "## - N_RES_HABITUAL_3_4_DIV\n",
    "## - N_RES_HABITUAL_ESTAC_1\n",
    "## - N_RES_HABITUAL_ESTAC_2\n",
    "## - N_RES_HABITUAL_ESTAC_3"
   ]
  },
  {
   "cell_type": "code",
   "execution_count": null,
   "metadata": {},
   "outputs": [],
   "source": [
    "bgri_cluster_LP.drop(\n",
    "    columns=[\n",
    "        \"N_RES_HABITUAL_1_2_DIV\",\n",
    "        \"N_RES_HABITUAL_3_4_DIV\",\n",
    "        \"N_RES_HABITUAL_ESTAC_1\",\n",
    "        \"N_RES_HABITUAL_ESTAC_2\",\n",
    "        \"N_RES_HABITUAL_ESTAC_3\",\n",
    "    ],\n",
    "    inplace=True,\n",
    ")"
   ]
  },
  {
   "cell_type": "code",
   "execution_count": null,
   "metadata": {},
   "outputs": [],
   "source": [
    "## drop row with ONLY NaNs - other 6 rows with NaNs were not dropped; columns with NaN values were dropped instead\n",
    "# bgri_cluster_LP.drop([61], axis=0, inplace=True)"
   ]
  },
  {
   "cell_type": "code",
   "execution_count": null,
   "metadata": {},
   "outputs": [],
   "source": [
    "bgri_cluster_LP.head()"
   ]
  },
  {
   "attachments": {},
   "cell_type": "markdown",
   "metadata": {},
   "source": [
    "### 2.1 New variables, enhancing the information available in the dataset\n"
   ]
  },
  {
   "cell_type": "code",
   "execution_count": null,
   "metadata": {},
   "outputs": [],
   "source": [
    "# here we prove that N_EDIFICIOS_CLASSICOS_ISOLADOS+N_EDIFICIOS_CLASSICOS_GEMIN+N_EDIFICIOS_CLASSICOS_EMBANDA=N_EDIFICIOS_CLASSICOS_1OU2\n",
    "bgri_cluster_LP[\"N_EDIFICIOS_CLASSICOS_1OU2\"].sum() == (\n",
    "    bgri_cluster_LP[\"N_EDIFICIOS_CLASSICOS_ISOLADOS\"]\n",
    "    + bgri_cluster_LP[\"N_EDIFICIOS_CLASSICOS_GEMIN\"]\n",
    "    + bgri_cluster_LP[\"N_EDIFICIOS_CLASSICOS_EMBANDA\"]\n",
    ").sum()"
   ]
  },
  {
   "cell_type": "code",
   "execution_count": null,
   "metadata": {},
   "outputs": [],
   "source": [
    "# here we prove that N_EDIFICIOS_CLASSICOS_ISOLADOS+N_EDIFICIOS_CLASSICOS_GEMIN+N_EDIFICIOS_CLASSICOS_EMBANDA=N_EDIFICIOS_CLASSICOS_1OU2\n",
    "bgri_cluster_LUG[\"N_EDIFICIOS_CLASSICOS_1OU2\"].sum() == (\n",
    "    bgri_cluster_LUG[\"N_EDIFICIOS_CLASSICOS_ISOLADOS\"]\n",
    "    + bgri_cluster_LUG[\"N_EDIFICIOS_CLASSICOS_GEMIN\"]\n",
    "    + bgri_cluster_LUG[\"N_EDIFICIOS_CLASSICOS_EMBANDA\"]\n",
    ").sum()"
   ]
  },
  {
   "cell_type": "code",
   "execution_count": null,
   "metadata": {},
   "outputs": [],
   "source": [
    "# here we prove that N_EDIFICIOS_CLASSICOS_ISOLADOS+N_EDIFICIOS_CLASSICOS_GEMIN+N_EDIFICIOS_CLASSICOS_EMBANDA=N_EDIFICIOS_CLASSICOS_1OU2\n",
    "bgri_cluster_FR[\"N_EDIFICIOS_CLASSICOS_1OU2\"].sum() == (\n",
    "    bgri_cluster_FR[\"N_EDIFICIOS_CLASSICOS_ISOLADOS\"]\n",
    "    + bgri_cluster_FR[\"N_EDIFICIOS_CLASSICOS_GEMIN\"]\n",
    "    + bgri_cluster_FR[\"N_EDIFICIOS_CLASSICOS_EMBANDA\"]\n",
    ").sum()"
   ]
  },
  {
   "cell_type": "code",
   "execution_count": null,
   "metadata": {},
   "outputs": [],
   "source": [
    "bgri_cluster_LP.head()"
   ]
  },
  {
   "cell_type": "code",
   "execution_count": null,
   "metadata": {},
   "outputs": [],
   "source": [
    "bgri_cluster_LP.shape"
   ]
  },
  {
   "cell_type": "code",
   "execution_count": null,
   "metadata": {},
   "outputs": [],
   "source": [
    "# sabemos que N_EDIFICIOS_CLASSICOS = N_EDIFICIOS_CLASSICOS_ISOLADOS + N_EDIFICIOS_CLASSICOS_GEMIN + N_EDIFICIOS_CLASSICOS_EMBANDA +\n",
    "# + N_EDIFICIOS_CLASSICOS_3OUMAIS + N_EDIFICIOS_CLASSICOS_OUTROS\n",
    "\n",
    "# drop possivel - N_EDIFICIOS_CLASSICOS_OUTROS (para não dar 100%)\n",
    "\n",
    "bgri_cluster_LP[\"PER_EDIFICIOS_CLASSICOS_ISOLADOS\"] = (\n",
    "    bgri_cluster_LP[\"N_EDIFICIOS_CLASSICOS_ISOLADOS\"]\n",
    "    / bgri_cluster_LP[\"N_EDIFICIOS_CLASSICOS\"]\n",
    ")\n",
    "bgri_cluster_LP[\"PER_EDIFICIOS_CLASSICOS_GEMIN\"] = (\n",
    "    bgri_cluster_LP[\"N_EDIFICIOS_CLASSICOS_GEMIN\"]\n",
    "    / bgri_cluster_LP[\"N_EDIFICIOS_CLASSICOS\"]\n",
    ")\n",
    "bgri_cluster_LP[\"PER_EDIFICIOS_CLASSICOS_EMBANDA\"] = (\n",
    "    bgri_cluster_LP[\"N_EDIFICIOS_CLASSICOS_EMBANDA\"]\n",
    "    / bgri_cluster_LP[\"N_EDIFICIOS_CLASSICOS\"]\n",
    ")\n",
    "bgri_cluster_LP[\"PER_EDIFICIOS_CLASSICOS_1OU2\"] = (\n",
    "    bgri_cluster_LP[\"N_EDIFICIOS_CLASSICOS_1OU2\"]\n",
    "    / bgri_cluster_LP[\"N_EDIFICIOS_CLASSICOS\"]\n",
    ")\n",
    "bgri_cluster_LP[\"PER_EDIFICIOS_CLASSICOS_3OUMAIS\"] = (\n",
    "    bgri_cluster_LP[\"N_EDIFICIOS_CLASSICOS_3OUMAIS\"]\n",
    "    / bgri_cluster_LP[\"N_EDIFICIOS_CLASSICOS\"]\n",
    ")\n",
    "bgri_cluster_LP[\"PER_EDIFICIOS_CLASSICOS_OUTROS\"] = (\n",
    "    bgri_cluster_LP[\"N_EDIFICIOS_CLASSICOS_OUTROS\"]\n",
    "    / bgri_cluster_LP[\"N_EDIFICIOS_CLASSICOS\"]\n",
    ")\n",
    "\n",
    "bgri_cluster_LP.drop(\n",
    "    [\n",
    "        \"N_EDIFICIOS_CLASSICOS\",\n",
    "        \"N_EDIFICIOS_CLASSICOS_1OU2\",\n",
    "        \"N_EDIFICIOS_CLASSICOS_ISOLADOS\",\n",
    "        \"N_EDIFICIOS_CLASSICOS_GEMIN\",\n",
    "        \"N_EDIFICIOS_CLASSICOS_EMBANDA\",\n",
    "        \"N_EDIFICIOS_CLASSICOS_3OUMAIS\",\n",
    "        \"N_EDIFICIOS_CLASSICOS_OUTROS\",\n",
    "    ],\n",
    "    axis=1,\n",
    "    inplace=True,\n",
    ")"
   ]
  },
  {
   "cell_type": "code",
   "execution_count": null,
   "metadata": {},
   "outputs": [],
   "source": [
    "# sabemos que N_EDIFICIOS_EXCLUSIV_RESID + N_EDIFICIOS_PRINCIPAL_RESID + N_EDIFICIOS_PRINCIP_NAO_RESID =\n",
    "# = N_EDIFICIOS_1OU2_PISOS + N_EDIFICIOS_3OU4_PISOS + N_EDIFICIOS_5OU_MAIS_PISOS\n",
    "\n",
    "# drop possivel - PER_EDIFICIOS_5OU_MAIS_PISOS (para não dar 100%)\n",
    "\n",
    "bgri_cluster_LP[\"total_temp\"] = (\n",
    "    bgri_cluster_LP[\"N_EDIFICIOS_EXCLUSIV_RESID\"]\n",
    "    + bgri_cluster_LP[\"N_EDIFICIOS_PRINCIPAL_RESID\"]\n",
    "    + bgri_cluster_LP[\"N_EDIFICIOS_PRINCIP_NAO_RESID\"]\n",
    ")\n",
    "\n",
    "bgri_cluster_LP[\"PER_EDIFICIOS_EXCLUSIV_RESID\"] = (\n",
    "    bgri_cluster_LP[\"N_EDIFICIOS_EXCLUSIV_RESID\"] / bgri_cluster_LP[\"total_temp\"]\n",
    ")\n",
    "bgri_cluster_LP[\"PER_EDIFICIOS_PRINCIPAL_RESID\"] = (\n",
    "    bgri_cluster_LP[\"N_EDIFICIOS_PRINCIPAL_RESID\"] / bgri_cluster_LP[\"total_temp\"]\n",
    ")\n",
    "bgri_cluster_LP[\"PER_EDIFICIOS_PRINCIP_NAO_RESID\"] = (\n",
    "    bgri_cluster_LP[\"N_EDIFICIOS_PRINCIP_NAO_RESID\"] / bgri_cluster_LP[\"total_temp\"]\n",
    ")\n",
    "\n",
    "bgri_cluster_LP[\"PER_EDIFICIOS_1OU2_PISOS\"] = (\n",
    "    bgri_cluster_LP[\"N_EDIFICIOS_1OU2_PISOS\"] / bgri_cluster_LP[\"total_temp\"]\n",
    ")\n",
    "bgri_cluster_LP[\"PER_EDIFICIOS_3OU4_PISOS\"] = (\n",
    "    bgri_cluster_LP[\"N_EDIFICIOS_3OU4_PISOS\"] / bgri_cluster_LP[\"total_temp\"]\n",
    ")\n",
    "bgri_cluster_LP[\"PER_EDIFICIOS_5OU_MAIS_PISOS\"] = (\n",
    "    bgri_cluster_LP[\"N_EDIFICIOS_5OU_MAIS_PISOS\"] / bgri_cluster_LP[\"total_temp\"]\n",
    ")\n",
    "\n",
    "bgri_cluster_LP.drop(\n",
    "    [\n",
    "        \"total_temp\",\n",
    "        \"N_EDIFICIOS_EXCLUSIV_RESID\",\n",
    "        \"N_EDIFICIOS_PRINCIPAL_RESID\",\n",
    "        \"N_EDIFICIOS_PRINCIP_NAO_RESID\",\n",
    "        \"N_EDIFICIOS_1OU2_PISOS\",\n",
    "        \"N_EDIFICIOS_3OU4_PISOS\",\n",
    "        \"N_EDIFICIOS_5OU_MAIS_PISOS\",\n",
    "    ],\n",
    "    axis=1,\n",
    "    inplace=True,\n",
    ")"
   ]
  },
  {
   "cell_type": "code",
   "execution_count": null,
   "metadata": {},
   "outputs": [],
   "source": [
    "# conversão dos indicadores do ano de construção em percentagens do total de casas\n",
    "\n",
    "# drop possivel - N_EDIFICIOS_CONSTR_2006A2011 (para não dar 100%)\n",
    "\n",
    "bgri_cluster_LP[\"total_temp\"] = (\n",
    "    bgri_cluster_LP[\"N_EDIFICIOS_CONSTR_ANTES_1919\"]\n",
    "    + bgri_cluster_LP[\"N_EDIFICIOS_CONSTR_1919A1945\"]\n",
    "    + bgri_cluster_LP[\"N_EDIFICIOS_CONSTR_1946A1960\"]\n",
    "    + bgri_cluster_LP[\"N_EDIFICIOS_CONSTR_1961A1970\"]\n",
    "    + bgri_cluster_LP[\"N_EDIFICIOS_CONSTR_1971A1980\"]\n",
    "    + bgri_cluster_LP[\"N_EDIFICIOS_CONSTR_1981A1990\"]\n",
    "    + bgri_cluster_LP[\"N_EDIFICIOS_CONSTR_1991A1995\"]\n",
    "    + bgri_cluster_LP[\"N_EDIFICIOS_CONSTR_1996A2000\"]\n",
    "    + bgri_cluster_LP[\"N_EDIFICIOS_CONSTR_2001A2005\"]\n",
    "    + bgri_cluster_LP[\"N_EDIFICIOS_CONSTR_2006A2011\"]\n",
    ")\n",
    "\n",
    "bgri_cluster_LP[\"PER_EDIFICIOS_CONSTR_ANTES_1919\"] = (\n",
    "    bgri_cluster_LP[\"N_EDIFICIOS_CONSTR_ANTES_1919\"] / bgri_cluster_LP[\"total_temp\"]\n",
    ")\n",
    "bgri_cluster_LP[\"PER_EDIFICIOS_CONSTR_1919A1945\"] = (\n",
    "    bgri_cluster_LP[\"N_EDIFICIOS_CONSTR_1919A1945\"] / bgri_cluster_LP[\"total_temp\"]\n",
    ")\n",
    "bgri_cluster_LP[\"PER_EDIFICIOS_CONSTR_1946A1960\"] = (\n",
    "    bgri_cluster_LP[\"N_EDIFICIOS_CONSTR_1946A1960\"] / bgri_cluster_LP[\"total_temp\"]\n",
    ")\n",
    "bgri_cluster_LP[\"PER_EDIFICIOS_CONSTR_1961A1970\"] = (\n",
    "    bgri_cluster_LP[\"N_EDIFICIOS_CONSTR_1961A1970\"] / bgri_cluster_LP[\"total_temp\"]\n",
    ")\n",
    "bgri_cluster_LP[\"PER_EDIFICIOS_CONSTR_1971A1980\"] = (\n",
    "    bgri_cluster_LP[\"N_EDIFICIOS_CONSTR_1971A1980\"] / bgri_cluster_LP[\"total_temp\"]\n",
    ")\n",
    "bgri_cluster_LP[\"PER_EDIFICIOS_CONSTR_1981A1990\"] = (\n",
    "    bgri_cluster_LP[\"N_EDIFICIOS_CONSTR_1981A1990\"] / bgri_cluster_LP[\"total_temp\"]\n",
    ")\n",
    "bgri_cluster_LP[\"PER_EDIFICIOS_CONSTR_1991A1995\"] = (\n",
    "    bgri_cluster_LP[\"N_EDIFICIOS_CONSTR_1991A1995\"] / bgri_cluster_LP[\"total_temp\"]\n",
    ")\n",
    "bgri_cluster_LP[\"PER_EDIFICIOS_CONSTR_1996A2000\"] = (\n",
    "    bgri_cluster_LP[\"N_EDIFICIOS_CONSTR_1996A2000\"] / bgri_cluster_LP[\"total_temp\"]\n",
    ")\n",
    "bgri_cluster_LP[\"PER_EDIFICIOS_CONSTR_2001A2005\"] = (\n",
    "    bgri_cluster_LP[\"N_EDIFICIOS_CONSTR_2001A2005\"] / bgri_cluster_LP[\"total_temp\"]\n",
    ")\n",
    "bgri_cluster_LP[\"PER_EDIFICIOS_CONSTR_2006A2011\"] = (\n",
    "    bgri_cluster_LP[\"N_EDIFICIOS_CONSTR_2006A2011\"] / bgri_cluster_LP[\"total_temp\"]\n",
    ")\n",
    "\n",
    "bgri_cluster_LP.drop(\n",
    "    [\n",
    "        \"total_temp\",\n",
    "        \"N_EDIFICIOS_CONSTR_ANTES_1919\",\n",
    "        \"N_EDIFICIOS_CONSTR_1919A1945\",\n",
    "        \"N_EDIFICIOS_CONSTR_1946A1960\",\n",
    "        \"N_EDIFICIOS_CONSTR_1961A1970\",\n",
    "        \"N_EDIFICIOS_CONSTR_1971A1980\",\n",
    "        \"N_EDIFICIOS_CONSTR_1981A1990\",\n",
    "        \"N_EDIFICIOS_CONSTR_1991A1995\",\n",
    "        \"N_EDIFICIOS_CONSTR_1996A2000\",\n",
    "        \"N_EDIFICIOS_CONSTR_2001A2005\",\n",
    "        \"N_EDIFICIOS_CONSTR_2006A2011\",\n",
    "    ],\n",
    "    axis=1,\n",
    "    inplace=True,\n",
    ")"
   ]
  },
  {
   "cell_type": "code",
   "execution_count": null,
   "metadata": {},
   "outputs": [],
   "source": [
    "# vamos agora droppar variáveis que decidimos não usar, por acreditarmos que não \"informam\" o modelo\n",
    "\n",
    "bgri_cluster_LP.drop(\n",
    "    [\n",
    "        \"N_EDIFICIOS_ESTRUT_BETAO\",\n",
    "        \"N_EDIFICIOS_ESTRUT_COM_PLACA\",\n",
    "        \"N_EDIFICIOS_ESTRUT_SEM_PLACA\",\n",
    "        \"N_EDIFICIOS_ESTRUT_ADOBE_PEDRA\",\n",
    "        \"N_EDIFICIOS_ESTRUT_OUTRA\",\n",
    "    ],\n",
    "    axis=1,\n",
    "    inplace=True,\n",
    ")"
   ]
  },
  {
   "cell_type": "code",
   "execution_count": null,
   "metadata": {},
   "outputs": [],
   "source": [
    "# \"Cluster\" de Variáveis em análise: N_ALOJAMENTOS, N_ALOJAMENTOS_FAM_CLASSICOS, N_ALOJAMENTOS_FAM_N_CLASSICOS, N_ALOJAMENTOS_COLECTIVOS, N_CLASSICOS_RES_HABITUAL, N_ALOJAMENTOS_RES_HABITUAL, N_ALOJAMENTOS_VAGOS\n",
    "# Após análise (à parte), definiu-se que toda a informação destas variáveis está contida nos seguintes percentuais:\n",
    "\n",
    "bgri_cluster_LP[\"PER_ALOJAMENTOS_FAM_CLASSICOS\"] = (\n",
    "    bgri_cluster_LP[\"N_ALOJAMENTOS_FAM_CLASSICOS\"] / bgri_cluster_LP[\"N_ALOJAMENTOS\"]\n",
    ")\n",
    "bgri_cluster_LP[\"PER_ALOJAMENTOS_FAM_N_CLASSICOS\"] = (\n",
    "    bgri_cluster_LP[\"N_ALOJAMENTOS_FAM_N_CLASSICOS\"] / bgri_cluster_LP[\"N_ALOJAMENTOS\"]\n",
    ")\n",
    "bgri_cluster_LP[\"PER_ALOJAMENTOS_COLECTIVOS\"] = (\n",
    "    bgri_cluster_LP[\"N_ALOJAMENTOS_COLECTIVOS\"] / bgri_cluster_LP[\"N_ALOJAMENTOS\"]\n",
    ")\n",
    "bgri_cluster_LP[\"PER_CLASSICOS_RES_HABITUAL\"] = (\n",
    "    bgri_cluster_LP[\"N_CLASSICOS_RES_HABITUAL\"] / bgri_cluster_LP[\"N_ALOJAMENTOS\"]\n",
    ")\n",
    "bgri_cluster_LP[\"PER_ALOJAMENTOS_RES_HABITUAL\"] = (\n",
    "    bgri_cluster_LP[\"N_ALOJAMENTOS_RES_HABITUAL\"] / bgri_cluster_LP[\"N_ALOJAMENTOS\"]\n",
    ")\n",
    "bgri_cluster_LP[\"PER_ALOJAMENTOS_VAGOS\"] = (\n",
    "    bgri_cluster_LP[\"N_ALOJAMENTOS_VAGOS\"] / bgri_cluster_LP[\"N_ALOJAMENTOS\"]\n",
    ")\n",
    "bgri_cluster_LP[\"PER_ALOJAMENTOS_FAMILIARES\"] = (\n",
    "    bgri_cluster_LP[\"N_ALOJAMENTOS_FAMILIARES\"] / bgri_cluster_LP[\"N_ALOJAMENTOS\"]\n",
    ")\n",
    "\n",
    "bgri_cluster_LP.drop(\n",
    "    [\n",
    "        \"N_ALOJAMENTOS\",\n",
    "        \"N_ALOJAMENTOS_FAM_CLASSICOS\",\n",
    "        \"N_ALOJAMENTOS_FAM_N_CLASSICOS\",\n",
    "        \"N_ALOJAMENTOS_COLECTIVOS\",\n",
    "        \"N_CLASSICOS_RES_HABITUAL\",\n",
    "        \"N_ALOJAMENTOS_RES_HABITUAL\",\n",
    "        \"N_ALOJAMENTOS_VAGOS\",\n",
    "        \"N_ALOJAMENTOS_FAMILIARES\",\n",
    "    ],\n",
    "    axis=1,\n",
    "    inplace=True,\n",
    ")"
   ]
  },
  {
   "cell_type": "code",
   "execution_count": null,
   "metadata": {},
   "outputs": [],
   "source": [
    "# vamos droppar as seguintes variáveis 'N_RES_HABITUAL_COM_AGUA','N_RES_HABITUAL_COM_RETRETE','N_RES_HABITUAL_COM_ESGOTOS','N_RES_HABITUAL_COM_BANHO'\n",
    "\n",
    "bgri_cluster_LP.drop(\n",
    "    [\n",
    "        \"N_RES_HABITUAL_COM_AGUA\",\n",
    "        \"N_RES_HABITUAL_COM_RETRETE\",\n",
    "        \"N_RES_HABITUAL_COM_ESGOTOS\",\n",
    "        \"N_RES_HABITUAL_COM_BANHO\",\n",
    "    ],\n",
    "    axis=1,\n",
    "    inplace=True,\n",
    ")"
   ]
  },
  {
   "cell_type": "code",
   "execution_count": null,
   "metadata": {},
   "outputs": [],
   "source": [
    "# Próximo Cluster de 'N_RES_HABITUAL_AREA_50', 'N_RES_HABITUAL_AREA_50_100', 'N_RES_HABITUAL_AREA_100_200', 'N_RES_HABITUAL_AREA_200'\n",
    "\n",
    "bgri_cluster_LP[\"temp_total\"] = (\n",
    "    bgri_cluster_LP[\"N_RES_HABITUAL_AREA_50\"]\n",
    "    + bgri_cluster_LP[\"N_RES_HABITUAL_AREA_50_100\"]\n",
    "    + bgri_cluster_LP[\"N_RES_HABITUAL_AREA_100_200\"]\n",
    "    + bgri_cluster_LP[\"N_RES_HABITUAL_AREA_200\"]\n",
    ")\n",
    "\n",
    "bgri_cluster_LP[\"PER_RES_HABITUAL_AREA_50\"] = (\n",
    "    bgri_cluster_LP[\"N_RES_HABITUAL_AREA_50\"] / bgri_cluster_LP[\"temp_total\"]\n",
    ")\n",
    "bgri_cluster_LP[\"PER_RES_HABITUAL_AREA_50_100\"] = (\n",
    "    bgri_cluster_LP[\"N_RES_HABITUAL_AREA_50_100\"] / bgri_cluster_LP[\"temp_total\"]\n",
    ")\n",
    "bgri_cluster_LP[\"PER_RES_HABITUAL_AREA_100_200\"] = (\n",
    "    bgri_cluster_LP[\"N_RES_HABITUAL_AREA_100_200\"] / bgri_cluster_LP[\"temp_total\"]\n",
    ")\n",
    "bgri_cluster_LP[\"PER_RES_HABITUAL_AREA_200\"] = (\n",
    "    bgri_cluster_LP[\"N_RES_HABITUAL_AREA_200\"] / bgri_cluster_LP[\"temp_total\"]\n",
    ")\n",
    "\n",
    "bgri_cluster_LP.drop(\n",
    "    [\n",
    "        \"temp_total\",\n",
    "        \"N_RES_HABITUAL_AREA_50\",\n",
    "        \"N_RES_HABITUAL_AREA_50_100\",\n",
    "        \"N_RES_HABITUAL_AREA_100_200\",\n",
    "        \"N_RES_HABITUAL_AREA_200\",\n",
    "    ],\n",
    "    axis=1,\n",
    "    inplace=True,\n",
    ")"
   ]
  },
  {
   "cell_type": "code",
   "execution_count": null,
   "metadata": {},
   "outputs": [],
   "source": [
    "# Próximo Cluster de 'N_RES_HABITUAL_PROP_OCUP','N_RES_HABITUAL_ARREND'\n",
    "# Não fui capaz de encontrar relação entre variáveis (os totais não batem certo), pelo que será criado subtotatal e as variáveis serão percentagens desses subtotais\n",
    "\n",
    "bgri_cluster_LP[\"temp_total3\"] = (\n",
    "    bgri_cluster_LP[\"N_RES_HABITUAL_PROP_OCUP\"]\n",
    "    + bgri_cluster_LP[\"N_RES_HABITUAL_ARREND\"]\n",
    ")\n",
    "\n",
    "bgri_cluster_LP[\"PER_RES_HABITUAL_PROP_OCUP\"] = (\n",
    "    bgri_cluster_LP[\"N_RES_HABITUAL_PROP_OCUP\"] / bgri_cluster_LP[\"temp_total3\"]\n",
    ")\n",
    "bgri_cluster_LP[\"PER_RES_HABITUAL_ARREND\"] = (\n",
    "    bgri_cluster_LP[\"N_RES_HABITUAL_ARREND\"] / bgri_cluster_LP[\"temp_total3\"]\n",
    ")\n",
    "\n",
    "\n",
    "bgri_cluster_LP.drop(\n",
    "    [\"temp_total3\", \"N_RES_HABITUAL_PROP_OCUP\", \"N_RES_HABITUAL_ARREND\"],\n",
    "    axis=1,\n",
    "    inplace=True,\n",
    ")"
   ]
  },
  {
   "cell_type": "code",
   "execution_count": null,
   "metadata": {},
   "outputs": [],
   "source": [
    "# Próximo Cluster de 'N_FAMILIAS_CLASSICAS','N_FAMILIAS_INSTITUCIONAIS','N_FAMILIAS_CLASSICAS_1OU2_PESS','N_FAMILIAS_CLASSICAS_3OU4_PESS','N_FAMILIAS_CLASSICAS_NPES65',\n",
    "#'N_FAMILIAS_CLASSICAS_NPES14','N_FAMILIAS_CLASSIC_SEM_DESEMP','N_FAMILIAS_CLASSIC_1DESEMPREG','N_FAMILIAS_CLASS_2MAIS_DESEMP'\n",
    "\n",
    "# Não fui capaz de encontrar relação entre todas as variáveis (os totais não batem todos certo), pelo que serão as variáveis serão percentagens do N_FAMILIAS_CLASSICAS\n",
    "\n",
    "bgri_cluster_LP[\"PER_FAMILIAS_INSTITUCIONAIS\"] = (\n",
    "    bgri_cluster_LP[\"N_FAMILIAS_INSTITUCIONAIS\"]\n",
    "    / bgri_cluster_LP[\"N_FAMILIAS_CLASSICAS\"]\n",
    ")\n",
    "bgri_cluster_LP[\"PER_FAMILIAS_CLASSICAS_1OU2_PESS\"] = (\n",
    "    bgri_cluster_LP[\"N_FAMILIAS_CLASSICAS_1OU2_PESS\"]\n",
    "    / bgri_cluster_LP[\"N_FAMILIAS_CLASSICAS\"]\n",
    ")\n",
    "bgri_cluster_LP[\"PER_FAMILIAS_CLASSICAS_3OU4_PESS\"] = (\n",
    "    bgri_cluster_LP[\"N_FAMILIAS_CLASSICAS_3OU4_PESS\"]\n",
    "    / bgri_cluster_LP[\"N_FAMILIAS_CLASSICAS\"]\n",
    ")\n",
    "bgri_cluster_LP[\"PER_FAMILIAS_CLASSICAS_NPES65\"] = (\n",
    "    bgri_cluster_LP[\"N_FAMILIAS_CLASSICAS_NPES65\"]\n",
    "    / bgri_cluster_LP[\"N_FAMILIAS_CLASSICAS\"]\n",
    ")\n",
    "bgri_cluster_LP[\"PER_FAMILIAS_CLASSICAS_NPES14\"] = (\n",
    "    bgri_cluster_LP[\"N_FAMILIAS_CLASSICAS_NPES14\"]\n",
    "    / bgri_cluster_LP[\"N_FAMILIAS_CLASSICAS\"]\n",
    ")\n",
    "bgri_cluster_LP[\"PER_FAMILIAS_CLASSIC_SEM_DESEMP\"] = (\n",
    "    bgri_cluster_LP[\"N_FAMILIAS_CLASSIC_SEM_DESEMP\"]\n",
    "    / bgri_cluster_LP[\"N_FAMILIAS_CLASSICAS\"]\n",
    ")\n",
    "bgri_cluster_LP[\"PER_FAMILIAS_CLASSIC_1DESEMPREG\"] = (\n",
    "    bgri_cluster_LP[\"N_FAMILIAS_CLASSIC_1DESEMPREG\"]\n",
    "    / bgri_cluster_LP[\"N_FAMILIAS_CLASSICAS\"]\n",
    ")\n",
    "bgri_cluster_LP[\"PER_FAMILIAS_CLASS_2MAIS_DESEMP\"] = (\n",
    "    bgri_cluster_LP[\"N_FAMILIAS_CLASS_2MAIS_DESEMP\"]\n",
    "    / bgri_cluster_LP[\"N_FAMILIAS_CLASSICAS\"]\n",
    ")\n",
    "\n",
    "bgri_cluster_LP.drop(\n",
    "    [\n",
    "        \"N_FAMILIAS_CLASSICAS\",\n",
    "        \"N_FAMILIAS_INSTITUCIONAIS\",\n",
    "        \"N_FAMILIAS_CLASSICAS_1OU2_PESS\",\n",
    "        \"N_FAMILIAS_CLASSICAS_3OU4_PESS\",\n",
    "        \"N_FAMILIAS_CLASSICAS_NPES65\",\n",
    "        \"N_FAMILIAS_CLASSICAS_NPES14\",\n",
    "        \"N_FAMILIAS_CLASSIC_SEM_DESEMP\",\n",
    "        \"N_FAMILIAS_CLASSIC_1DESEMPREG\",\n",
    "        \"N_FAMILIAS_CLASS_2MAIS_DESEMP\",\n",
    "    ],\n",
    "    axis=1,\n",
    "    inplace=True,\n",
    ")"
   ]
  },
  {
   "cell_type": "code",
   "execution_count": null,
   "metadata": {},
   "outputs": [],
   "source": [
    "# Próximo Cluster de 'N_NUCLEOS_FAMILIARES','N_NUCLEOS_1FILH_NAO_CASADO','N_NUCLEOS_2FILH_NAO_CASADO','N_NUCLEOS_FILH_INF_6ANOS','N_NUCLEOS_FILH_INF_15ANOS','N_NUCLEOS_FILH_MAIS_15ANOS'\n",
    "\n",
    "# Não fui capaz de encontrar relação entre todas as variáveis (os totais não batem todos certo), pelo que serão as variáveis serão percentagens do N_NUCLEOS_FAMILIARES\n",
    "\n",
    "\n",
    "bgri_cluster_LP[\"PER_NUCLEOS_1FILH_NAO_CASADO\"] = (\n",
    "    bgri_cluster_LP[\"N_NUCLEOS_1FILH_NAO_CASADO\"]\n",
    "    / bgri_cluster_LP[\"N_NUCLEOS_FAMILIARES\"]\n",
    ")\n",
    "bgri_cluster_LP[\"PER_NUCLEOS_2FILH_NAO_CASADO\"] = (\n",
    "    bgri_cluster_LP[\"N_NUCLEOS_2FILH_NAO_CASADO\"]\n",
    "    / bgri_cluster_LP[\"N_NUCLEOS_FAMILIARES\"]\n",
    ")\n",
    "bgri_cluster_LP[\"PER_NUCLEOS_FILH_INF_6ANOS\"] = (\n",
    "    bgri_cluster_LP[\"N_NUCLEOS_FILH_INF_6ANOS\"]\n",
    "    / bgri_cluster_LP[\"N_NUCLEOS_FAMILIARES\"]\n",
    ")\n",
    "bgri_cluster_LP[\"PER_NUCLEOS_FILH_INF_15ANOS\"] = (\n",
    "    bgri_cluster_LP[\"N_NUCLEOS_FILH_INF_15ANOS\"]\n",
    "    / bgri_cluster_LP[\"N_NUCLEOS_FAMILIARES\"]\n",
    ")\n",
    "bgri_cluster_LP[\"PER_NUCLEOS_FILH_MAIS_15ANOS\"] = (\n",
    "    bgri_cluster_LP[\"N_NUCLEOS_FILH_MAIS_15ANOS\"]\n",
    "    / bgri_cluster_LP[\"N_NUCLEOS_FAMILIARES\"]\n",
    ")\n",
    "\n",
    "bgri_cluster_LP.drop(\n",
    "    [\n",
    "        \"N_NUCLEOS_FAMILIARES\",\n",
    "        \"N_NUCLEOS_1FILH_NAO_CASADO\",\n",
    "        \"N_NUCLEOS_2FILH_NAO_CASADO\",\n",
    "        \"N_NUCLEOS_FILH_INF_6ANOS\",\n",
    "        \"N_NUCLEOS_FILH_INF_15ANOS\",\n",
    "        \"N_NUCLEOS_FILH_MAIS_15ANOS\",\n",
    "    ],\n",
    "    axis=1,\n",
    "    inplace=True,\n",
    ")"
   ]
  },
  {
   "cell_type": "code",
   "execution_count": null,
   "metadata": {},
   "outputs": [],
   "source": [
    "# Antes de passarmos ao próximo bloco de indicadores a tratar, vamos eliminar todas as variáveis relativas ao sexo dos residentes, mantendo aoenas informação relativa à idade\n",
    "bgri_cluster_LP.drop(\n",
    "    [\n",
    "        \"N_INDIVIDUOS_PRESENT_H\",\n",
    "        \"N_INDIVIDUOS_PRESENT_M\",\n",
    "        \"N_INDIVIDUOS_RESIDENT_H\",\n",
    "        \"N_INDIVIDUOS_RESIDENT_M\",\n",
    "        \"N_INDIVIDUOS_RESIDENT_H_0A4\",\n",
    "        \"N_INDIVIDUOS_RESIDENT_H_5A9\",\n",
    "        \"N_INDIVIDUOS_RESIDENT_H_10A13\",\n",
    "        \"N_INDIVIDUOS_RESIDENT_H_14A19\",\n",
    "        \"N_INDIVIDUOS_RESIDENT_H_15A19\",\n",
    "        \"N_INDIVIDUOS_RESIDENT_H_20A24\",\n",
    "        \"N_INDIVIDUOS_RESIDENT_H_20A64\",\n",
    "        \"N_INDIVIDUOS_RESIDENT_H_25A64\",\n",
    "        \"N_INDIVIDUOS_RESIDENT_H_65\",\n",
    "        \"N_INDIVIDUOS_RESIDENT_M_0A4\",\n",
    "        \"N_INDIVIDUOS_RESIDENT_M_5A9\",\n",
    "        \"N_INDIVIDUOS_RESIDENT_M_10A13\",\n",
    "        \"N_INDIVIDUOS_RESIDENT_M_14A19\",\n",
    "        \"N_INDIVIDUOS_RESIDENT_M_15A19\",\n",
    "        \"N_INDIVIDUOS_RESIDENT_M_20A24\",\n",
    "        \"N_INDIVIDUOS_RESIDENT_M_20A64\",\n",
    "        \"N_INDIVIDUOS_RESIDENT_M_25A64\",\n",
    "        \"N_INDIVIDUOS_RESIDENT_M_65\",\n",
    "    ],\n",
    "    axis=1,\n",
    "    inplace=True,\n",
    ")"
   ]
  },
  {
   "cell_type": "code",
   "execution_count": null,
   "metadata": {},
   "outputs": [],
   "source": [
    "# Próximo Cluster de 'N_INDIVIDUOS_PRESENT','N_INDIVIDUOS_RESIDENT','N_INDIVIDUOS_RESIDENT_0A4','N_INDIVIDUOS_RESIDENT_5A9','N_INDIVIDUOS_RESIDENT_10A13','N_INDIVIDUOS_RESIDENT_14A19',\n",
    "#                       'N_INDIVIDUOS_RESIDENT_15A19','N_INDIVIDUOS_RESIDENT_20A24','N_INDIVIDUOS_RESIDENT_20A64','N_INDIVIDUOS_RESIDENT_25A64','N_INDIVIDUOS_RESIDENT_65'\n",
    "\n",
    "# Todos os indicadores acima serão calculados em percentagem da variável N_INDIVIDUOS_RESIDENT\n",
    "# NOTA: esta variável N_INDIVIDUOS_RESIDENT não será dropada no final visto que ainda será necessária para o próximo batch de indicadores a tratar\n",
    "\n",
    "bgri_cluster_LP[\"PER_INDIVIDUOS_PRESENT\"] = (\n",
    "    bgri_cluster_LP[\"N_INDIVIDUOS_PRESENT\"] / bgri_cluster_LP[\"N_INDIVIDUOS_RESIDENT\"]\n",
    ")\n",
    "bgri_cluster_LP[\"PER_INDIVIDUOS_RESIDENT_0A4\"] = (\n",
    "    bgri_cluster_LP[\"N_INDIVIDUOS_RESIDENT_0A4\"]\n",
    "    / bgri_cluster_LP[\"N_INDIVIDUOS_RESIDENT\"]\n",
    ")\n",
    "bgri_cluster_LP[\"PER_INDIVIDUOS_RESIDENT_5A9\"] = (\n",
    "    bgri_cluster_LP[\"N_INDIVIDUOS_RESIDENT_5A9\"]\n",
    "    / bgri_cluster_LP[\"N_INDIVIDUOS_RESIDENT\"]\n",
    ")\n",
    "bgri_cluster_LP[\"PER_INDIVIDUOS_RESIDENT_10A13\"] = (\n",
    "    bgri_cluster_LP[\"N_INDIVIDUOS_RESIDENT_10A13\"]\n",
    "    / bgri_cluster_LP[\"N_INDIVIDUOS_RESIDENT\"]\n",
    ")\n",
    "bgri_cluster_LP[\"PER_INDIVIDUOS_RESIDENT_14A19\"] = (\n",
    "    bgri_cluster_LP[\"N_INDIVIDUOS_RESIDENT_14A19\"]\n",
    "    / bgri_cluster_LP[\"N_INDIVIDUOS_RESIDENT\"]\n",
    ")\n",
    "bgri_cluster_LP[\"PER_INDIVIDUOS_RESIDENT_20A24\"] = (\n",
    "    bgri_cluster_LP[\"N_INDIVIDUOS_RESIDENT_20A24\"]\n",
    "    / bgri_cluster_LP[\"N_INDIVIDUOS_RESIDENT\"]\n",
    ")\n",
    "bgri_cluster_LP[\"PER_INDIVIDUOS_RESIDENT_25A64\"] = (\n",
    "    bgri_cluster_LP[\"N_INDIVIDUOS_RESIDENT_25A64\"]\n",
    "    / bgri_cluster_LP[\"N_INDIVIDUOS_RESIDENT\"]\n",
    ")\n",
    "bgri_cluster_LP[\"PER_INDIVIDUOS_RESIDENT_65\"] = (\n",
    "    bgri_cluster_LP[\"N_INDIVIDUOS_RESIDENT_65\"]\n",
    "    / bgri_cluster_LP[\"N_INDIVIDUOS_RESIDENT\"]\n",
    ")\n",
    "\n",
    "bgri_cluster_LP.drop(\n",
    "    [\n",
    "        \"N_INDIVIDUOS_PRESENT\",\n",
    "        \"N_INDIVIDUOS_RESIDENT_0A4\",\n",
    "        \"N_INDIVIDUOS_RESIDENT_5A9\",\n",
    "        \"N_INDIVIDUOS_RESIDENT_10A13\",\n",
    "        \"N_INDIVIDUOS_RESIDENT_14A19\",\n",
    "        \"N_INDIVIDUOS_RESIDENT_15A19\",\n",
    "        \"N_INDIVIDUOS_RESIDENT_20A24\",\n",
    "        \"N_INDIVIDUOS_RESIDENT_20A64\",\n",
    "        \"N_INDIVIDUOS_RESIDENT_25A64\",\n",
    "        \"N_INDIVIDUOS_RESIDENT_65\",\n",
    "    ],\n",
    "    axis=1,\n",
    "    inplace=True,\n",
    ")"
   ]
  },
  {
   "cell_type": "code",
   "execution_count": null,
   "metadata": {},
   "outputs": [],
   "source": [
    "# Próximo Cluster de 'N_INDIVIDUOS_RESIDENT','N_INDIV_RESIDENT_N_LER_ESCRV','N_IND_RESIDENT_FENSINO_1BAS','N_IND_RESIDENT_FENSINO_2BAS','N_IND_RESIDENT_FENSINO_3BAS','N_IND_RESIDENT_FENSINO_SEC','N_IND_RESIDENT_FENSINO_POSSEC',\n",
    "#'N_IND_RESIDENT_FENSINO_SUP','N_IND_RESIDENT_ENSINCOMP_1BAS','N_IND_RESIDENT_ENSINCOMP_2BAS','N_IND_RESIDENT_ENSINCOMP_3BAS','N_IND_RESIDENT_ENSINCOMP_SEC','N_IND_RESIDENT_ENSINCOMP_POSEC','N_IND_RESIDENT_ENSINCOMP_SUP',\n",
    "#'N_IND_RESID_DESEMP_PROC_1EMPRG','N_IND_RESID_DESEMP_PROC_EMPRG','N_IND_RESID_EMPREGADOS','N_IND_RESID_PENS_REFORM','N_IND_RESID_SEM_ACT_ECON','N_IND_RESID_EMPREG_SECT_PRIM','N_IND_RESID_EMPREG_SECT_SEQ',\n",
    "#'N_IND_RESID_EMPREG_SECT_TERC','N_IND_RESID_ESTUD_MUN_RESID','N_IND_RESID_TRAB_MUN_RESID'\n",
    "\n",
    "# Todos os indicadores acima serão calculados em percentagem da variável N_INDIVIDUOS_RESIDENT (vamos ignorar indicadores relativos a emprego/desemprego porque são indicadores muito \"conjunturais\")\n",
    "\n",
    "bgri_cluster_LP[\"PER_INDIV_RESIDENT_N_LER_ESCRV\"] = (\n",
    "    bgri_cluster_LP[\"N_INDIV_RESIDENT_N_LER_ESCRV\"]\n",
    "    / bgri_cluster_LP[\"N_INDIVIDUOS_RESIDENT\"]\n",
    ")\n",
    "bgri_cluster_LP[\"PER_IND_RESIDENT_FENSINO_1BAS\"] = (\n",
    "    bgri_cluster_LP[\"N_IND_RESIDENT_FENSINO_1BAS\"]\n",
    "    / bgri_cluster_LP[\"N_INDIVIDUOS_RESIDENT\"]\n",
    ")\n",
    "bgri_cluster_LP[\"PER_IND_RESIDENT_FENSINO_2BAS\"] = (\n",
    "    bgri_cluster_LP[\"N_IND_RESIDENT_FENSINO_2BAS\"]\n",
    "    / bgri_cluster_LP[\"N_INDIVIDUOS_RESIDENT\"]\n",
    ")\n",
    "bgri_cluster_LP[\"PER_IND_RESIDENT_FENSINO_3BAS\"] = (\n",
    "    bgri_cluster_LP[\"N_IND_RESIDENT_FENSINO_3BAS\"]\n",
    "    / bgri_cluster_LP[\"N_INDIVIDUOS_RESIDENT\"]\n",
    ")\n",
    "bgri_cluster_LP[\"PER_IND_RESIDENT_FENSINO_SEC\"] = (\n",
    "    bgri_cluster_LP[\"N_IND_RESIDENT_FENSINO_SEC\"]\n",
    "    / bgri_cluster_LP[\"N_INDIVIDUOS_RESIDENT\"]\n",
    ")\n",
    "bgri_cluster_LP[\"PER_IND_RESIDENT_FENSINO_POSSEC\"] = (\n",
    "    bgri_cluster_LP[\"N_IND_RESIDENT_FENSINO_POSSEC\"]\n",
    "    / bgri_cluster_LP[\"N_INDIVIDUOS_RESIDENT\"]\n",
    ")\n",
    "bgri_cluster_LP[\"PER_IND_RESIDENT_FENSINO_SUP\"] = (\n",
    "    bgri_cluster_LP[\"N_IND_RESIDENT_FENSINO_SUP\"]\n",
    "    / bgri_cluster_LP[\"N_INDIVIDUOS_RESIDENT\"]\n",
    ")\n",
    "bgri_cluster_LP[\"PER_IND_RESIDENT_ENSINCOMP_1BAS\"] = (\n",
    "    bgri_cluster_LP[\"N_IND_RESIDENT_ENSINCOMP_1BAS\"]\n",
    "    / bgri_cluster_LP[\"N_INDIVIDUOS_RESIDENT\"]\n",
    ")\n",
    "bgri_cluster_LP[\"PER_IND_RESIDENT_ENSINCOMP_2BAS\"] = (\n",
    "    bgri_cluster_LP[\"N_IND_RESIDENT_ENSINCOMP_2BAS\"]\n",
    "    / bgri_cluster_LP[\"N_INDIVIDUOS_RESIDENT\"]\n",
    ")\n",
    "bgri_cluster_LP[\"PER_IND_RESIDENT_ENSINCOMP_3BAS\"] = (\n",
    "    bgri_cluster_LP[\"N_IND_RESIDENT_ENSINCOMP_3BAS\"]\n",
    "    / bgri_cluster_LP[\"N_INDIVIDUOS_RESIDENT\"]\n",
    ")\n",
    "bgri_cluster_LP[\"PER_IND_RESIDENT_ENSINCOMP_SEC\"] = (\n",
    "    bgri_cluster_LP[\"N_IND_RESIDENT_ENSINCOMP_SEC\"]\n",
    "    / bgri_cluster_LP[\"N_INDIVIDUOS_RESIDENT\"]\n",
    ")\n",
    "bgri_cluster_LP[\"PER_IND_RESIDENT_ENSINCOMP_POSEC\"] = (\n",
    "    bgri_cluster_LP[\"N_IND_RESIDENT_ENSINCOMP_POSEC\"]\n",
    "    / bgri_cluster_LP[\"N_INDIVIDUOS_RESIDENT\"]\n",
    ")\n",
    "bgri_cluster_LP[\"PER_IND_RESIDENT_ENSINCOMP_SUP\"] = (\n",
    "    bgri_cluster_LP[\"N_IND_RESIDENT_ENSINCOMP_SUP\"]\n",
    "    / bgri_cluster_LP[\"N_INDIVIDUOS_RESIDENT\"]\n",
    ")\n",
    "bgri_cluster_LP[\"PER_IND_RESID_PENS_REFORM\"] = (\n",
    "    bgri_cluster_LP[\"N_IND_RESID_PENS_REFORM\"]\n",
    "    / bgri_cluster_LP[\"N_INDIVIDUOS_RESIDENT\"]\n",
    ")\n",
    "bgri_cluster_LP[\"PER_IND_RESID_SEM_ACT_ECON\"] = (\n",
    "    bgri_cluster_LP[\"N_IND_RESID_SEM_ACT_ECON\"]\n",
    "    / bgri_cluster_LP[\"N_INDIVIDUOS_RESIDENT\"]\n",
    ")\n",
    "bgri_cluster_LP[\"PER_IND_RESID_EMPREG_SECT_PRIM\"] = (\n",
    "    bgri_cluster_LP[\"N_IND_RESID_EMPREG_SECT_PRIM\"]\n",
    "    / bgri_cluster_LP[\"N_INDIVIDUOS_RESIDENT\"]\n",
    ")\n",
    "bgri_cluster_LP[\"PER_IND_RESID_EMPREG_SECT_SEQ\"] = (\n",
    "    bgri_cluster_LP[\"N_IND_RESID_EMPREG_SECT_SEQ\"]\n",
    "    / bgri_cluster_LP[\"N_INDIVIDUOS_RESIDENT\"]\n",
    ")\n",
    "bgri_cluster_LP[\"PER_IND_RESID_EMPREG_SECT_TERC\"] = (\n",
    "    bgri_cluster_LP[\"N_IND_RESID_EMPREG_SECT_TERC\"]\n",
    "    / bgri_cluster_LP[\"N_INDIVIDUOS_RESIDENT\"]\n",
    ")\n",
    "bgri_cluster_LP[\"PER_IND_RESID_ESTUD_MUN_RESID\"] = (\n",
    "    bgri_cluster_LP[\"N_IND_RESID_ESTUD_MUN_RESID\"]\n",
    "    / bgri_cluster_LP[\"N_INDIVIDUOS_RESIDENT\"]\n",
    ")\n",
    "bgri_cluster_LP[\"PER_IND_RESID_TRAB_MUN_RESID\"] = (\n",
    "    bgri_cluster_LP[\"N_IND_RESID_TRAB_MUN_RESID\"]\n",
    "    / bgri_cluster_LP[\"N_INDIVIDUOS_RESIDENT\"]\n",
    ")\n",
    "\n",
    "bgri_cluster_LP.drop(\n",
    "    [\n",
    "        \"N_INDIVIDUOS_RESIDENT\",\n",
    "        \"N_INDIV_RESIDENT_N_LER_ESCRV\",\n",
    "        \"N_IND_RESIDENT_FENSINO_1BAS\",\n",
    "        \"N_IND_RESIDENT_FENSINO_2BAS\",\n",
    "        \"N_IND_RESIDENT_FENSINO_3BAS\",\n",
    "        \"N_IND_RESIDENT_FENSINO_SEC\",\n",
    "        \"N_IND_RESIDENT_FENSINO_POSSEC\",\n",
    "        \"N_IND_RESIDENT_FENSINO_SUP\",\n",
    "        \"N_IND_RESIDENT_ENSINCOMP_1BAS\",\n",
    "        \"N_IND_RESIDENT_ENSINCOMP_2BAS\",\n",
    "        \"N_IND_RESIDENT_ENSINCOMP_3BAS\",\n",
    "        \"N_IND_RESIDENT_ENSINCOMP_SEC\",\n",
    "        \"N_IND_RESIDENT_ENSINCOMP_POSEC\",\n",
    "        \"N_IND_RESIDENT_ENSINCOMP_SUP\",\n",
    "        \"N_IND_RESID_DESEMP_PROC_1EMPRG\",\n",
    "        \"N_IND_RESID_DESEMP_PROC_EMPRG\",\n",
    "        \"N_IND_RESID_EMPREGADOS\",\n",
    "        \"N_IND_RESID_PENS_REFORM\",\n",
    "        \"N_IND_RESID_SEM_ACT_ECON\",\n",
    "        \"N_IND_RESID_EMPREG_SECT_PRIM\",\n",
    "        \"N_IND_RESID_EMPREG_SECT_SEQ\",\n",
    "        \"N_IND_RESID_EMPREG_SECT_TERC\",\n",
    "        \"N_IND_RESID_ESTUD_MUN_RESID\",\n",
    "        \"N_IND_RESID_TRAB_MUN_RESID\",\n",
    "    ],\n",
    "    axis=1,\n",
    "    inplace=True,\n",
    ")"
   ]
  },
  {
   "cell_type": "code",
   "execution_count": null,
   "metadata": {},
   "outputs": [],
   "source": [
    "bgri_cluster_LP.shape"
   ]
  },
  {
   "cell_type": "code",
   "execution_count": null,
   "metadata": {},
   "outputs": [],
   "source": [
    "bgri_cluster_LP.head()"
   ]
  },
  {
   "cell_type": "code",
   "execution_count": null,
   "metadata": {},
   "outputs": [],
   "source": [
    "a = list(bgri_cluster_LP.columns)"
   ]
  },
  {
   "cell_type": "code",
   "execution_count": null,
   "metadata": {},
   "outputs": [],
   "source": [
    "# retirar o primeiro elemento da lista, para poder standardizar os dados (a servirá como lista de indicadores no próximo passo)\n",
    "a = a[3:]"
   ]
  },
  {
   "cell_type": "code",
   "execution_count": null,
   "metadata": {},
   "outputs": [],
   "source": [
    "a"
   ]
  },
  {
   "cell_type": "code",
   "execution_count": null,
   "metadata": {},
   "outputs": [],
   "source": [
    "# Standardizing the features\n",
    "scaler = StandardScaler()\n",
    "bgri_cluster_LP[a] = StandardScaler().fit_transform(bgri_cluster_LP[a])"
   ]
  },
  {
   "cell_type": "code",
   "execution_count": null,
   "metadata": {},
   "outputs": [],
   "source": [
    "bgri_cluster_LP.head()"
   ]
  },
  {
   "cell_type": "code",
   "execution_count": null,
   "metadata": {},
   "outputs": [],
   "source": [
    "bgri_cluster_LP.fillna(0, inplace=True)"
   ]
  },
  {
   "cell_type": "code",
   "execution_count": null,
   "metadata": {},
   "outputs": [],
   "source": [
    "X_pca = bgri_cluster_LP[a]"
   ]
  },
  {
   "cell_type": "code",
   "execution_count": null,
   "metadata": {},
   "outputs": [],
   "source": [
    "# rotina para verificar quais os pontos que apresentam NaN após a standardização - esses pontos, ou as linhas às quais pertencem, serão excluídas\n",
    "\n",
    "# primeira iteração do código tinha o bloco \"bgri_cluster.drop([24, 32, 47, 94, 101], axis=0, inplace=True)\" não implementado, resultando numa\n",
    "# lista de linhas com pontos NaN - essas linhas são então descartadas, eliminando o problema verificado na Fatorização\n",
    "\n",
    "x, y = sp.coo_matrix(bgri_cluster_LP.isnull()).nonzero()\n",
    "print(set(x))"
   ]
  },
  {
   "cell_type": "code",
   "execution_count": null,
   "metadata": {},
   "outputs": [],
   "source": [
    "# rotinas utilizadas para verificar a presença de NaNs - linhas dropadas\n",
    "\n",
    "# set de pontos (X) com NaNs depois do standardscaler()\n",
    "# este output só aparece se o bloco \"bgri_cluster.drop([10, 14, 49, 56, 59, 61, 62], axis=0, inplace=True)\" não estiver implementado\n",
    "\n",
    "\n",
    "# {10, 14, 49, 56, 59, 61, 62}"
   ]
  },
  {
   "cell_type": "code",
   "execution_count": null,
   "metadata": {},
   "outputs": [],
   "source": [
    "bgri_cluster_LP"
   ]
  },
  {
   "cell_type": "code",
   "execution_count": null,
   "metadata": {},
   "outputs": [],
   "source": [
    "clusters_lp[\"Cluster_LP\"] = clusters_lp[\"Cluster_LP\"].astype(\"int64\")\n",
    "bgri_cluster_LP[\"Cluster_LP\"] = bgri_cluster_LP[\"Cluster_LP\"].astype(\"int64\")\n",
    "clusters_lp.reset_index(drop=True, inplace=True)\n",
    "bgri_cluster_LP.reset_index(drop=True, inplace=True)"
   ]
  },
  {
   "cell_type": "code",
   "execution_count": null,
   "metadata": {},
   "outputs": [],
   "source": [
    "# filter clusters file, based on the bgri_cluster file (clusters existing in bgri_cluster)\n",
    "clusters_lp = clusters_lp.loc[\n",
    "    clusters_lp[\"Cluster_LP\"].isin(bgri_cluster_LP[\"Cluster_LP\"])\n",
    "]\n",
    "clusters_lug = clusters_lug.loc[clusters_lug[\"LUG11\"].isin(clusters_lug[\"LUG11\"])]\n",
    "clusters_fr = clusters_fr.loc[clusters_fr[\"FR11\"].isin(clusters_fr[\"FR11\"])]"
   ]
  },
  {
   "cell_type": "code",
   "execution_count": null,
   "metadata": {},
   "outputs": [],
   "source": [
    "clusters_lp.reset_index(drop=True, inplace=True)\n",
    "bgri_cluster_LP.reset_index(drop=True, inplace=True)"
   ]
  },
  {
   "cell_type": "code",
   "execution_count": null,
   "metadata": {},
   "outputs": [],
   "source": [
    "clusters_lp"
   ]
  },
  {
   "cell_type": "code",
   "execution_count": null,
   "metadata": {},
   "outputs": [],
   "source": [
    "len(bgri_cluster_LP.Cluster_LP.unique())"
   ]
  },
  {
   "cell_type": "code",
   "execution_count": null,
   "metadata": {},
   "outputs": [],
   "source": [
    "clusters_lp.shape"
   ]
  },
  {
   "attachments": {},
   "cell_type": "markdown",
   "metadata": {},
   "source": [
    "### 2.2 Factorization (socioeconomic variables)\n"
   ]
  },
  {
   "cell_type": "code",
   "execution_count": null,
   "metadata": {},
   "outputs": [],
   "source": [
    "# PCA para os indicadores de habitação\n",
    "pca = PCA(n_components=20)\n",
    "\n",
    "principalComponents = pca.fit_transform(X_pca)\n",
    "\n",
    "principalDf = pd.DataFrame(\n",
    "    data=principalComponents,\n",
    "    columns=[\n",
    "        \"PCA_1\",\n",
    "        \"PCA_2\",\n",
    "        \"PCA_3\",\n",
    "        \"PCA_4\",\n",
    "        \"PCA_5\",\n",
    "        \"PCA_6\",\n",
    "        \"PCA_7\",\n",
    "        \"PCA_8\",\n",
    "        \"PCA_9\",\n",
    "        \"PCA_10\",\n",
    "        \"PCA_11\",\n",
    "        \"PCA_12\",\n",
    "        \"PCA_13\",\n",
    "        \"PCA_14\",\n",
    "        \"PCA_15\",\n",
    "        \"PCA_16\",\n",
    "        \"PCA_17\",\n",
    "        \"PCA_18\",\n",
    "        \"PCA_19\",\n",
    "        \"PCA_20\",\n",
    "    ],\n",
    ")"
   ]
  },
  {
   "cell_type": "code",
   "execution_count": null,
   "metadata": {},
   "outputs": [],
   "source": [
    "# variância explicada\n",
    "sum(pca.explained_variance_ratio_)"
   ]
  },
  {
   "cell_type": "code",
   "execution_count": null,
   "metadata": {},
   "outputs": [],
   "source": [
    "pca.explained_variance_ratio_"
   ]
  },
  {
   "cell_type": "code",
   "execution_count": null,
   "metadata": {},
   "outputs": [],
   "source": [
    "# eigenvalues, todos superiores a 1\n",
    "pca.explained_variance_"
   ]
  },
  {
   "cell_type": "code",
   "execution_count": null,
   "metadata": {},
   "outputs": [],
   "source": [
    "# olhando para eigenvalues e scree plot, decidiu-se optar por usar eigenvalues superior a 1 para o PCA\n",
    "# poderia ter sido utilizado outro método, como o elbow method, mas este é mais simples e intuitivo e garante mais de 80% da variância explicada\n",
    "\n",
    "PC_values = np.arange(pca.n_components) + 1\n",
    "plt.plot(PC_values, pca.explained_variance_, \"o-\", linewidth=2, color=\"blue\")\n",
    "plt.title(\"Scree Plot\")\n",
    "plt.xlabel(\"Principal Component\")\n",
    "plt.ylabel(\"Variance Explained\")\n",
    "plt.show()"
   ]
  },
  {
   "cell_type": "code",
   "execution_count": null,
   "metadata": {},
   "outputs": [],
   "source": [
    "# PCA para os indicadores de habitação\n",
    "pca = PCA(n_components=17)\n",
    "\n",
    "principalComponents = pca.fit_transform(X_pca)\n",
    "\n",
    "principalDf = pd.DataFrame(\n",
    "    data=principalComponents,\n",
    "    columns=[\n",
    "        \"PCA_1\",\n",
    "        \"PCA_2\",\n",
    "        \"PCA_3\",\n",
    "        \"PCA_4\",\n",
    "        \"PCA_5\",\n",
    "        \"PCA_6\",\n",
    "        \"PCA_7\",\n",
    "        \"PCA_8\",\n",
    "        \"PCA_9\",\n",
    "        \"PCA_10\",\n",
    "        \"PCA_11\",\n",
    "        \"PCA_12\",\n",
    "        \"PCA_13\",\n",
    "        \"PCA_14\",\n",
    "        \"PCA_15\",\n",
    "        \"PCA_16\",\n",
    "        \"PCA_17\",\n",
    "    ],\n",
    ")"
   ]
  },
  {
   "cell_type": "code",
   "execution_count": null,
   "metadata": {},
   "outputs": [],
   "source": [
    "loadings = pd.DataFrame(\n",
    "    pca.components_.T,\n",
    "    columns=[\n",
    "        \"PCA_1\",\n",
    "        \"PCA_2\",\n",
    "        \"PCA_3\",\n",
    "        \"PCA_4\",\n",
    "        \"PCA_5\",\n",
    "        \"PCA_6\",\n",
    "        \"PCA_7\",\n",
    "        \"PCA_8\",\n",
    "        \"PCA_9\",\n",
    "        \"PCA_10\",\n",
    "        \"PCA_11\",\n",
    "        \"PCA_12\",\n",
    "        \"PCA_13\",\n",
    "        \"PCA_14\",\n",
    "        \"PCA_15\",\n",
    "        \"PCA_16\",\n",
    "        \"PCA_17\",\n",
    "    ],\n",
    "    index=X_pca.columns,\n",
    ")"
   ]
  },
  {
   "cell_type": "code",
   "execution_count": null,
   "metadata": {},
   "outputs": [],
   "source": [
    "bgri_cluster_LP.reset_index(inplace=True, drop=True)"
   ]
  },
  {
   "cell_type": "code",
   "execution_count": null,
   "metadata": {},
   "outputs": [],
   "source": [
    "principalDf.shape"
   ]
  },
  {
   "cell_type": "code",
   "execution_count": null,
   "metadata": {},
   "outputs": [],
   "source": [
    "# Concatenar os dados\n",
    "bgri_cluster_LP = pd.concat([bgri_cluster_LP, principalDf], axis=1)"
   ]
  },
  {
   "cell_type": "code",
   "execution_count": null,
   "metadata": {},
   "outputs": [],
   "source": [
    "bgri_cluster_LP.shape"
   ]
  },
  {
   "cell_type": "code",
   "execution_count": null,
   "metadata": {},
   "outputs": [],
   "source": [
    "bgri_cluster_LP.drop(columns=[\"FR11\", \"LUG11\"], inplace=True)"
   ]
  },
  {
   "cell_type": "code",
   "execution_count": null,
   "metadata": {},
   "outputs": [],
   "source": [
    "bgri_cluster_LP"
   ]
  },
  {
   "attachments": {},
   "cell_type": "markdown",
   "metadata": {},
   "source": [
    "#### 2.2.a PCA Loadings\n"
   ]
  },
  {
   "cell_type": "code",
   "execution_count": null,
   "metadata": {},
   "outputs": [],
   "source": [
    "# view loadings for first principal component group\n",
    "loadings"
   ]
  },
  {
   "attachments": {},
   "cell_type": "markdown",
   "metadata": {},
   "source": [
    "### 2.3 Dentrogram (socioeconomic variables)\n"
   ]
  },
  {
   "cell_type": "code",
   "execution_count": null,
   "metadata": {},
   "outputs": [],
   "source": [
    "# calculo do dendrograma com método ward\n",
    "dendrogram = sch.dendrogram(\n",
    "    sch.linkage(\n",
    "        bgri_cluster_LP[\n",
    "            [\n",
    "                \"PCA_1\",\n",
    "                \"PCA_2\",\n",
    "                \"PCA_3\",\n",
    "                \"PCA_4\",\n",
    "                \"PCA_5\",\n",
    "                \"PCA_6\",\n",
    "                \"PCA_7\",\n",
    "                \"PCA_8\",\n",
    "                \"PCA_9\",\n",
    "                \"PCA_10\",\n",
    "                \"PCA_11\",\n",
    "                \"PCA_12\",\n",
    "                \"PCA_13\",\n",
    "                \"PCA_14\",\n",
    "                \"PCA_15\",\n",
    "                \"PCA_16\",\n",
    "                \"PCA_17\",\n",
    "            ]\n",
    "        ],\n",
    "        method=\"ward\",\n",
    "    )\n",
    ")\n",
    "plt.title(\"Dendrograma\")\n",
    "plt.xlabel(\"Clientes\")\n",
    "plt.ylabel(\"Distâncias Euclidianas\")\n",
    "plt.axhline(16.2, color=\"red\", linestyle=\"--\", linewidth=1)\n",
    "plt.grid(False)\n",
    "plt.show()"
   ]
  },
  {
   "cell_type": "code",
   "execution_count": null,
   "metadata": {},
   "outputs": [],
   "source": [
    "# number of clusters suggested by the dendrogram\n",
    "n_clusters = 9"
   ]
  },
  {
   "attachments": {},
   "cell_type": "markdown",
   "metadata": {},
   "source": [
    "## 3. Clustering\n"
   ]
  },
  {
   "attachments": {},
   "cell_type": "markdown",
   "metadata": {},
   "source": [
    "### 3.1 Ward Linkage\n"
   ]
  },
  {
   "cell_type": "code",
   "execution_count": null,
   "metadata": {},
   "outputs": [],
   "source": [
    "# Agglomerative Clustering, no contiguity matrix, ward linkage\n",
    "hc = AgglomerativeClustering(n_clusters=n_clusters, linkage=\"ward\")"
   ]
  },
  {
   "cell_type": "code",
   "execution_count": null,
   "metadata": {},
   "outputs": [],
   "source": [
    "y_hc = hc.fit_predict(bgri_cluster_LP)"
   ]
  },
  {
   "cell_type": "code",
   "execution_count": null,
   "metadata": {},
   "outputs": [],
   "source": [
    "# write labels in our dataframe\n",
    "bgri_cluster_LP[\"Zona_Ward\"] = y_hc.T"
   ]
  },
  {
   "cell_type": "code",
   "execution_count": null,
   "metadata": {},
   "outputs": [],
   "source": [
    "bgri_cluster_LP.head()"
   ]
  },
  {
   "cell_type": "code",
   "execution_count": null,
   "metadata": {},
   "outputs": [],
   "source": [
    "# prepare data for merging\n",
    "bgri_cluster2 = bgri_cluster_LP.iloc[:, -18:]"
   ]
  },
  {
   "cell_type": "code",
   "execution_count": null,
   "metadata": {},
   "outputs": [],
   "source": [
    "bgri_cluster2"
   ]
  },
  {
   "cell_type": "code",
   "execution_count": null,
   "metadata": {},
   "outputs": [],
   "source": [
    "# prepare data for merging\n",
    "bgri_cluster3 = bgri_cluster_LP.iloc[:, :1]"
   ]
  },
  {
   "cell_type": "code",
   "execution_count": null,
   "metadata": {},
   "outputs": [],
   "source": [
    "bgri_cluster3"
   ]
  },
  {
   "cell_type": "code",
   "execution_count": null,
   "metadata": {},
   "outputs": [],
   "source": [
    "# concatenate dataframes\n",
    "bgri_cluster_LP = pd.concat([bgri_cluster2, bgri_cluster3], axis=1)"
   ]
  },
  {
   "cell_type": "code",
   "execution_count": null,
   "metadata": {},
   "outputs": [],
   "source": [
    "bgri_cluster_LP.head()"
   ]
  },
  {
   "cell_type": "code",
   "execution_count": null,
   "metadata": {},
   "outputs": [],
   "source": [
    "# merge relevant data (resulting from the PCA) with the cluster dataframe\n",
    "clusters_lp = clusters_lp.merge(bgri_cluster_LP, how=\"left\", on=\"Cluster_LP\")"
   ]
  },
  {
   "cell_type": "code",
   "execution_count": null,
   "metadata": {},
   "outputs": [],
   "source": [
    "clusters_lp.head()"
   ]
  },
  {
   "cell_type": "code",
   "execution_count": null,
   "metadata": {},
   "outputs": [],
   "source": [
    "clusters_lp.shape"
   ]
  },
  {
   "cell_type": "code",
   "execution_count": null,
   "metadata": {},
   "outputs": [],
   "source": [
    "# remove the column with the cluster Zona Ward labels\n",
    "bgri_cluster_LP.drop([\"Zona_Ward\"], axis=1, inplace=True)"
   ]
  },
  {
   "cell_type": "code",
   "execution_count": null,
   "metadata": {},
   "outputs": [],
   "source": [
    "# print the result from the clustering done above\n",
    "ax = clusters_lp.plot(\n",
    "    figsize=(10, 10),\n",
    "    column=\"Zona_Ward\",\n",
    "    categorical=True,\n",
    "    edgecolor=\"b\",\n",
    "    legend=True,\n",
    "    linewidth=0.2,\n",
    "    cmap=\"tab20\",\n",
    ")\n",
    "cx.add_basemap(ax, crs=clusters_lp.crs, source=cx.providers.OpenStreetMap.Mapnik)\n",
    "plt.title(\"Clusterização - Ward Linkage. Clusters = {}\".format(n_clusters), fontsize=16)"
   ]
  },
  {
   "attachments": {},
   "cell_type": "markdown",
   "metadata": {},
   "source": [
    "### 3.2 Ward Linkage + Queen Contiguity\n"
   ]
  },
  {
   "cell_type": "code",
   "execution_count": null,
   "metadata": {},
   "outputs": [],
   "source": [
    "# Contiguity matrix Queen\n",
    "RANDOM_SEED = 123456\n",
    "\n",
    "wqueen = Queen.from_dataframe(clusters_lp)"
   ]
  },
  {
   "cell_type": "code",
   "execution_count": null,
   "metadata": {},
   "outputs": [],
   "source": [
    "# Contiguity matrix Queen (arry like)\n",
    "df = pd.DataFrame(*wqueen.full()).astype(int)\n",
    "\n",
    "arr = df.to_numpy()\n",
    "\n",
    "arr2d = np.transpose(arr)"
   ]
  },
  {
   "cell_type": "code",
   "execution_count": null,
   "metadata": {},
   "outputs": [],
   "source": [
    "wqueen.set_transform(\"R\")"
   ]
  },
  {
   "cell_type": "code",
   "execution_count": null,
   "metadata": {},
   "outputs": [],
   "source": [
    "plot_queen = plot_spatial_weights(wqueen, clusters_lp)\n",
    "plt.title(\n",
    "    \"Matriz de Contiguidade 'Queen' aplicada às unidades territoriais base\", fontsize=14\n",
    ")\n",
    "plt.show()"
   ]
  },
  {
   "cell_type": "code",
   "execution_count": null,
   "metadata": {},
   "outputs": [],
   "source": [
    "# Vamos repetir o processo para o método de Ward matriz de contiguidade\n",
    "\n",
    "hc2 = AgglomerativeClustering(n_clusters=n_clusters, linkage=\"ward\", connectivity=arr2d)\n",
    "y_hc2 = hc2.fit_predict(bgri_cluster_LP)\n",
    "clusters_lp[\"Zona_Ward_Queen\"] = y_hc2.T"
   ]
  },
  {
   "cell_type": "code",
   "execution_count": null,
   "metadata": {},
   "outputs": [],
   "source": [
    "clusters_lp.head()"
   ]
  },
  {
   "cell_type": "code",
   "execution_count": null,
   "metadata": {},
   "outputs": [],
   "source": [
    "# print the result from the clustering done above\n",
    "ax = clusters_lp.plot(\n",
    "    figsize=(10, 10),\n",
    "    column=\"Zona_Ward_Queen\",\n",
    "    categorical=True,\n",
    "    edgecolor=\"b\",\n",
    "    legend=True,\n",
    "    linewidth=0.2,\n",
    "    cmap=\"tab20\",\n",
    ")\n",
    "cx.add_basemap(ax, crs=clusters_lp.crs, source=cx.providers.OpenStreetMap.Mapnik)\n",
    "plt.title(\n",
    "    \"Clusterização - Ward Linkage. Matriz contiguidade Queen. Clusters = {}\".format(\n",
    "        n_clusters\n",
    "    ),\n",
    "    fontsize=14,\n",
    ")"
   ]
  },
  {
   "attachments": {},
   "cell_type": "markdown",
   "metadata": {},
   "source": [
    "### 3.3 Max-P Regionalization\n",
    "\n",
    "https://www.tandfonline.com/doi/full/10.1080/13658816.2020.1759806\n",
    "\n",
    "https://www.youtube.com/watch?v=HFVKHej1EOc&ab_channel=GeoDaSoftware\n",
    "\n",
    "https://pysal.org/spopt/generated/spopt.region.MaxPHeuristic.html#spopt.region.MaxPHeuristic\n",
    "\n",
    "https://pysal.org/spopt/notebooks/maxp.html\n",
    "\n",
    "É necessário definir a lista de atributos, matriz de pesos espaciais, threshold, threshold_name e o top_n.\n"
   ]
  },
  {
   "cell_type": "code",
   "execution_count": null,
   "metadata": {},
   "outputs": [],
   "source": [
    "# load data (pickle) casasapo\n",
    "casasapo = pd.read_pickle(\"../Data/piclo_casasapo.piclo\")\n",
    "\n",
    "# load data (pickle) py\n",
    "py = pd.read_pickle(\"../Data/piclo_py.piclo\")"
   ]
  },
  {
   "cell_type": "code",
   "execution_count": null,
   "metadata": {},
   "outputs": [],
   "source": [
    "# definition of seed\n",
    "RANDOM_SEED = 123456"
   ]
  },
  {
   "cell_type": "code",
   "execution_count": null,
   "metadata": {},
   "outputs": [],
   "source": [
    "casasapo[\"a\"] = 1\n",
    "py[\"a\"] = 1"
   ]
  },
  {
   "cell_type": "code",
   "execution_count": null,
   "metadata": {},
   "outputs": [],
   "source": [
    "casasapo[\"Cluster_LP\"] = casasapo[\"Cluster_LP\"].astype(\"Int64\")"
   ]
  },
  {
   "cell_type": "code",
   "execution_count": null,
   "metadata": {},
   "outputs": [],
   "source": [
    "# preparation to calculate the number of dwellings per cluster\n",
    "df_subtotal_cs = pd.DataFrame()\n",
    "df_subtotal_py = pd.DataFrame()\n",
    "df_subtotal_cs = casasapo.groupby(\"Cluster_LP\", as_index=False)[[\"a\"]].agg(\"sum\")\n",
    "df_subtotal_py = py.groupby(\"Cluster_LP\", as_index=False)[[\"a\"]].agg(\"sum\")"
   ]
  },
  {
   "cell_type": "code",
   "execution_count": null,
   "metadata": {},
   "outputs": [],
   "source": [
    "# merge with clusters_lp dataframe\n",
    "clusters_lp = clusters_lp.merge(\n",
    "    df_subtotal_cs[[\"Cluster_LP\", \"a\"]], how=\"left\", on=\"Cluster_LP\"\n",
    ")\n",
    "clusters_lp = clusters_lp.merge(\n",
    "    df_subtotal_py[[\"Cluster_LP\", \"a\"]], how=\"left\", on=\"Cluster_LP\"\n",
    ")"
   ]
  },
  {
   "cell_type": "code",
   "execution_count": null,
   "metadata": {},
   "outputs": [],
   "source": [
    "# drop column 'a'\n",
    "casasapo.drop(columns=[\"a\"], inplace=True)\n",
    "py.drop(columns=[\"a\"], inplace=True)"
   ]
  },
  {
   "cell_type": "code",
   "execution_count": null,
   "metadata": {},
   "outputs": [],
   "source": [
    "# rename columns\n",
    "clusters_lp.rename(columns={\"a_x\": \"tot_cs\", \"a_y\": \"tot_py\"}, inplace=True)"
   ]
  },
  {
   "cell_type": "code",
   "execution_count": null,
   "metadata": {},
   "outputs": [],
   "source": [
    "clusters_lp.head()"
   ]
  },
  {
   "cell_type": "code",
   "execution_count": null,
   "metadata": {},
   "outputs": [],
   "source": [
    "clusters_lp[[\"tot_cs\", \"tot_py\"]].describe()"
   ]
  },
  {
   "cell_type": "code",
   "execution_count": null,
   "metadata": {},
   "outputs": [],
   "source": [
    "# define the minimum number of dwellings per cluster, pre and post intervention (casasapo and py)\n",
    "clusters_lp[\"tot_min\"] = clusters_lp[[\"tot_cs\", \"tot_py\"]].min(axis=1)"
   ]
  },
  {
   "cell_type": "code",
   "execution_count": null,
   "metadata": {},
   "outputs": [],
   "source": [
    "attrs_name = list(\n",
    "    clusters_lp[\n",
    "        [\n",
    "            \"PCA_1\",\n",
    "            \"PCA_2\",\n",
    "            \"PCA_3\",\n",
    "            \"PCA_4\",\n",
    "            \"PCA_5\",\n",
    "            \"PCA_6\",\n",
    "            \"PCA_7\",\n",
    "            \"PCA_8\",\n",
    "            \"PCA_9\",\n",
    "            \"PCA_10\",\n",
    "            \"PCA_11\",\n",
    "            \"PCA_12\",\n",
    "            \"PCA_13\",\n",
    "            \"PCA_14\",\n",
    "            \"PCA_15\",\n",
    "            \"PCA_16\",\n",
    "            \"PCA_17\",\n",
    "        ]\n",
    "    ]\n",
    ")"
   ]
  },
  {
   "cell_type": "code",
   "execution_count": null,
   "metadata": {},
   "outputs": [],
   "source": [
    "# minimum number of dwellings per cluster\n",
    "threshold = 102"
   ]
  },
  {
   "cell_type": "code",
   "execution_count": null,
   "metadata": {},
   "outputs": [],
   "source": [
    "# The number of top candidate regions to consider for enclave assignment.\n",
    "top_n = 3"
   ]
  },
  {
   "cell_type": "code",
   "execution_count": null,
   "metadata": {},
   "outputs": [],
   "source": [
    "# criteria for the alghoritm - number of dwellings per cluster\n",
    "threshold_name = \"tot_min\""
   ]
  },
  {
   "cell_type": "code",
   "execution_count": null,
   "metadata": {},
   "outputs": [],
   "source": [
    "# model with MaxP\n",
    "np.random.seed(RANDOM_SEED)\n",
    "model_maxp = MaxP(clusters_lp, wqueen, attrs_name, threshold_name, threshold, top_n)\n",
    "model_maxp.solve()"
   ]
  },
  {
   "cell_type": "code",
   "execution_count": null,
   "metadata": {},
   "outputs": [],
   "source": [
    "clusters_lp[\"Zona_Maxp\"] = model_maxp.labels_"
   ]
  },
  {
   "cell_type": "code",
   "execution_count": null,
   "metadata": {},
   "outputs": [],
   "source": [
    "clusters_lp[[\"Zona_Maxp\"]].groupby(by=\"Zona_Maxp\").count()"
   ]
  },
  {
   "cell_type": "code",
   "execution_count": null,
   "metadata": {},
   "outputs": [],
   "source": [
    "a = model_maxp.p\n",
    "a"
   ]
  },
  {
   "cell_type": "code",
   "execution_count": null,
   "metadata": {},
   "outputs": [],
   "source": [
    "# result from the Max-P Regionalization\n",
    "ax = clusters_lp.plot(\n",
    "    figsize=(10, 10),\n",
    "    column=\"Zona_Maxp\",\n",
    "    categorical=True,\n",
    "    edgecolor=\"b\",\n",
    "    legend=True,\n",
    "    linewidth=0.2,\n",
    "    cmap=\"tab10\",\n",
    ")\n",
    "cx.add_basemap(ax, crs=clusters_lp.crs, source=cx.providers.OpenStreetMap.Mapnik)\n",
    "plt.title(\n",
    "    \"Clusterização - Max-P. Threshold = %s imóveis. Clusters = %s\" % (threshold, a),\n",
    "    fontsize=16,\n",
    ")"
   ]
  },
  {
   "cell_type": "code",
   "execution_count": null,
   "metadata": {},
   "outputs": [],
   "source": [
    "clusters_lp.head()"
   ]
  },
  {
   "attachments": {},
   "cell_type": "markdown",
   "metadata": {},
   "source": [
    "### 3.4 SKATER (Spatial ’K’luster Analysis by Tree Edge Removal)\n",
    "\n",
    "https://www.tandfonline.com/doi/full/10.1080/13658810600665111\n",
    "\n",
    "https://pysal.org/spopt/notebooks/skater.html\n",
    "\n",
    "https://pysal.org/spopt/generated/spopt.region.Skater.html#spopt.region.Skater\n",
    "\n",
    "https://www.dshkol.com/post/spatially-constrained-clustering-and-regionalization/\n"
   ]
  },
  {
   "cell_type": "code",
   "execution_count": null,
   "metadata": {},
   "outputs": [],
   "source": [
    "# minimum number of zones per cluster\n",
    "floor = 3"
   ]
  },
  {
   "cell_type": "code",
   "execution_count": null,
   "metadata": {},
   "outputs": [],
   "source": [
    "# Flag denoting whether to store intermediate labelings as the tree gets pruned. (default False)\n",
    "trace = False"
   ]
  },
  {
   "cell_type": "code",
   "execution_count": null,
   "metadata": {},
   "outputs": [],
   "source": [
    "# Description of what to do with islands. If 'ignore', the algorithm will discover n_clusters regions, treating islands as their own regions.\n",
    "# If “increase”, the algorithm will discover n_clusters regions, treating islands as separate from n_clusters. (default ‘increase’)\n",
    "islands = \"increase\""
   ]
  },
  {
   "cell_type": "code",
   "execution_count": null,
   "metadata": {},
   "outputs": [],
   "source": [
    "# standard definition for the spannig tree algorithm\n",
    "default = dict(\n",
    "    dissimilarity=skm.manhattan_distances,\n",
    "    affinity=None,\n",
    "    reduction=np.sum,\n",
    "    center=np.mean,\n",
    "    verbose=False,\n",
    ")"
   ]
  },
  {
   "cell_type": "code",
   "execution_count": null,
   "metadata": {},
   "outputs": [],
   "source": [
    "# model using the skater algorithm\n",
    "model_skater = spopt.region.Skater(\n",
    "    clusters_lp,\n",
    "    wqueen,\n",
    "    attrs_name,\n",
    "    n_clusters=n_clusters,\n",
    "    floor=floor,\n",
    "    trace=trace,\n",
    "    islands=islands,\n",
    "    spanning_forest_kwds=default,\n",
    ")\n",
    "model_skater.solve()"
   ]
  },
  {
   "cell_type": "code",
   "execution_count": null,
   "metadata": {},
   "outputs": [],
   "source": [
    "# write skater cluster info\n",
    "clusters_lp[\"Zona_SKATER\"] = model_skater.labels_"
   ]
  },
  {
   "cell_type": "code",
   "execution_count": null,
   "metadata": {},
   "outputs": [],
   "source": [
    "# resulting number of clusters, for the graph title\n",
    "temp = len(clusters_lp[\"Zona_SKATER\"].unique())\n",
    "temp"
   ]
  },
  {
   "cell_type": "code",
   "execution_count": null,
   "metadata": {},
   "outputs": [],
   "source": [
    "# result of the SKATER Regionalization\n",
    "ax = clusters_lp.plot(\n",
    "    figsize=(10, 10),\n",
    "    column=\"Zona_SKATER\",\n",
    "    categorical=True,\n",
    "    edgecolor=\"b\",\n",
    "    legend=True,\n",
    "    linewidth=0.2,\n",
    "    cmap=\"tab20\",\n",
    ")\n",
    "cx.add_basemap(ax, crs=clusters_lp.crs, source=cx.providers.OpenStreetMap.Mapnik)\n",
    "plt.title(\"Clusterização - SKATER. Clusters = {}\".format(temp), fontsize=16)"
   ]
  },
  {
   "cell_type": "code",
   "execution_count": null,
   "metadata": {},
   "outputs": [],
   "source": [
    "# result of the SKATER Regionalization\n",
    "ax = clusters_lp.plot(\n",
    "    figsize=(10, 10),\n",
    "    column=\"Zona_SKATER\",\n",
    "    categorical=True,\n",
    "    legend=False,\n",
    "    linewidth=0.1,\n",
    "    cmap=\"tab20\",\n",
    ")\n",
    "cx.add_basemap(ax, crs=clusters_lp.crs, source=cx.providers.OpenStreetMap.Mapnik)\n",
    "ax.set_title(\"SKATER Clusters\", fontweight=\"bold\", fontsize=16)\n",
    "ax.set_axis_off()"
   ]
  },
  {
   "attachments": {},
   "cell_type": "markdown",
   "metadata": {},
   "source": [
    "# 4. Export Data to Pickle Files\n"
   ]
  },
  {
   "cell_type": "code",
   "execution_count": null,
   "metadata": {},
   "outputs": [],
   "source": [
    "# save data (pickle) bgri\n",
    "bgri_cluster.to_pickle(\"../Data/piclo_bgri_2.piclo\")"
   ]
  },
  {
   "cell_type": "code",
   "execution_count": null,
   "metadata": {},
   "outputs": [],
   "source": [
    "# save data (pickle) clusters\n",
    "clusters_lp.to_pickle(\"../Data/piclo_clusters_2.piclo\")"
   ]
  },
  {
   "attachments": {},
   "cell_type": "markdown",
   "metadata": {},
   "source": [
    "# 5. Cluster Metrics\n",
    "\n",
    "Neste Link podem ser encontrados os métodos de avaliação de clusterização:\n",
    "https://scikit-learn.org/stable/modules/clustering.html#clustering-performance-evaluation\n",
    "\n",
    "https://scikit-learn.org/stable/modules/generated/sklearn.metrics.silhouette_score.html\n",
    "\n",
    "https://journals.sagepub.com/doi/10.1177/2399808319875752\n",
    "\n",
    "https://pysal.org/esda/notebooks/geosilhouettes.html\n",
    "\n",
    "https://www.scikit-yb.org/en/latest/index.html\n"
   ]
  },
  {
   "cell_type": "code",
   "execution_count": null,
   "metadata": {},
   "outputs": [],
   "source": [
    "x_val = clusters_lp[\n",
    "    [\n",
    "        \"PCA_1\",\n",
    "        \"PCA_2\",\n",
    "        \"PCA_3\",\n",
    "        \"PCA_4\",\n",
    "        \"PCA_5\",\n",
    "        \"PCA_6\",\n",
    "        \"PCA_7\",\n",
    "        \"PCA_8\",\n",
    "        \"PCA_9\",\n",
    "        \"PCA_10\",\n",
    "        \"PCA_11\",\n",
    "        \"PCA_12\",\n",
    "        \"PCA_13\",\n",
    "        \"PCA_14\",\n",
    "        \"PCA_15\",\n",
    "        \"PCA_16\",\n",
    "        \"PCA_17\",\n",
    "    ]\n",
    "]"
   ]
  },
  {
   "cell_type": "code",
   "execution_count": null,
   "metadata": {},
   "outputs": [],
   "source": [
    "clusters_lp.head()"
   ]
  },
  {
   "attachments": {},
   "cell_type": "markdown",
   "metadata": {},
   "source": [
    "## 5.1 - Metrics - Ward Linkage\n"
   ]
  },
  {
   "cell_type": "code",
   "execution_count": null,
   "metadata": {},
   "outputs": [],
   "source": [
    "score_ward = silhouette_score(x_val, clusters_lp.Zona_Ward, metric=\"manhattan\")"
   ]
  },
  {
   "cell_type": "code",
   "execution_count": null,
   "metadata": {},
   "outputs": [],
   "source": [
    "silhouettes_ward = silhouette_samples(x_val, clusters_lp.Zona_Ward)"
   ]
  },
  {
   "attachments": {},
   "cell_type": "markdown",
   "metadata": {},
   "source": [
    "## 5.2 - Metrics - Ward Linkage + Queen Contiguity\n"
   ]
  },
  {
   "cell_type": "code",
   "execution_count": null,
   "metadata": {},
   "outputs": [],
   "source": [
    "score_ward_queen = silhouette_score(\n",
    "    x_val, clusters_lp.Zona_Ward_Queen, metric=\"manhattan\"\n",
    ")"
   ]
  },
  {
   "cell_type": "code",
   "execution_count": null,
   "metadata": {},
   "outputs": [],
   "source": [
    "silhouettes_ward_queen = silhouette_samples(x_val, clusters_lp.Zona_Ward_Queen)"
   ]
  },
  {
   "attachments": {},
   "cell_type": "markdown",
   "metadata": {},
   "source": [
    "## 5.3 - Metrics - Max-P Regionalization\n"
   ]
  },
  {
   "cell_type": "code",
   "execution_count": null,
   "metadata": {},
   "outputs": [],
   "source": [
    "score_maxp = silhouette_score(x_val, clusters_lp.Zona_Maxp, metric=\"manhattan\")"
   ]
  },
  {
   "cell_type": "code",
   "execution_count": null,
   "metadata": {},
   "outputs": [],
   "source": [
    "silhouettes_maxp = silhouette_samples(x_val, clusters_lp.Zona_Maxp)"
   ]
  },
  {
   "attachments": {},
   "cell_type": "markdown",
   "metadata": {},
   "source": [
    "## 5.4 - Metrics - SKATER (Spatial ’K’luster Analysis by Tree Edge Removal)\n"
   ]
  },
  {
   "cell_type": "code",
   "execution_count": null,
   "metadata": {},
   "outputs": [],
   "source": [
    "score_skater = silhouette_score(x_val, clusters_lp.Zona_SKATER, metric=\"manhattan\")"
   ]
  },
  {
   "cell_type": "code",
   "execution_count": null,
   "metadata": {},
   "outputs": [],
   "source": [
    "silhouettes_skater = silhouette_samples(x_val, clusters_lp.Zona_SKATER)"
   ]
  },
  {
   "attachments": {},
   "cell_type": "markdown",
   "metadata": {},
   "source": [
    "## 5.5 - Metrics - Clustering - Comparison\n"
   ]
  },
  {
   "attachments": {},
   "cell_type": "markdown",
   "metadata": {},
   "source": [
    "### 5.5.1 - Comparison - Silhouette Score (average) - Sklearn\n"
   ]
  },
  {
   "cell_type": "code",
   "execution_count": null,
   "metadata": {},
   "outputs": [],
   "source": [
    "score = [score_ward, score_ward_queen, score_maxp, score_skater]\n",
    "method = [\"Ward\", \"Ward Queen\", \"Max-P\", \"SKATER\"]"
   ]
  },
  {
   "cell_type": "code",
   "execution_count": null,
   "metadata": {},
   "outputs": [],
   "source": [
    "# Plot dos histogramas das silhuetas para cada clusterização (média), para cada método de clusterização\n",
    "\n",
    "plt.bar(method, score)\n",
    "plt.xlabel(\"Método de Clusterização\", fontsize=12)\n",
    "plt.ylabel(\"Coeficiente\", fontsize=12)\n",
    "plt.title(\"Coeficiente da Silhueta (média)\", fontsize=16)\n",
    "plt.grid(False)\n",
    "plt.show()"
   ]
  },
  {
   "attachments": {},
   "cell_type": "markdown",
   "metadata": {},
   "source": [
    "### 5.5.2 - Comparison - Silhouette Score (Samples) - Sklearn\n"
   ]
  },
  {
   "cell_type": "code",
   "execution_count": null,
   "metadata": {},
   "outputs": [],
   "source": [
    "# Plot dos histogramas das silhuetas para cada cluster, para cada método de clusterização, com a média de cada cluster\n",
    "\n",
    "f, ax = plt.subplots(4, 2, figsize=(8, 12))\n",
    "ax[0, 0].hist(silhouettes_ward)\n",
    "clusters_lp.plot(\n",
    "    silhouettes_ward, ax=ax[0, 1], cmap=\"viridis\", vmin=-0.5, vmax=0.5, legend=True\n",
    ")\n",
    "ax[1, 0].hist(silhouettes_ward_queen)\n",
    "clusters_lp.plot(\n",
    "    silhouettes_ward_queen,\n",
    "    ax=ax[1, 1],\n",
    "    cmap=\"viridis\",\n",
    "    vmin=-0.5,\n",
    "    vmax=0.5,\n",
    "    legend=True,\n",
    ")\n",
    "ax[2, 0].hist(silhouettes_maxp)\n",
    "clusters_lp.plot(\n",
    "    silhouettes_maxp, ax=ax[2, 1], cmap=\"viridis\", vmin=-0.5, vmax=0.5, legend=True\n",
    ")\n",
    "ax[3, 0].hist(silhouettes_skater)\n",
    "clusters_lp.plot(\n",
    "    silhouettes_skater, ax=ax[3, 1], cmap=\"viridis\", vmin=-0.5, vmax=0.5, legend=True\n",
    ")\n",
    "ax[0, 0].set_title(\"Ward - Coeficiente de Silhueta\")\n",
    "ax[0, 0].grid(False)\n",
    "ax[0, 1].set_title(\"Ward - Coeficiente de Silhueta\")\n",
    "ax[0, 1].axes.get_xaxis().set_visible(False)\n",
    "ax[0, 1].axes.get_yaxis().set_visible(False)\n",
    "ax[1, 0].set_title(\"Ward + Queen - Coeficiente de Silhueta\")\n",
    "ax[1, 0].grid(False)\n",
    "ax[1, 1].set_title(\"Ward + Queen - Coeficiente de Silhueta\")\n",
    "ax[1, 1].axes.get_xaxis().set_visible(False)\n",
    "ax[1, 1].axes.get_yaxis().set_visible(False)\n",
    "ax[2, 0].set_title(\"Max-P - Coeficiente de Silhueta\")\n",
    "ax[2, 0].grid(False)\n",
    "ax[2, 1].set_title(\"Max-P - Coeficiente de Silhueta\")\n",
    "ax[2, 1].axes.get_xaxis().set_visible(False)\n",
    "ax[2, 1].axes.get_yaxis().set_visible(False)\n",
    "ax[3, 0].set_title(\"SKATER - Coeficiente de Silhueta\")\n",
    "ax[3, 0].grid(False)\n",
    "ax[3, 1].set_title(\"SKATER - Coeficiente de Silhueta\")\n",
    "ax[3, 1].axes.get_xaxis().set_visible(False)\n",
    "ax[3, 1].axes.get_yaxis().set_visible(False)\n",
    "f.tight_layout()\n",
    "plt.show()"
   ]
  }
 ],
 "metadata": {
  "kernelspec": {
   "display_name": "Thesis",
   "language": "python",
   "name": "python3"
  },
  "language_info": {
   "codemirror_mode": {
    "name": "ipython",
    "version": 3
   },
   "file_extension": ".py",
   "mimetype": "text/x-python",
   "name": "python",
   "nbconvert_exporter": "python",
   "pygments_lexer": "ipython3",
   "version": "3.12.7"
  },
  "orig_nbformat": 4
 },
 "nbformat": 4,
 "nbformat_minor": 2
}
