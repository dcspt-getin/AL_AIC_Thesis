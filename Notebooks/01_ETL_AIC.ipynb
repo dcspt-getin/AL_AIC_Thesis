{
 "cells": [
  {
   "attachments": {},
   "cell_type": "markdown",
   "metadata": {},
   "source": [
    "# ETL (extract, transform, load)\n"
   ]
  },
  {
   "attachments": {},
   "cell_type": "markdown",
   "metadata": {},
   "source": [
    "## 1. Importing Data\n"
   ]
  },
  {
   "cell_type": "code",
   "execution_count": null,
   "metadata": {},
   "outputs": [],
   "source": [
    "# Import Libraries\n",
    "\n",
    "import json\n",
    "import pandas as pd\n",
    "import os\n",
    "import geopandas as gpd\n",
    "import plotly.express as px\n",
    "import matplotlib.pyplot as plt\n",
    "import numpy as np\n",
    "import fiona\n",
    "import contextily as cx\n",
    "import seaborn as sns\n",
    "import datetime\n",
    "\n",
    "\n",
    "os.environ[\"USE_PYGEOS\"] = \"0\""
   ]
  },
  {
   "cell_type": "code",
   "execution_count": null,
   "metadata": {},
   "outputs": [],
   "source": [
    "# Read the data from PrimeYield_2022 and CasaSapo_2000to2009 (OneDrive)\n",
    "\n",
    "a = open(\"../Data/energy_certifications.json\", encoding=\"utf-8\", errors=\"ignore\")\n",
    "b = open(\"../Data/conditions.json\", encoding=\"utf-8\", errors=\"ignore\")\n",
    "c = open(\"../Data/list_ids.json\", encoding=\"utf-8\", errors=\"ignore\")\n",
    "d = open(\"../Data/parishes.json\", encoding=\"utf-8\", errors=\"ignore\")\n",
    "e = open(\"../Data/sources.json\", encoding=\"utf-8\", errors=\"ignore\")\n",
    "f = open(\"../Data/types.json\", encoding=\"utf-8\", errors=\"ignore\")\n",
    "g = open(\"../Data/typologies.json\", encoding=\"utf-8\", errors=\"ignore\")\n",
    "h = open(\"../Data/agueda.json\", encoding=\"utf-8\", errors=\"ignore\")\n",
    "i = open(\"../Data/Albergaria-a-Velha.json\", encoding=\"utf-8\", errors=\"ignore\")\n",
    "j = open(\"../Data/Anadia.json\", encoding=\"utf-8\", errors=\"ignore\")\n",
    "k = open(\"../Data/aveiro.json\", encoding=\"utf-8\", errors=\"ignore\")\n",
    "l = open(\"../Data/Estarreja.json\", encoding=\"utf-8\", errors=\"ignore\")\n",
    "m = open(\"../Data/ilhavo.json\", encoding=\"utf-8\", errors=\"ignore\")\n",
    "n = open(\"../Data/Murtosa.json\", encoding=\"utf-8\", errors=\"ignore\")\n",
    "o = open(\"../Data/Oliveira do Bairro.json\", encoding=\"utf-8\", errors=\"ignore\")\n",
    "p = open(\"../Data/Ovar.json\", encoding=\"utf-8\", errors=\"ignore\")\n",
    "q = open(\"../Data/Sever do Vouga.json\", encoding=\"utf-8\", errors=\"ignore\")\n",
    "r = open(\"../Data/Vagos.json\", encoding=\"utf-8\", errors=\"ignore\")\n",
    "s = pd.read_csv(\"../Data/BD_JanelaDigital_2000to2009_withHeaders.txt\", sep=\"\\t\")\n",
    "t = pd.read_csv(\n",
    "    \"../Data/BDAVRILH_DONUT&PhdPB_VENDA_V20150624.csv\", encoding=\"latin\", sep=\";\"\n",
    ")\n",
    "u = pd.read_csv(\n",
    "    \"../Data/BGRI11_AVRILH_M1LABELS_LP_AdjMatGeoNetDist_v1.csv\",\n",
    "    encoding=\"latin\",\n",
    "    sep=\",\",\n",
    ")\n",
    "u_updated = pd.read_csv(\n",
    "    \"../Data/BGRI11_AVRILH_M1LABELS_LP_AdjMatGeoNetDist_v2.csv\",\n",
    "    encoding=\"latin\",\n",
    "    sep=\",\",\n",
    ")\n",
    "v = pd.read_csv(\"../Data/zones_CSRA_gdf_descodifica.csv\", sep=\";\")\n",
    "al = pd.read_csv(\"../Data/Estabelecimentos_de_AL.csv\", sep=\",\")\n",
    "\n",
    "# Store data in variables\n",
    "e_cert = pd.json_normalize(json.load(a))\n",
    "cond = pd.json_normalize(json.load(b))\n",
    "list_ids = pd.json_normalize(json.load(c))\n",
    "parishes = pd.json_normalize(json.load(d))\n",
    "sources = pd.json_normalize(json.load(e))\n",
    "types = pd.json_normalize(json.load(f))\n",
    "typologies = pd.json_normalize(json.load(g))\n",
    "agueda = pd.json_normalize(json.load(h))\n",
    "albergaria = pd.json_normalize(json.load(i))\n",
    "anadia = pd.json_normalize(json.load(j))\n",
    "aveiro = pd.json_normalize(json.load(k))\n",
    "estarreja = pd.json_normalize(json.load(l))\n",
    "ilhavo = pd.json_normalize(json.load(m))\n",
    "murtosa = pd.json_normalize(json.load(n))\n",
    "oliveira = pd.json_normalize(json.load(o))\n",
    "ovar = pd.json_normalize(json.load(p))\n",
    "sever = pd.json_normalize(json.load(q))\n",
    "vagos = pd.json_normalize(json.load(r))\n",
    "\n",
    "# Close files\n",
    "a.close()\n",
    "b.close()\n",
    "c.close()\n",
    "d.close()\n",
    "e.close()\n",
    "f.close()\n",
    "g.close()\n",
    "h.close()\n",
    "i.close()\n",
    "j.close()\n",
    "k.close()\n",
    "l.close()\n",
    "m.close()\n",
    "n.close()\n",
    "o.close()\n",
    "p.close()\n",
    "q.close()\n",
    "r.close()"
   ]
  },
  {
   "attachments": {},
   "cell_type": "markdown",
   "metadata": {},
   "source": [
    "## 2. Prime Yeild Data [2018-2023]\n"
   ]
  },
  {
   "attachments": {},
   "cell_type": "markdown",
   "metadata": {},
   "source": [
    "### 2.1 Explore - Prime Yeild Data\n"
   ]
  },
  {
   "cell_type": "code",
   "execution_count": null,
   "metadata": {},
   "outputs": [],
   "source": [
    "# Explore data existing on the file energy_certifications.json\n",
    "e_cert"
   ]
  },
  {
   "attachments": {},
   "cell_type": "markdown",
   "metadata": {},
   "source": [
    "**energy_certifications.json** is a table from PrimeYield Database structure with the type of energy certification.\n",
    "\n",
    "---\n"
   ]
  },
  {
   "cell_type": "code",
   "execution_count": null,
   "metadata": {},
   "outputs": [],
   "source": [
    "# Explore data existing on the file conditions.json\n",
    "cond"
   ]
  },
  {
   "attachments": {},
   "cell_type": "markdown",
   "metadata": {},
   "source": [
    "**conditions.json** is a table from PrimeYield Database structure with the info regarding the condition.\n",
    "\n",
    "---\n"
   ]
  },
  {
   "cell_type": "code",
   "execution_count": null,
   "metadata": {},
   "outputs": [],
   "source": [
    "# Explore data existing on the file list_ids.json\n",
    "list_ids"
   ]
  },
  {
   "attachments": {},
   "cell_type": "markdown",
   "metadata": {},
   "source": [
    "**list_ids.json** is a table for PrimeYield with data for parishes, municipality, etc. - not usefull for this project.\n",
    "\n",
    "---\n"
   ]
  },
  {
   "cell_type": "code",
   "execution_count": null,
   "metadata": {},
   "outputs": [],
   "source": [
    "# Explore data existing on the file parishes.json\n",
    "parishes"
   ]
  },
  {
   "attachments": {},
   "cell_type": "markdown",
   "metadata": {},
   "source": [
    "**parishes.json** is a table for PrimeYield with parishes location - not usefull for this project.\n",
    "\n",
    "---\n"
   ]
  },
  {
   "cell_type": "code",
   "execution_count": null,
   "metadata": {},
   "outputs": [],
   "source": [
    "# open all loaded files and concatenate into a pandas dataframe\n"
   ]
  },
  {
   "cell_type": "code",
   "execution_count": null,
   "metadata": {},
   "outputs": [],
   "source": [
    "# Explore data existing on the file sources.json\n",
    "sources"
   ]
  },
  {
   "attachments": {},
   "cell_type": "markdown",
   "metadata": {},
   "source": [
    "**sources.json** is a table from PrimeYield Database structure with the info regarding the source of info.\n",
    "\n",
    "---\n"
   ]
  },
  {
   "cell_type": "code",
   "execution_count": null,
   "metadata": {},
   "outputs": [],
   "source": [
    "# Explore data existing on the file types.json\n",
    "types"
   ]
  },
  {
   "attachments": {},
   "cell_type": "markdown",
   "metadata": {},
   "source": [
    "**types.json** is a table from PrimeYield Database structure with the info regarding the type of listing.\n",
    "\n",
    "---\n"
   ]
  },
  {
   "cell_type": "code",
   "execution_count": null,
   "metadata": {},
   "outputs": [],
   "source": [
    "# Explore data existing on the file typologies.json\n",
    "typologies"
   ]
  },
  {
   "attachments": {},
   "cell_type": "markdown",
   "metadata": {},
   "source": [
    "**typologies.json** has the list of the typologies of listings (apartments, houses, etc).\n",
    "\n",
    "---\n"
   ]
  },
  {
   "cell_type": "code",
   "execution_count": null,
   "metadata": {},
   "outputs": [],
   "source": [
    "agueda.columns"
   ]
  },
  {
   "cell_type": "code",
   "execution_count": null,
   "metadata": {},
   "outputs": [],
   "source": [
    "# Explore data existing on the file agueda.json\n",
    "agueda"
   ]
  },
  {
   "cell_type": "code",
   "execution_count": null,
   "metadata": {},
   "outputs": [],
   "source": [
    "# Explore data existing on the file Albergaria-a-Velha.json\n",
    "albergaria"
   ]
  },
  {
   "cell_type": "code",
   "execution_count": null,
   "metadata": {},
   "outputs": [],
   "source": [
    "# Explore data existing on the file Anadia.json\n",
    "anadia"
   ]
  },
  {
   "cell_type": "code",
   "execution_count": null,
   "metadata": {},
   "outputs": [],
   "source": [
    "# Explore data existing on the file aveiro.json\n",
    "aveiro"
   ]
  },
  {
   "cell_type": "code",
   "execution_count": null,
   "metadata": {},
   "outputs": [],
   "source": [
    "# Explore data existing on the file Estarreja.json\n",
    "estarreja"
   ]
  },
  {
   "cell_type": "code",
   "execution_count": null,
   "metadata": {},
   "outputs": [],
   "source": [
    "# Explore data existing on the file ilhavo.json\n",
    "ilhavo"
   ]
  },
  {
   "cell_type": "code",
   "execution_count": null,
   "metadata": {},
   "outputs": [],
   "source": [
    "# Explore data existing on the file murtosa.json\n",
    "murtosa"
   ]
  },
  {
   "cell_type": "code",
   "execution_count": null,
   "metadata": {},
   "outputs": [],
   "source": [
    "# Explore data existing on the file Oliveira do Bairro.json\n",
    "oliveira"
   ]
  },
  {
   "cell_type": "code",
   "execution_count": null,
   "metadata": {},
   "outputs": [],
   "source": [
    "# Explore data existing on the file ovar.json\n",
    "ovar"
   ]
  },
  {
   "cell_type": "code",
   "execution_count": null,
   "metadata": {},
   "outputs": [],
   "source": [
    "# Explore data existing on the file Sever do Vouga.json\n",
    "sever"
   ]
  },
  {
   "cell_type": "code",
   "execution_count": null,
   "metadata": {},
   "outputs": [],
   "source": [
    "# Explore data existing on the file vagos.json\n",
    "vagos"
   ]
  },
  {
   "cell_type": "code",
   "execution_count": null,
   "metadata": {},
   "outputs": [],
   "source": [
    "vagos.columns"
   ]
  },
  {
   "attachments": {},
   "cell_type": "markdown",
   "metadata": {},
   "source": [
    "### 2.2 Pre-Processing - Prime Yeild Data\n"
   ]
  },
  {
   "cell_type": "code",
   "execution_count": null,
   "metadata": {},
   "outputs": [],
   "source": [
    "# check what columns are the same between the dataframes\n",
    "len(sever.columns) == len(\n",
    "    agueda.columns.intersection(albergaria.columns)\n",
    "    .intersection(anadia.columns)\n",
    "    .intersection(aveiro.columns)\n",
    "    .intersection(estarreja.columns)\n",
    "    .intersection(ilhavo.columns)\n",
    "    .intersection(murtosa.columns)\n",
    "    .intersection(oliveira.columns)\n",
    "    .intersection(ovar.columns)\n",
    "    .intersection(sever.columns)\n",
    "    .intersection(vagos.columns)\n",
    ")\n",
    "\n",
    "# comparing the columns of the dataframes we conclude that all the columns that are the same are."
   ]
  },
  {
   "cell_type": "code",
   "execution_count": null,
   "metadata": {},
   "outputs": [],
   "source": [
    "# Concatenate all the dataframes into one\n",
    "PY_data = pd.concat(\n",
    "    [\n",
    "        agueda,\n",
    "        albergaria,\n",
    "        anadia,\n",
    "        aveiro,\n",
    "        estarreja,\n",
    "        ilhavo,\n",
    "        murtosa,\n",
    "        oliveira,\n",
    "        ovar,\n",
    "        sever,\n",
    "        vagos,\n",
    "    ],\n",
    "    ignore_index=True,\n",
    ")"
   ]
  },
  {
   "cell_type": "code",
   "execution_count": null,
   "metadata": {},
   "outputs": [],
   "source": [
    "PY_data.shape"
   ]
  },
  {
   "cell_type": "code",
   "execution_count": null,
   "metadata": {},
   "outputs": [],
   "source": [
    "PY_data.head()"
   ]
  },
  {
   "cell_type": "code",
   "execution_count": null,
   "metadata": {},
   "outputs": [],
   "source": [
    "PY_data.shape"
   ]
  },
  {
   "cell_type": "code",
   "execution_count": null,
   "metadata": {},
   "outputs": [],
   "source": [
    "PY_data.columns"
   ]
  },
  {
   "cell_type": "code",
   "execution_count": null,
   "metadata": {},
   "outputs": [],
   "source": [
    "# check no. of data points without latitude\n",
    "PY_data[\"ADD_LATITUDE\"].isnull().sum()"
   ]
  },
  {
   "cell_type": "code",
   "execution_count": null,
   "metadata": {},
   "outputs": [],
   "source": [
    "# check no. of data points without latitude and longitude\n",
    "PY_data[\"ADD_LONGITUDE\"].isnull().sum()"
   ]
  },
  {
   "cell_type": "code",
   "execution_count": null,
   "metadata": {},
   "outputs": [],
   "source": [
    "# remove data points without latitude and longitude\n",
    "PY_data = PY_data[~pd.isnull(PY_data[\"ADD_LONGITUDE\"])]\n",
    "PY_data = PY_data[~pd.isnull(PY_data[\"ADD_LATITUDE\"])]"
   ]
  },
  {
   "cell_type": "code",
   "execution_count": null,
   "metadata": {},
   "outputs": [],
   "source": [
    "PY_data.shape"
   ]
  },
  {
   "cell_type": "code",
   "execution_count": null,
   "metadata": {},
   "outputs": [],
   "source": [
    "PY_data.head()"
   ]
  },
  {
   "attachments": {},
   "cell_type": "markdown",
   "metadata": {},
   "source": [
    "Variable and its distribution analysis (.describe() and .value_counts()) in order to decide what columns shall be dropped (if any).\n",
    "\n",
    "Our findings and dedicions are as follows:\n",
    "\n",
    "- 'ID' - unique identifier\n",
    "- 'CONSTRUCTION_YEAR' - keep\n",
    "- 'CURRENT_PRICE' - keep\n",
    "- 'AREA' - might be important (**drop when value is 0?**)\n",
    "- 'ADD_LATITUDE' - crucial for the analysis\n",
    "- 'ADD_LONGITUDE' - crucial for the analysis\n",
    "- 'CREATION_DATE' - **check**, kept for now, but might be dropped\n",
    "- 'CONDITION_ID' - might be useful\n",
    "- 'TYPE_ID' - **keep only 'HOUSE' and 'APARTMENT' and 'Luxury'**\n",
    "- 'TYPOLOGY_ID' - keep\n",
    "- ~~BUSINESS_TYPE~~ - values were filtered ('SALE') and then the columns was dropped\n",
    "- ~~'SMALL_DESCRIPTION'~~ - data doesn't seem relevant for the analysis\n",
    "- ~~'LONG_DESCRIPTION'~~ - data doesn't seem relevant for the analysis and is often missing\n",
    "- ~~'AREA_GROSS'~~ - might be important (**drop when value is 0?**)\n",
    "- ~~'WCS'~~ - drop (lots os missing values)\n",
    "- ~~'ADD_POSTAL_CODE' - might be important~~\n",
    "- ~~'ADD_ADDRESS' - **redundant** with 'ADD_POSTAL_CODE' and 'ADD_LATITUDE' and 'ADD_LONGITUDE'. **drop**?~~\n",
    "- ~~'SOURCE_CODE'~~ - data doesn't seem relevant for the analysis (just numerical values, probably internal to PrimeYield)\n",
    "- ~~'SOURCE_URL'~~ - data doesn't seem relevant for the analysis\n",
    "- ~~'LAST_UPDATE'~~- data doesn't seem relevant for the analysis\n",
    "- ~~'SELL_DATE'~~ - ~~crucial for the analysis~~we'll be working with Creation Date, because sell date has no data (almost)\n",
    "- ~~'STATUS'~~ - data doesn't seem relevant for the analysis\n",
    "- ~~'MAP_IMAGE'~~ - data doesn't seem relevant for the analysis\n",
    "- ~~'MAP_COUNTRY_IMAGE'~~- data doesn't seem relevant for the analysis\n",
    "- ~~'REGISTRY'~~ - data doesn't seem relevant for the analysis\n",
    "- ~~'BUILDING_N'~~ - data doesn't seem relevant for the analysis (just numerical values, when available)\n",
    "- ~~'FRACTION'~~ - data doesn't seem relevant for the analysis\n",
    "- ~~'FINANCES'~~ - data doesn't seem relevant for the analysis\n",
    "- ~~'MATRIX_ARTICLE'~~ - data doesn't seem relevant for the analysis\n",
    "- ~~'WIP_STATUS_PERCENT'~~ - data doesn't seem relevant for the analysis (just numerical values, probably internal to PrimeYield)\n",
    "- ~~'RENT_PRICE'~~ - data regarding monthly rent... will be kept for now, but might be dropped\n",
    "- ~~'WIP_STATUS'~~ - data doesn't seem relevant for the analysis (just numerical values, probably internal to PrimeYield)\n",
    "- ~~'PATRIMONIAL_VALUE'~~ - mostly missing data\n",
    "- ~~'PATRIMONIAL_VALUE_DATE'~~ - data doesn't seem relevant for the analysis\n",
    "- ~~'MUNICIPALITY_ID'~~ - might be useful\n",
    "- ~~'PARISH_ID'~~ - might be useful\n",
    "- ~~'ENERGY_CERT_ID'~~ - might be useful\n",
    "- ~~'SOURCE_ID'~~ - might be useful\n",
    "- ~~'TASK_ID'~~ - no data\n",
    "- ~~'MAP_IMAGE3'~~ - data doesn't seem relevant for the analysis\n",
    "- ~~'MAP_IMAGE2'~~ - data doesn't seem relevant for the analysis\n",
    "- ~~'PROPERTY_DATA_FROM_API'~~ - data doesn't seem relevant for the analysis\n",
    "- ~~'ADV_DATE'~~ - data doesn't seem relevant for the analysis\n"
   ]
  },
  {
   "cell_type": "code",
   "execution_count": null,
   "metadata": {},
   "outputs": [],
   "source": [
    "# para efeitos de cálculo de perda de casas\n",
    "a = PY_data.shape[0]"
   ]
  },
  {
   "cell_type": "code",
   "execution_count": null,
   "metadata": {},
   "outputs": [],
   "source": [
    "PY_data"
   ]
  },
  {
   "cell_type": "code",
   "execution_count": null,
   "metadata": {},
   "outputs": [],
   "source": [
    "# Filter dwellings that are houses, apartments or luxury / drop unnecessary columns\n",
    "PY_data = PY_data[\n",
    "    (PY_data[\"TYPE_ID\"] == 1) | (PY_data[\"TYPE_ID\"] == 2) | (PY_data[\"TYPE_ID\"] == 10)\n",
    "]  # house+apartment+luxury\n",
    "PY_data.drop(\n",
    "    [\n",
    "        \"BUSINESS_TYPE\",\n",
    "        \"SMALL_DESCRIPTION\",\n",
    "        \"LONG_DESCRIPTION\",\n",
    "        \"ADD_POSTAL_CODE\",\n",
    "        \"ADD_ADDRESS\",\n",
    "        \"SOURCE_CODE\",\n",
    "        \"SOURCE_URL\",\n",
    "        \"LAST_UPDATE\",\n",
    "        \"SELL_DATE\",\n",
    "        \"ENERGY_CERT_ID\",\n",
    "        \"STATUS\",\n",
    "        \"MAP_IMAGE\",\n",
    "        \"MAP_COUNTRY_IMAGE\",\n",
    "        \"REGISTRY\",\n",
    "        \"BUILDING_N\",\n",
    "        \"FRACTION\",\n",
    "        \"FINANCES\",\n",
    "        \"MATRIX_ARTICLE\",\n",
    "        \"WCS\",\n",
    "        \"MUNICIPALITY_ID\",\n",
    "        \"PARISH_ID\",\n",
    "        \"AREA_GROSS\",\n",
    "        \"WIP_STATUS_PERCENT\",\n",
    "        \"RENT_PRICE\",\n",
    "        \"WIP_STATUS\",\n",
    "        \"PATRIMONIAL_VALUE\",\n",
    "        \"PATRIMONIAL_VALUE_DATE\",\n",
    "        \"TASK_ID\",\n",
    "        \"MAP_IMAGE3\",\n",
    "        \"MAP_IMAGE2\",\n",
    "        \"PROPERTY_DATA_FROM_API\",\n",
    "        \"ADV_DATE\",\n",
    "    ],\n",
    "    axis=1,\n",
    "    inplace=True,\n",
    ")  # drop colunas sem informação util\n",
    "PY_data.head()"
   ]
  },
  {
   "cell_type": "code",
   "execution_count": null,
   "metadata": {},
   "outputs": [],
   "source": [
    "# calculation to check how many houses were removed with the above filter\n",
    "a - PY_data.shape[0]"
   ]
  },
  {
   "cell_type": "code",
   "execution_count": null,
   "metadata": {},
   "outputs": [],
   "source": [
    "PY_data.shape"
   ]
  },
  {
   "cell_type": "code",
   "execution_count": null,
   "metadata": {},
   "outputs": [],
   "source": [
    "fig = px.scatter_mapbox(\n",
    "    PY_data,\n",
    "    lon=\"ADD_LONGITUDE\",\n",
    "    lat=\"ADD_LATITUDE\",\n",
    "    mapbox_style=\"open-street-map\",\n",
    "    center={\"lat\": 40.6, \"lon\": -8.5},\n",
    "    zoom=8,\n",
    "    height=800,\n",
    "    width=600,\n",
    "    hover_name=\"ID\",\n",
    "    hover_data=[\"CONSTRUCTION_YEAR\", \"CURRENT_PRICE\"],\n",
    ")\n",
    "fig.show()"
   ]
  },
  {
   "attachments": {},
   "cell_type": "markdown",
   "metadata": {},
   "source": [
    "## 3. CasaSapo Data [2005-2010]\n"
   ]
  },
  {
   "cell_type": "code",
   "execution_count": null,
   "metadata": {},
   "outputs": [],
   "source": [
    "# Load casasapo data\n",
    "casasapo = t\n",
    "casasapo"
   ]
  },
  {
   "cell_type": "code",
   "execution_count": null,
   "metadata": {},
   "outputs": [],
   "source": [
    "casasapo.columns"
   ]
  },
  {
   "cell_type": "code",
   "execution_count": null,
   "metadata": {},
   "outputs": [],
   "source": [
    "casasapo.shape"
   ]
  },
  {
   "cell_type": "code",
   "execution_count": null,
   "metadata": {},
   "outputs": [],
   "source": [
    "# check no. of dwellings per year\n",
    "casasapo[\"DTA_ano\"].value_counts()"
   ]
  },
  {
   "cell_type": "code",
   "execution_count": null,
   "metadata": {},
   "outputs": [],
   "source": [
    "# check no. of dwellings per type\n",
    "casasapo[\"Natureza\"].value_counts()"
   ]
  },
  {
   "cell_type": "code",
   "execution_count": null,
   "metadata": {},
   "outputs": [],
   "source": [
    "# transform Natureza in 1 and 2 (1=apartment, 2=house)\n",
    "casasapo[\"Natureza\"].replace(\"Apartamento\", 1, inplace=True)\n",
    "casasapo[\"Natureza\"].replace(\"Andar de Moradia\", 1, inplace=True)\n",
    "casasapo[\"Natureza\"].replace(\"Moradia\", 2, inplace=True)\n",
    "casasapo[\"Natureza\"].replace(\"Moradia Geminada\", 2, inplace=True)\n",
    "casasapo[\"Natureza\"].replace(\"Moradia Isolada\", 2, inplace=True)\n",
    "casasapo[\"Natureza\"].replace(\"Moradia em Banda\", 2, inplace=True)\n",
    "casasapo[\"Natureza\"] = casasapo[\"Natureza\"].astype(int)"
   ]
  },
  {
   "cell_type": "code",
   "execution_count": null,
   "metadata": {},
   "outputs": [],
   "source": [
    "# check no. of dwellings per type\n",
    "casasapo[\"Natureza\"].value_counts()"
   ]
  },
  {
   "cell_type": "code",
   "execution_count": null,
   "metadata": {},
   "outputs": [],
   "source": [
    "# match tipologia with classificação from PrimeYield\n",
    "# Scale from 0 to 7, where T0 is 0 and T6+ is 7\n",
    "casasapo[\"Tipologia\"].replace(\"T2\", 3, inplace=True)\n",
    "casasapo[\"Tipologia\"].replace(\"T3\", 4, inplace=True)\n",
    "casasapo[\"Tipologia\"].replace(\"T4\", 5, inplace=True)\n",
    "casasapo[\"Tipologia\"].replace(\"T2 Duplex\", 3, inplace=True)\n",
    "casasapo[\"Tipologia\"].replace(\"T1\", 2, inplace=True)\n",
    "casasapo[\"Tipologia\"].replace(\"T3 Duplex\", 4, inplace=True)\n",
    "casasapo[\"Tipologia\"].replace(\"T5\", 6, inplace=True)\n",
    "casasapo[\"Tipologia\"].replace(\"T4+1\", 5, inplace=True)\n",
    "casasapo[\"Tipologia\"].replace(\"T0\", 1, inplace=True)\n",
    "casasapo[\"Tipologia\"].replace(\"T2+1\", 3, inplace=True)\n",
    "casasapo[\"Tipologia\"].replace(\"T5+1\", 6, inplace=True)\n",
    "casasapo[\"Tipologia\"].replace(\"T3+1\", 4, inplace=True)\n",
    "casasapo[\"Tipologia\"].replace(\"T1+1\", 2, inplace=True)\n",
    "casasapo[\"Tipologia\"].replace(\"T4 Duplex\", 5, inplace=True)\n",
    "casasapo[\"Tipologia\"].replace(\"T1 Duplex\", 2, inplace=True)\n",
    "casasapo[\"Tipologia\"].replace(\"T5 Duplex\", 6, inplace=True)\n",
    "casasapo[\"Tipologia\"].replace(\"T2+1 Duplex\", 3, inplace=True)\n",
    "casasapo[\"Tipologia\"].replace(\"T6\", 7, inplace=True)\n",
    "casasapo[\"Tipologia\"].replace(\"T3+1 Duplex\", 4, inplace=True)\n",
    "casasapo[\"Tipologia\"].replace(\"T1+1 Duplex\", 2, inplace=True)\n",
    "casasapo[\"Tipologia\"].replace(\"T0 Duplex\", 1, inplace=True)\n",
    "casasapo[\"Tipologia\"].replace(\"T2+2 Duplex\", 3, inplace=True)\n",
    "casasapo[\"Tipologia\"].replace(\"T4+1 Duplex\", 5, inplace=True)\n",
    "casasapo[\"Tipologia\"].replace(\"T2+2\", 3, inplace=True)\n",
    "casasapo[\"Tipologia\"].replace(\"T4+2\", 5, inplace=True)\n",
    "casasapo[\"Tipologia\"].replace(\"T4+2 Duplex\", 5, inplace=True)\n",
    "casasapo[\"Tipologia\"].replace(\"T11\", 7, inplace=True)\n",
    "casasapo[\"Tipologia\"].replace(\"T1+2\", 2, inplace=True)\n",
    "casasapo[\"Tipologia\"].replace(\"T3+2\", 4, inplace=True)\n",
    "casasapo[\"Tipologia\"].replace(\"T0+1\", 1, inplace=True)\n",
    "casasapo[\"Tipologia\"].replace(\"T8\", 7, inplace=True)\n",
    "casasapo[\"Tipologia\"] = casasapo[\"Tipologia\"].astype(int)"
   ]
  },
  {
   "cell_type": "code",
   "execution_count": null,
   "metadata": {},
   "outputs": [],
   "source": [
    "# adapt typology to casasapo classification\n",
    "PY_data[\"TYPOLOGY_ID\"].replace(8, 7, inplace=True)\n",
    "PY_data[\"TYPOLOGY_ID\"].replace(9, 7, inplace=True)\n",
    "PY_data[\"TYPOLOGY_ID\"].replace(10, 7, inplace=True)\n",
    "PY_data[\"TYPOLOGY_ID\"].replace(11, 7, inplace=True)\n",
    "PY_data[\"TYPOLOGY_ID\"].replace(12, 7, inplace=True)\n",
    "PY_data[\"TYPOLOGY_ID\"].replace(13, 7, inplace=True)\n",
    "PY_data[\"TYPOLOGY_ID\"] = PY_data[\"TYPOLOGY_ID\"].astype(int)"
   ]
  },
  {
   "cell_type": "code",
   "execution_count": null,
   "metadata": {},
   "outputs": [],
   "source": [
    "# check no. of dwellings per preservation status\n",
    "casasapo[\"Preservacao\"].value_counts()"
   ]
  },
  {
   "cell_type": "code",
   "execution_count": null,
   "metadata": {},
   "outputs": [],
   "source": [
    "# update preservacao: 1 is new, 2 is used up to 10 years, 3 is used up to 25 years, 4 is used for more than 25 years, 5 is under construction\n",
    "casasapo[\"Preservacao\"].replace(\"Novo\", 1, inplace=True)\n",
    "casasapo[\"Preservacao\"].replace(\"Usado até 10 anos\", 2, inplace=True)\n",
    "casasapo[\"Preservacao\"].replace(\"Usado de 10 a 25 anos\", 3, inplace=True)\n",
    "casasapo[\"Preservacao\"].replace(\"Usado com mais de 25 anos\", 4, inplace=True)\n",
    "casasapo[\"Preservacao\"].replace(\"Em construcao/projecto\", 5, inplace=True)\n",
    "casasapo[\"Preservacao\"] = casasapo[\"Preservacao\"].astype(int)"
   ]
  },
  {
   "cell_type": "code",
   "execution_count": null,
   "metadata": {},
   "outputs": [],
   "source": [
    "casasapo.head()"
   ]
  },
  {
   "cell_type": "code",
   "execution_count": null,
   "metadata": {},
   "outputs": [],
   "source": [
    "# check no. of dwellings per Tipologia\n",
    "casasapo[\"Tipologia\"].value_counts()"
   ]
  },
  {
   "cell_type": "code",
   "execution_count": null,
   "metadata": {},
   "outputs": [],
   "source": [
    "# check no. of dwellings per year of announcement\n",
    "casasapo[\"DTA_ano\"] = casasapo[\"DTA_ano\"].astype(\"Int64\")\n",
    "casasapo[\"DTA_ano\"].describe()"
   ]
  },
  {
   "cell_type": "code",
   "execution_count": null,
   "metadata": {},
   "outputs": [],
   "source": [
    "casasapo.shape"
   ]
  },
  {
   "cell_type": "code",
   "execution_count": null,
   "metadata": {},
   "outputs": [],
   "source": [
    "casasapo.columns"
   ]
  },
  {
   "cell_type": "code",
   "execution_count": null,
   "metadata": {},
   "outputs": [],
   "source": [
    "# drop unnecessary columns\n",
    "casasapo.drop(\n",
    "    [\n",
    "        \"Estado\",\n",
    "        \"Negocio\",\n",
    "        \"Concelho\",\n",
    "        \"Freguesia\",\n",
    "        \"Zona\",\n",
    "        \"ZonaFreg_CSREA\",\n",
    "        \"VA1011_PrecoInicial_M2Area\",\n",
    "        \"VA0511_TOM\",\n",
    "        \"VA0512_LOGTOM\",\n",
    "        \"VA0610_LOG_CodigoTipologia\",\n",
    "        \"VA0111_LOG_Area\",\n",
    "        \"VA0120_Area_Avaliacao\",\n",
    "        \"VA02101_Apartamento\",\n",
    "        \"VA02102_Moradia\",\n",
    "        \"VA0410_ConstrucaoProjecto\",\n",
    "        \"VA0420_0_Novo\",\n",
    "        \"VA0431_Usado_Ate10\",\n",
    "        \"VA0432_Usado_1025\",\n",
    "        \"VA0433_Usado_mais25\",\n",
    "        \"VA0430_0_Usados\",\n",
    "        \"VA0420_1_NovosampRecuperados\",\n",
    "        \"VA0430_1_Usados_Ate10ampRecuperados\",\n",
    "        \"DTA_trimestre\",\n",
    "        \"ZONAIII_FINAL\",\n",
    "        \"VD02_AquecimentoCentral\",\n",
    "        \"VD01_ArCondicionado\",\n",
    "        \"VD03_Arrecadacao\",\n",
    "        \"VD04_Arrumos\",\n",
    "        \"VD05_Aspiracao\",\n",
    "        \"VD06_Churrasqueira\",\n",
    "        \"VD07_Climatizacao\",\n",
    "        \"VD08_Despensa\",\n",
    "        \"VD09_Domotica\",\n",
    "        \"VD10_Estacionamento\",\n",
    "        \"VD11_Garagem\",\n",
    "        \"VD12_Hidromassagem\",\n",
    "        \"VD13_Jacuzzi\",\n",
    "        \"VD14_Jardim\",\n",
    "        \"VD15_Kitchenette\",\n",
    "        \"VD16_Lareira\",\n",
    "        \"VD17_Lavandaria\",\n",
    "        \"VD18_Logradouro\",\n",
    "        \"VD19_Marquise\",\n",
    "        \"VD20_Mobilado\",\n",
    "        \"VD21_Patio\",\n",
    "        \"VD22_Porteiro\",\n",
    "        \"VD23_Recuperador\",\n",
    "        \"VD24_Sauna\",\n",
    "        \"VD25_Sotao\",\n",
    "        \"VD26_Terraco\",\n",
    "        \"VD27_Varanda\",\n",
    "        \"AF_Basic_F1_LivingSpace\",\n",
    "        \"AF_Basic_F2_Preservation_ConstructionNew\",\n",
    "        \"AF_Basic_F3_Preservation_UsedTo10yrs\",\n",
    "        \"AF_Basic_F4_Preservation_Used1025yrs\",\n",
    "        \"AF_Basic_F5_Preservation_UsedMore25yrs\",\n",
    "        \"AF_All_F1_LivingSpace\",\n",
    "        \"AF_All_F2_Preservation_Used1025yrs\",\n",
    "        \"AF_All_F3_Ads_Confort\",\n",
    "        \"AF_All_F4_Ads_AditionalSpaceA\",\n",
    "        \"AF_All_F5_Preservation_ConstructionNew\",\n",
    "        \"AF_All_F6_Preservation_UsedTo10yrs\",\n",
    "        \"AF_All_F7_Ads_Richness\",\n",
    "        \"AF_All_F8_Ads_AditionalSpaceB\",\n",
    "        \"AF_All_F9_Ads_Preservation_UsedMore25yrs\",\n",
    "        \"AF_Ads_FAC1_3\",\n",
    "        \"AF_Ads_FAC2_3\",\n",
    "        \"AF_Ads_FAC3_3\",\n",
    "        \"AF_Ads_FAC4_3\",\n",
    "        \"AF_Ads_FAC5_3\",\n",
    "        \"AF_Ads_FAC6_3\",\n",
    "        \"FAC1_1\",\n",
    "        \"FAC2_1\",\n",
    "        \"FAC3_1\",\n",
    "        \"FAC4_1\",\n",
    "        \"FAC5_1\",\n",
    "        \"C_11_Submercados\",\n",
    "        \"C_12_Uts\",\n",
    "        \"C14_Mixed\",\n",
    "        \"C_11_SubF\",\n",
    "        \"C12_MixedF\",\n",
    "        \"C07_MixedFv3\",\n",
    "    ],\n",
    "    axis=1,\n",
    "    inplace=True,\n",
    ")"
   ]
  },
  {
   "cell_type": "code",
   "execution_count": null,
   "metadata": {},
   "outputs": [],
   "source": [
    "casasapo.shape"
   ]
  },
  {
   "attachments": {},
   "cell_type": "markdown",
   "metadata": {},
   "source": [
    "## 4. Data Preparation (creation of pickle files as the output of the ETL process)\n"
   ]
  },
  {
   "attachments": {},
   "cell_type": "markdown",
   "metadata": {},
   "source": [
    "### 4.1 Casa_Sapo Data\n"
   ]
  },
  {
   "cell_type": "code",
   "execution_count": null,
   "metadata": {},
   "outputs": [],
   "source": [
    "casasapo.head()"
   ]
  },
  {
   "cell_type": "code",
   "execution_count": null,
   "metadata": {},
   "outputs": [],
   "source": [
    "casasapo.shape"
   ]
  },
  {
   "cell_type": "code",
   "execution_count": null,
   "metadata": {},
   "outputs": [],
   "source": [
    "# load data from casasapo with Zone_ID available\n",
    "casasapo_total = s"
   ]
  },
  {
   "cell_type": "code",
   "execution_count": null,
   "metadata": {},
   "outputs": [],
   "source": [
    "casasapo_total.columns"
   ]
  },
  {
   "cell_type": "code",
   "execution_count": null,
   "metadata": {},
   "outputs": [],
   "source": [
    "casasapo_total"
   ]
  },
  {
   "cell_type": "code",
   "execution_count": null,
   "metadata": {},
   "outputs": [],
   "source": [
    "casasapo_total.shape"
   ]
  },
  {
   "cell_type": "code",
   "execution_count": null,
   "metadata": {},
   "outputs": [],
   "source": [
    "# keep only the ID and Zone_ID columns\n",
    "casasapo_total = casasapo_total[[\"ID\", \"Zone_ID\"]]"
   ]
  },
  {
   "cell_type": "code",
   "execution_count": null,
   "metadata": {},
   "outputs": [],
   "source": [
    "casasapo_total"
   ]
  },
  {
   "cell_type": "code",
   "execution_count": null,
   "metadata": {},
   "outputs": [],
   "source": [
    "# convert to Int64 for merging\n",
    "casasapo_total = casasapo_total.astype({\"Zone_ID\": \"Int64\"})"
   ]
  },
  {
   "cell_type": "code",
   "execution_count": null,
   "metadata": {},
   "outputs": [],
   "source": [
    "# Bring Zine_ID info to our casasapo dataset\n",
    "casasapo = casasapo.merge(casasapo_total, on=\"ID\", how=\"left\")"
   ]
  },
  {
   "cell_type": "code",
   "execution_count": null,
   "metadata": {},
   "outputs": [],
   "source": [
    "casasapo.shape"
   ]
  },
  {
   "cell_type": "code",
   "execution_count": null,
   "metadata": {},
   "outputs": [],
   "source": [
    "v.head()"
   ]
  },
  {
   "cell_type": "code",
   "execution_count": null,
   "metadata": {},
   "outputs": [],
   "source": [
    "# keep only the zone_ID and cluster_ID columns\n",
    "v = v[[\"Zone_ID\", \"ZONE_CS_newID_132Z_CATint\"]]"
   ]
  },
  {
   "cell_type": "code",
   "execution_count": null,
   "metadata": {},
   "outputs": [],
   "source": [
    "# 132 zones or clusters\n",
    "v[\"ZONE_CS_newID_132Z_CATint\"].unique()"
   ]
  },
  {
   "cell_type": "code",
   "execution_count": null,
   "metadata": {},
   "outputs": [],
   "source": [
    "len(v[\"ZONE_CS_newID_132Z_CATint\"].unique())"
   ]
  },
  {
   "cell_type": "code",
   "execution_count": null,
   "metadata": {},
   "outputs": [],
   "source": [
    "len(v[\"Zone_ID\"].unique())"
   ]
  },
  {
   "cell_type": "code",
   "execution_count": null,
   "metadata": {},
   "outputs": [],
   "source": [
    "# bring Cluster ID to our casasapo dataset (this will be Cluster_LP info.)\n",
    "casasapo = casasapo.merge(v, on=\"Zone_ID\", how=\"left\")"
   ]
  },
  {
   "cell_type": "code",
   "execution_count": null,
   "metadata": {},
   "outputs": [],
   "source": [
    "casasapo.shape"
   ]
  },
  {
   "cell_type": "code",
   "execution_count": null,
   "metadata": {},
   "outputs": [],
   "source": [
    "# rename Cluster columns - Cluster_new based on the new clusters calculated, cluster_old based on the criteria for PB PhD Thesis\n",
    "casasapo.rename(\n",
    "    columns={\"ZONE_CS_newID_132Z_CATint\": \"Cluster_LP\", \"ZONA_D\": \"Cluster_old\"},\n",
    "    inplace=True,\n",
    ")"
   ]
  },
  {
   "cell_type": "code",
   "execution_count": null,
   "metadata": {},
   "outputs": [],
   "source": [
    "casasapo"
   ]
  },
  {
   "cell_type": "code",
   "execution_count": null,
   "metadata": {},
   "outputs": [],
   "source": [
    "casasapo.shape"
   ]
  },
  {
   "cell_type": "code",
   "execution_count": null,
   "metadata": {},
   "outputs": [],
   "source": [
    "# check how many clusters have dwellings\n",
    "len(casasapo[\"Cluster_LP\"].value_counts())"
   ]
  },
  {
   "cell_type": "code",
   "execution_count": null,
   "metadata": {},
   "outputs": [],
   "source": [
    "len(casasapo[\"Zone_ID\"].value_counts())"
   ]
  },
  {
   "cell_type": "code",
   "execution_count": null,
   "metadata": {},
   "outputs": [],
   "source": [
    "a = casasapo[casasapo[\"Cluster_LP\"].isnull()]\n",
    "a"
   ]
  },
  {
   "cell_type": "code",
   "execution_count": null,
   "metadata": {},
   "outputs": [],
   "source": [
    "# filter out dwellings with no Cluster ID\n",
    "casasapo = casasapo[~casasapo[\"Cluster_LP\"].isnull()]"
   ]
  },
  {
   "cell_type": "code",
   "execution_count": null,
   "metadata": {},
   "outputs": [],
   "source": [
    "casasapo.shape"
   ]
  },
  {
   "cell_type": "code",
   "execution_count": null,
   "metadata": {},
   "outputs": [],
   "source": [
    "casasapo[\"Cluster_LP\"].value_counts().head(10)"
   ]
  },
  {
   "cell_type": "code",
   "execution_count": null,
   "metadata": {},
   "outputs": [],
   "source": [
    "casasapo[\"Cluster_LP\"].value_counts().tail(10)"
   ]
  },
  {
   "cell_type": "code",
   "execution_count": null,
   "metadata": {},
   "outputs": [],
   "source": [
    "casasapo.columns"
   ]
  },
  {
   "cell_type": "code",
   "execution_count": null,
   "metadata": {},
   "outputs": [],
   "source": [
    "casasapo.head()"
   ]
  },
  {
   "cell_type": "code",
   "execution_count": null,
   "metadata": {},
   "outputs": [],
   "source": [
    "# histogram  for Casasapo Price\n",
    "sns.displot(casasapo[\"VA1010_PrecoInicial\"], bins=30, kde=True)\n",
    "\n",
    "# vamos aplicar o log (neste caso, o PB já o fez e vou usar os dados dele)"
   ]
  },
  {
   "cell_type": "code",
   "execution_count": null,
   "metadata": {},
   "outputs": [],
   "source": [
    "# histogram  for Casasapo Log Price per square meter\n",
    "sns.displot(casasapo[\"VA1012_LOG_PrecoInicial_M2Area\"], bins=30, kde=True)\n",
    "\n",
    "# Distribuição mais \"normal\" e melhor para usar na linreg"
   ]
  },
  {
   "cell_type": "code",
   "execution_count": null,
   "metadata": {},
   "outputs": [],
   "source": [
    "casasapo.columns"
   ]
  },
  {
   "cell_type": "markdown",
   "metadata": {},
   "source": [
    "#### 4.1.1 Fix problem with Cluster_LP (label propagation problems)\n",
    "\n",
    "Divide randomly the dwellings into new clusters (for the problematic clusters that were discovered to be multypolygons - see section 4.1.2a.1)\n"
   ]
  },
  {
   "cell_type": "code",
   "execution_count": null,
   "metadata": {},
   "outputs": [],
   "source": [
    "casasapo[casasapo.isnull().any(axis=1)]"
   ]
  },
  {
   "cell_type": "code",
   "execution_count": null,
   "metadata": {},
   "outputs": [],
   "source": [
    "casasapo[\"Cluster_LP\"].unique()"
   ]
  },
  {
   "cell_type": "code",
   "execution_count": null,
   "metadata": {},
   "outputs": [],
   "source": [
    "casasapo[\"Cluster_LP\"] = casasapo[\"Cluster_LP\"].astype(\"int64\")"
   ]
  },
  {
   "cell_type": "code",
   "execution_count": null,
   "metadata": {},
   "outputs": [],
   "source": [
    "# # This routine doesn't work properly, so it was necessary to manually change the values\n",
    "\n",
    "# mapping = {\n",
    "#     22: [22, 156],\n",
    "#     26: [26, 157],\n",
    "#     30: [30, 158, 151],\n",
    "#     40: [40, 159],\n",
    "#     41: [41, 160],\n",
    "#     43: [43, 161],\n",
    "#     60: [162, 152, 60],\n",
    "#     63: [63, 163, 153],\n",
    "#     64: [64, 164, 154, 150],\n",
    "#     103: [103, 165],\n",
    "#     107: [107, 166, 155],\n",
    "# }\n",
    "\n",
    "# casasapo['Cluster_LP'] = casasapo['Cluster_LP'].astype(int)\n",
    "\n",
    "# np.random.seed(3)\n",
    "\n",
    "\n",
    "# filtered_mapping = {key: value for key, value in mapping.items() if key in casasapo['Cluster_LP'].unique()}\n",
    "\n",
    "# # Function to assign new Cluster_LP based on the filtered_mapping dictionary\n",
    "# def assign_new_cluster_lp(row):\n",
    "#     if row['Cluster_LP'] in filtered_mapping:\n",
    "#         new_values = filtered_mapping[row['Cluster_LP']]\n",
    "#         return np.random.choice(new_values)\n",
    "#     return row['Cluster_LP']\n",
    "\n",
    "# # Apply the function to the DataFrame to assign the new Cluster_LP values\n",
    "# casasapo['New_Cluster_LP'] = casasapo.apply(assign_new_cluster_lp, axis=1)\n",
    "\n",
    "# # Replace the original 'Cluster_LP' column with the new values\n",
    "# casasapo['Cluster_LP'] = casasapo['New_Cluster_LP']\n",
    "\n",
    "# # Drop the intermediate 'New_Cluster_LP' column\n",
    "# casasapo.drop(columns=['New_Cluster_LP'], inplace=True)\n",
    "\n"
   ]
  },
  {
   "cell_type": "code",
   "execution_count": null,
   "metadata": {},
   "outputs": [],
   "source": [
    "print(casasapo.shape)\n",
    "print(\n",
    "    len(casasapo[casasapo[\"Cluster_LP\"] == 22]),\n",
    "    len(casasapo[casasapo[\"Cluster_LP\"] == 156]),\n",
    ")\n",
    "print(\n",
    "    len(casasapo[casasapo[\"Cluster_LP\"] == 26]),\n",
    "    len(casasapo[casasapo[\"Cluster_LP\"] == 157]),\n",
    ")\n",
    "print(\n",
    "    len(casasapo[casasapo[\"Cluster_LP\"] == 30]),\n",
    "    len(casasapo[casasapo[\"Cluster_LP\"] == 151]),\n",
    "    len(casasapo[casasapo[\"Cluster_LP\"] == 158]),\n",
    ")\n",
    "print(\n",
    "    len(casasapo[casasapo[\"Cluster_LP\"] == 40]),\n",
    "    len(casasapo[casasapo[\"Cluster_LP\"] == 159]),\n",
    ")\n",
    "print(\n",
    "    len(casasapo[casasapo[\"Cluster_LP\"] == 41]),\n",
    "    len(casasapo[casasapo[\"Cluster_LP\"] == 160]),\n",
    ")\n",
    "print(\n",
    "    len(casasapo[casasapo[\"Cluster_LP\"] == 43]),\n",
    "    len(casasapo[casasapo[\"Cluster_LP\"] == 161]),\n",
    ")\n",
    "print(\n",
    "    len(casasapo[casasapo[\"Cluster_LP\"] == 60]),\n",
    "    len(casasapo[casasapo[\"Cluster_LP\"] == 152]),\n",
    "    len(casasapo[casasapo[\"Cluster_LP\"] == 162]),\n",
    ")\n",
    "print(\n",
    "    len(casasapo[casasapo[\"Cluster_LP\"] == 63]),\n",
    "    len(casasapo[casasapo[\"Cluster_LP\"] == 153]),\n",
    "    len(casasapo[casasapo[\"Cluster_LP\"] == 163]),\n",
    ")\n",
    "print(\n",
    "    len(casasapo[casasapo[\"Cluster_LP\"] == 64]),\n",
    "    len(casasapo[casasapo[\"Cluster_LP\"] == 154]),\n",
    "    len(casasapo[casasapo[\"Cluster_LP\"] == 164]),\n",
    "    len(casasapo[casasapo[\"Cluster_LP\"] == 150]),\n",
    ")\n",
    "print(\n",
    "    len(casasapo[casasapo[\"Cluster_LP\"] == 107]),\n",
    "    len(casasapo[casasapo[\"Cluster_LP\"] == 166]),\n",
    "    len(casasapo[casasapo[\"Cluster_LP\"] == 155]),\n",
    ")"
   ]
  },
  {
   "cell_type": "code",
   "execution_count": null,
   "metadata": {},
   "outputs": [],
   "source": [
    "# split dwelling from Cluster 22 between 22 (2) and 156 (1)\n",
    "# casasapo[casasapo['Cluster_LP']==22].sample(n=1, random_state=1)\n",
    "casasapo.at[4730, \"Cluster_LP\"] = 156"
   ]
  },
  {
   "cell_type": "code",
   "execution_count": null,
   "metadata": {},
   "outputs": [],
   "source": [
    "# split dwelling from Cluster 26 between 26 (39) and 157 (39)\n",
    "# casasapo[casasapo['Cluster_LP']==26].sample(n=39, random_state=1)\n",
    "casasapo.at[78, \"Cluster_LP\"] = 157\n",
    "casasapo.at[370, \"Cluster_LP\"] = 157\n",
    "casasapo.at[1087, \"Cluster_LP\"] = 157\n",
    "casasapo.at[2106, \"Cluster_LP\"] = 157\n",
    "casasapo.at[2572, \"Cluster_LP\"] = 157\n",
    "casasapo.at[3153, \"Cluster_LP\"] = 157\n",
    "casasapo.at[3344, \"Cluster_LP\"] = 157\n",
    "casasapo.at[3794, \"Cluster_LP\"] = 157\n",
    "casasapo.at[3992, \"Cluster_LP\"] = 157\n",
    "casasapo.at[4182, \"Cluster_LP\"] = 157\n",
    "casasapo.at[4369, \"Cluster_LP\"] = 157\n",
    "casasapo.at[4408, \"Cluster_LP\"] = 157\n",
    "casasapo.at[4871, \"Cluster_LP\"] = 157\n",
    "casasapo.at[4888, \"Cluster_LP\"] = 157\n",
    "casasapo.at[4893, \"Cluster_LP\"] = 157\n",
    "casasapo.at[4906, \"Cluster_LP\"] = 157\n",
    "casasapo.at[4933, \"Cluster_LP\"] = 157\n",
    "casasapo.at[4963, \"Cluster_LP\"] = 157\n",
    "casasapo.at[4965, \"Cluster_LP\"] = 157\n",
    "casasapo.at[4969, \"Cluster_LP\"] = 157\n",
    "casasapo.at[4975, \"Cluster_LP\"] = 157\n",
    "casasapo.at[4979, \"Cluster_LP\"] = 157\n",
    "casasapo.at[4983, \"Cluster_LP\"] = 157\n",
    "casasapo.at[5055, \"Cluster_LP\"] = 157\n",
    "casasapo.at[5192, \"Cluster_LP\"] = 157\n",
    "casasapo.at[5391, \"Cluster_LP\"] = 157\n",
    "casasapo.at[5393, \"Cluster_LP\"] = 157\n",
    "casasapo.at[5401, \"Cluster_LP\"] = 157\n",
    "casasapo.at[5403, \"Cluster_LP\"] = 157\n",
    "casasapo.at[5589, \"Cluster_LP\"] = 157\n",
    "casasapo.at[5592, \"Cluster_LP\"] = 157\n",
    "casasapo.at[5597, \"Cluster_LP\"] = 157\n",
    "casasapo.at[5708, \"Cluster_LP\"] = 157\n",
    "casasapo.at[5722, \"Cluster_LP\"] = 157\n",
    "casasapo.at[5729, \"Cluster_LP\"] = 157\n",
    "casasapo.at[5737, \"Cluster_LP\"] = 157\n",
    "casasapo.at[6018, \"Cluster_LP\"] = 157\n",
    "casasapo.at[6532, \"Cluster_LP\"] = 157\n",
    "casasapo.at[6810, \"Cluster_LP\"] = 157"
   ]
  },
  {
   "cell_type": "code",
   "execution_count": null,
   "metadata": {},
   "outputs": [],
   "source": [
    "# split dwelling from Cluster 30 between 30 (10), 151 (4), 158 (4)\n",
    "# casasapo[casasapo['Cluster_LP']==30].sample(n=8, random_state=1)\n",
    "casasapo.at[62, \"Cluster_LP\"] = 151\n",
    "casasapo.at[699, \"Cluster_LP\"] = 158\n",
    "casasapo.at[1927, \"Cluster_LP\"] = 151\n",
    "casasapo.at[2148, \"Cluster_LP\"] = 158\n",
    "casasapo.at[2707, \"Cluster_LP\"] = 151\n",
    "casasapo.at[3808, \"Cluster_LP\"] = 158\n",
    "casasapo.at[4648, \"Cluster_LP\"] = 151\n",
    "casasapo.at[5862, \"Cluster_LP\"] = 158"
   ]
  },
  {
   "cell_type": "code",
   "execution_count": null,
   "metadata": {},
   "outputs": [],
   "source": [
    "# split dwelling from Cluster 40 between 40 (10) and 159 (10)\n",
    "# casasapo[casasapo['Cluster_LP']==40].sample(n=10, random_state=1)\n",
    "casasapo.at[3951, \"Cluster_LP\"] = 159\n",
    "casasapo.at[3650, \"Cluster_LP\"] = 159\n",
    "casasapo.at[4374, \"Cluster_LP\"] = 159\n",
    "casasapo.at[5154, \"Cluster_LP\"] = 159\n",
    "casasapo.at[6635, \"Cluster_LP\"] = 159\n",
    "casasapo.at[4381, \"Cluster_LP\"] = 159\n",
    "casasapo.at[7105, \"Cluster_LP\"] = 159\n",
    "casasapo.at[4098, \"Cluster_LP\"] = 159\n",
    "casasapo.at[7130, \"Cluster_LP\"] = 159\n",
    "casasapo.at[7177, \"Cluster_LP\"] = 159"
   ]
  },
  {
   "cell_type": "code",
   "execution_count": null,
   "metadata": {},
   "outputs": [],
   "source": [
    "# split dwelling from Cluster 41 between 41 (75) and 160 (10)\n",
    "# casasapo[casasapo['Cluster_LP']==41].sample(n=10, random_state=1)\n",
    "casasapo.at[4455, \"Cluster_LP\"] = 160\n",
    "casasapo.at[4663, \"Cluster_LP\"] = 160\n",
    "casasapo.at[2947, \"Cluster_LP\"] = 160\n",
    "casasapo.at[4534, \"Cluster_LP\"] = 160\n",
    "casasapo.at[3677, \"Cluster_LP\"] = 160\n",
    "casasapo.at[7017, \"Cluster_LP\"] = 160\n",
    "casasapo.at[5338, \"Cluster_LP\"] = 160\n",
    "casasapo.at[6213, \"Cluster_LP\"] = 160\n",
    "casasapo.at[7280, \"Cluster_LP\"] = 160\n",
    "casasapo.at[5225, \"Cluster_LP\"] = 160"
   ]
  },
  {
   "cell_type": "code",
   "execution_count": null,
   "metadata": {},
   "outputs": [],
   "source": [
    "# split dwelling from Cluster 43 between 43 (15) and 161 (14)\n",
    "# casasapo[casasapo['Cluster_LP']==43].sample(n=14, random_state=1)\n",
    "casasapo.at[573, \"Cluster_LP\"] = 161\n",
    "casasapo.at[5227, \"Cluster_LP\"] = 161\n",
    "casasapo.at[3307, \"Cluster_LP\"] = 161\n",
    "casasapo.at[4801, \"Cluster_LP\"] = 161\n",
    "casasapo.at[5684, \"Cluster_LP\"] = 161\n",
    "casasapo.at[3347, \"Cluster_LP\"] = 161\n",
    "casasapo.at[423, \"Cluster_LP\"] = 161\n",
    "casasapo.at[436, \"Cluster_LP\"] = 161\n",
    "casasapo.at[5677, \"Cluster_LP\"] = 161\n",
    "casasapo.at[5345, \"Cluster_LP\"] = 161\n",
    "casasapo.at[425, \"Cluster_LP\"] = 161\n",
    "casasapo.at[222, \"Cluster_LP\"] = 161\n",
    "casasapo.at[5683, \"Cluster_LP\"] = 161\n",
    "casasapo.at[431, \"Cluster_LP\"] = 161"
   ]
  },
  {
   "cell_type": "code",
   "execution_count": null,
   "metadata": {},
   "outputs": [],
   "source": [
    "# split dwelling from Cluster 60 between 60 (15), 152 (1), 162 (1)\n",
    "# casasapo[casasapo['Cluster_LP']==60].sample(n=2, random_state=1)\n",
    "casasapo.at[1682, \"Cluster_LP\"] = 152\n",
    "casasapo.at[1540, \"Cluster_LP\"] = 162"
   ]
  },
  {
   "cell_type": "code",
   "execution_count": null,
   "metadata": {},
   "outputs": [],
   "source": [
    "# split dwelling from Cluster 63 between 63 (15), 153 (1), 163 (2)\n",
    "# casasapo[casasapo['Cluster_LP']==63].sample(n=3, random_state=1)\n",
    "casasapo.at[6946, \"Cluster_LP\"] = 153\n",
    "casasapo.at[6752, \"Cluster_LP\"] = 163\n",
    "casasapo.at[7264, \"Cluster_LP\"] = 163"
   ]
  },
  {
   "cell_type": "code",
   "execution_count": null,
   "metadata": {},
   "outputs": [],
   "source": [
    "# split dwelling from Cluster 64 between 64 (1), 154 (2), 164 (2), 150 (2)\n",
    "# casasapo[casasapo['Cluster_LP']==64].sample(n=6, random_state=1)\n",
    "\n",
    "casasapo.at[7121, \"Cluster_LP\"] = 154\n",
    "casasapo.at[2008, \"Cluster_LP\"] = 164\n",
    "casasapo.at[1004, \"Cluster_LP\"] = 150\n",
    "casasapo.at[970, \"Cluster_LP\"] = 154\n",
    "casasapo.at[6514, \"Cluster_LP\"] = 164\n",
    "casasapo.at[6028, \"Cluster_LP\"] = 150"
   ]
  },
  {
   "cell_type": "code",
   "execution_count": null,
   "metadata": {},
   "outputs": [],
   "source": [
    "# split dwelling from Cluster 107 between 107 (0), 166 (1), 155 (1)\n",
    "# casasapo[casasapo['Cluster_LP']==107].sample(n=2, random_state=1)\n",
    "casasapo.at[6408, \"Cluster_LP\"] = 166\n",
    "casasapo.at[6695, \"Cluster_LP\"] = 155"
   ]
  },
  {
   "cell_type": "code",
   "execution_count": null,
   "metadata": {},
   "outputs": [],
   "source": [
    "print(casasapo.shape)\n",
    "print(\n",
    "    len(casasapo[casasapo[\"Cluster_LP\"] == 22]),\n",
    "    len(casasapo[casasapo[\"Cluster_LP\"] == 156]),\n",
    ")\n",
    "print(\n",
    "    len(casasapo[casasapo[\"Cluster_LP\"] == 26]),\n",
    "    len(casasapo[casasapo[\"Cluster_LP\"] == 157]),\n",
    ")\n",
    "print(\n",
    "    len(casasapo[casasapo[\"Cluster_LP\"] == 30]),\n",
    "    len(casasapo[casasapo[\"Cluster_LP\"] == 151]),\n",
    "    len(casasapo[casasapo[\"Cluster_LP\"] == 158]),\n",
    ")\n",
    "print(\n",
    "    len(casasapo[casasapo[\"Cluster_LP\"] == 40]),\n",
    "    len(casasapo[casasapo[\"Cluster_LP\"] == 159]),\n",
    ")\n",
    "print(\n",
    "    len(casasapo[casasapo[\"Cluster_LP\"] == 41]),\n",
    "    len(casasapo[casasapo[\"Cluster_LP\"] == 160]),\n",
    ")\n",
    "print(\n",
    "    len(casasapo[casasapo[\"Cluster_LP\"] == 43]),\n",
    "    len(casasapo[casasapo[\"Cluster_LP\"] == 161]),\n",
    ")\n",
    "print(\n",
    "    len(casasapo[casasapo[\"Cluster_LP\"] == 60]),\n",
    "    len(casasapo[casasapo[\"Cluster_LP\"] == 152]),\n",
    "    len(casasapo[casasapo[\"Cluster_LP\"] == 162]),\n",
    ")\n",
    "print(\n",
    "    len(casasapo[casasapo[\"Cluster_LP\"] == 63]),\n",
    "    len(casasapo[casasapo[\"Cluster_LP\"] == 153]),\n",
    "    len(casasapo[casasapo[\"Cluster_LP\"] == 163]),\n",
    ")\n",
    "print(\n",
    "    len(casasapo[casasapo[\"Cluster_LP\"] == 64]),\n",
    "    len(casasapo[casasapo[\"Cluster_LP\"] == 154]),\n",
    "    len(casasapo[casasapo[\"Cluster_LP\"] == 164]),\n",
    "    len(casasapo[casasapo[\"Cluster_LP\"] == 150]),\n",
    ")\n",
    "print(\n",
    "    len(casasapo[casasapo[\"Cluster_LP\"] == 107]),\n",
    "    len(casasapo[casasapo[\"Cluster_LP\"] == 166]),\n",
    "    len(casasapo[casasapo[\"Cluster_LP\"] == 155]),\n",
    ")"
   ]
  },
  {
   "cell_type": "code",
   "execution_count": null,
   "metadata": {},
   "outputs": [],
   "source": [
    "casasapo[casasapo.isnull().any(axis=1)]"
   ]
  },
  {
   "cell_type": "code",
   "execution_count": null,
   "metadata": {},
   "outputs": [],
   "source": [
    "casasapo[\"Cluster_LP\"].value_counts().tail(20)"
   ]
  },
  {
   "attachments": {},
   "cell_type": "markdown",
   "metadata": {},
   "source": [
    "### 4.1.2 Cluster Data (based on Casa Sapo Data)\n"
   ]
  },
  {
   "attachments": {},
   "cell_type": "markdown",
   "metadata": {},
   "source": [
    "#### 4.1.2a Initial Clusters\n"
   ]
  },
  {
   "cell_type": "code",
   "execution_count": null,
   "metadata": {},
   "outputs": [],
   "source": [
    "u_updated"
   ]
  },
  {
   "cell_type": "code",
   "execution_count": null,
   "metadata": {},
   "outputs": [],
   "source": [
    "# df de relação entre subsecção e cluster\n",
    "u"
   ]
  },
  {
   "cell_type": "code",
   "execution_count": null,
   "metadata": {},
   "outputs": [],
   "source": [
    "u = u.astype({\"BGRI11_M1LABELS_LP_AdjMatGeoNetDist\": \"Int64\"})"
   ]
  },
  {
   "cell_type": "code",
   "execution_count": null,
   "metadata": {},
   "outputs": [],
   "source": [
    "# NaN values for areas that belong to São Jacinto area - no impact on the analysis\n",
    "u[u[\"BGRI11_M1LABELS_LP_AdjMatGeoNetDist\"].isna()]"
   ]
  },
  {
   "cell_type": "code",
   "execution_count": null,
   "metadata": {},
   "outputs": [],
   "source": [
    "u[\"BGRI11_M1LABELS_LP_AdjMatGeoNetDist\"].unique()"
   ]
  },
  {
   "cell_type": "code",
   "execution_count": null,
   "metadata": {},
   "outputs": [],
   "source": [
    "u_updated[\"Cluster_LP\"].unique()"
   ]
  },
  {
   "cell_type": "code",
   "execution_count": null,
   "metadata": {},
   "outputs": [],
   "source": [
    "u[\"BGRI11_M1LABELS_LP_AdjMatGeoNetDist\"].nunique()"
   ]
  },
  {
   "cell_type": "code",
   "execution_count": null,
   "metadata": {},
   "outputs": [],
   "source": [
    "u_updated[\"Cluster_LP\"].nunique()"
   ]
  },
  {
   "cell_type": "code",
   "execution_count": null,
   "metadata": {},
   "outputs": [],
   "source": [
    "# load admnistrative limits for portuguese territory (subsection level)\n",
    "PT_SUBSEC = gpd.read_file(\"../Data/BGRI_2011/CONTINENTE/BGRI11_CONT.shp\")"
   ]
  },
  {
   "cell_type": "code",
   "execution_count": null,
   "metadata": {},
   "outputs": [],
   "source": [
    "PT_SUBSEC.columns"
   ]
  },
  {
   "cell_type": "code",
   "execution_count": null,
   "metadata": {},
   "outputs": [],
   "source": [
    "PT_SUBSEC.shape"
   ]
  },
  {
   "cell_type": "code",
   "execution_count": null,
   "metadata": {},
   "outputs": [],
   "source": [
    "PT_SUBSEC.crs"
   ]
  },
  {
   "cell_type": "code",
   "execution_count": null,
   "metadata": {},
   "outputs": [],
   "source": [
    "# convert to EPSG:3763\n",
    "PT_SUBSEC = PT_SUBSEC.to_crs(\"EPSG:3763\")"
   ]
  },
  {
   "cell_type": "code",
   "execution_count": null,
   "metadata": {},
   "outputs": [],
   "source": [
    "PT_SUBSEC.head()"
   ]
  },
  {
   "cell_type": "code",
   "execution_count": null,
   "metadata": {},
   "outputs": [],
   "source": [
    "# filter for Aveiro LUG\n",
    "filtro = [\"014757\"]"
   ]
  },
  {
   "cell_type": "code",
   "execution_count": null,
   "metadata": {},
   "outputs": [],
   "source": [
    "# apply filter\n",
    "AVR = PT_SUBSEC[PT_SUBSEC[\"LUG11\"].isin(filtro)]"
   ]
  },
  {
   "cell_type": "code",
   "execution_count": null,
   "metadata": {},
   "outputs": [],
   "source": [
    "AVR[\"FR11\"].unique()"
   ]
  },
  {
   "cell_type": "code",
   "execution_count": null,
   "metadata": {},
   "outputs": [],
   "source": [
    "AVR.shape"
   ]
  },
  {
   "cell_type": "code",
   "execution_count": null,
   "metadata": {},
   "outputs": [],
   "source": [
    "# filter out residuals\n",
    "AVR = AVR[AVR[\"LUG11\"] != \"999999\"]"
   ]
  },
  {
   "cell_type": "code",
   "execution_count": null,
   "metadata": {},
   "outputs": [],
   "source": [
    "AVR.shape"
   ]
  },
  {
   "cell_type": "code",
   "execution_count": null,
   "metadata": {},
   "outputs": [],
   "source": [
    "CLUSTER_FR = AVR.dissolve(by=\"FR11\")\n",
    "CLUSTER_FR.reset_index(inplace=True)\n",
    "CLUSTER_LUG = AVR.dissolve(by=\"LUG11\")\n",
    "CLUSTER_LUG.reset_index(inplace=True)"
   ]
  },
  {
   "cell_type": "code",
   "execution_count": null,
   "metadata": {},
   "outputs": [],
   "source": [
    "AVR.shape"
   ]
  },
  {
   "cell_type": "code",
   "execution_count": null,
   "metadata": {},
   "outputs": [],
   "source": [
    "AVR.head()"
   ]
  },
  {
   "cell_type": "code",
   "execution_count": null,
   "metadata": {},
   "outputs": [],
   "source": [
    "AVR.shape"
   ]
  },
  {
   "cell_type": "code",
   "execution_count": null,
   "metadata": {},
   "outputs": [],
   "source": [
    "# convert for merging\n",
    "AVR[\"BGRI11\"] = AVR[\"BGRI11\"].astype(\"Int64\")"
   ]
  },
  {
   "cell_type": "code",
   "execution_count": null,
   "metadata": {},
   "outputs": [],
   "source": [
    "# rename columns - this clusters are related to the Label Propagation algorithm applied by PB\n",
    "u.rename(columns={\"BGRI11_M1LABELS_LP_AdjMatGeoNetDist\": \"Cluster_LP\"}, inplace=True)"
   ]
  },
  {
   "cell_type": "code",
   "execution_count": null,
   "metadata": {},
   "outputs": [],
   "source": [
    "u[\"Cluster_LP\"].nunique()"
   ]
  },
  {
   "cell_type": "code",
   "execution_count": null,
   "metadata": {},
   "outputs": [],
   "source": [
    "u[\"Cluster_LP\"].unique()"
   ]
  },
  {
   "cell_type": "code",
   "execution_count": null,
   "metadata": {},
   "outputs": [],
   "source": [
    "u_updated.drop([\"area\"], axis=1, inplace=True)"
   ]
  },
  {
   "cell_type": "code",
   "execution_count": null,
   "metadata": {},
   "outputs": [],
   "source": [
    "u_updated"
   ]
  },
  {
   "cell_type": "code",
   "execution_count": null,
   "metadata": {},
   "outputs": [],
   "source": [
    "u_updated[\"Cluster_LP\"].nunique()"
   ]
  },
  {
   "cell_type": "code",
   "execution_count": null,
   "metadata": {},
   "outputs": [],
   "source": [
    "u"
   ]
  },
  {
   "cell_type": "code",
   "execution_count": null,
   "metadata": {},
   "outputs": [],
   "source": [
    "# create a new dataframe with the cluster info for Aveiro and Ílhavo subsections\n",
    "CLUSTER_LP = AVR.merge(u_updated, on=\"BGRI11\", how=\"left\")"
   ]
  },
  {
   "cell_type": "code",
   "execution_count": null,
   "metadata": {},
   "outputs": [],
   "source": [
    "CLUSTER_LP.shape"
   ]
  },
  {
   "cell_type": "code",
   "execution_count": null,
   "metadata": {},
   "outputs": [],
   "source": [
    "CLUSTER_LP.head()"
   ]
  },
  {
   "cell_type": "code",
   "execution_count": null,
   "metadata": {},
   "outputs": [],
   "source": [
    "CLUSTER_LP.dtypes"
   ]
  },
  {
   "cell_type": "code",
   "execution_count": null,
   "metadata": {},
   "outputs": [],
   "source": [
    "# drop unnecessary columns\n",
    "CLUSTER_LP.drop(\n",
    "    [\"OBJECTID\", \"DTMN11\", \"SEC11\", \"FR11\", \"LUG11\", \"SS11\", \"BGRI11\", \"LUG11DESIG\"],\n",
    "    axis=1,\n",
    "    inplace=True,\n",
    ")"
   ]
  },
  {
   "cell_type": "code",
   "execution_count": null,
   "metadata": {},
   "outputs": [],
   "source": [
    "CLUSTER_LP[\"Cluster_LP\"].nunique()"
   ]
  },
  {
   "cell_type": "code",
   "execution_count": null,
   "metadata": {},
   "outputs": [],
   "source": [
    "CLUSTER_LP[\"Cluster_LP\"].unique()"
   ]
  },
  {
   "cell_type": "code",
   "execution_count": null,
   "metadata": {},
   "outputs": [],
   "source": [
    "CLUSTER_LP.shape"
   ]
  },
  {
   "cell_type": "markdown",
   "metadata": {},
   "source": [
    "##### 4.1.2a.1 Correction of the Clusters\n",
    "\n",
    "This section is important to generate the variable u2 (that is used as u_updated in the section above).\n",
    "\n",
    "This was necessary to be performed because some clusters from the Label propagation process (not done by me) are multypolygons. These multypolygons are \"exploded\" and labeled as new polygons (its components), generating a new u2 variable with better results than the variable u that was supplied by my thesis coordinator.\n"
   ]
  },
  {
   "cell_type": "code",
   "execution_count": null,
   "metadata": {},
   "outputs": [],
   "source": [
    "# commented because this was used to generate the u2 file, used above as u_updated\n",
    "\n",
    "# CLUSTER_LP = CLUSTER_LP.dissolve(by='Cluster_LP').explode()\n",
    "# CLUSTER_LP.reset_index(inplace=True)\n",
    "\n",
    "# CLUSTER_LP0=CLUSTER_LP[CLUSTER_LP['level_1']==0]\n",
    "# CLUSTER_LP1=CLUSTER_LP[CLUSTER_LP['level_1']==1]\n",
    "# CLUSTER_LP2=CLUSTER_LP[CLUSTER_LP['level_1']==2]\n",
    "# CLUSTER_LP3=CLUSTER_LP[CLUSTER_LP['level_1']==3]\n",
    "# CLUSTER_LP0.reset_index(inplace=True)\n",
    "# CLUSTER_LP1.reset_index(inplace=True)\n",
    "# CLUSTER_LP2.reset_index(inplace=True)\n",
    "# CLUSTER_LP3.reset_index(inplace=True)"
   ]
  },
  {
   "cell_type": "code",
   "execution_count": null,
   "metadata": {},
   "outputs": [],
   "source": [
    "# commented because this was used to generate the u2 file, used above as u_updated\n",
    "# CLUSTER_LP0.Cluster_LP.unique()"
   ]
  },
  {
   "cell_type": "code",
   "execution_count": null,
   "metadata": {},
   "outputs": [],
   "source": [
    "# commented because this was used to generate the u2 file, used above as u_updated\n",
    "# CLUSTER_LP0['Cluster_LP'].unique()"
   ]
  },
  {
   "cell_type": "code",
   "execution_count": null,
   "metadata": {},
   "outputs": [],
   "source": [
    "# commented because this was used to generate the u2 file, used above as u_updated\n",
    "# CLUSTER_LP1['Cluster_LP'].unique()"
   ]
  },
  {
   "cell_type": "code",
   "execution_count": null,
   "metadata": {},
   "outputs": [],
   "source": [
    "# commented because this was used to generate the u2 file, used above as u_updated\n",
    "# CLUSTER_LP2['Cluster_LP'].unique()"
   ]
  },
  {
   "cell_type": "code",
   "execution_count": null,
   "metadata": {},
   "outputs": [],
   "source": [
    "# commented because this was used to generate the u2 file, used above as u_updated\n",
    "# CLUSTER_LP3['Cluster_LP'].unique()"
   ]
  },
  {
   "cell_type": "code",
   "execution_count": null,
   "metadata": {},
   "outputs": [],
   "source": [
    "# commented because this was used to generate the u2 file, used above as u_updated\n",
    "\n",
    "# CLUSTER_LP3['Cluster_LP'] = np.where(CLUSTER_LP3['Cluster_LP']==64, 150, CLUSTER_LP3['Cluster_LP'])\n",
    "# CLUSTER_LP2['Cluster_LP'] = np.where(CLUSTER_LP2['Cluster_LP']==30, 151, CLUSTER_LP2['Cluster_LP'])\n",
    "# CLUSTER_LP2['Cluster_LP'] = np.where(CLUSTER_LP2['Cluster_LP']==60, 152, CLUSTER_LP2['Cluster_LP'])\n",
    "# CLUSTER_LP2['Cluster_LP'] = np.where(CLUSTER_LP2['Cluster_LP']==63, 153, CLUSTER_LP2['Cluster_LP'])\n",
    "# CLUSTER_LP2['Cluster_LP'] = np.where(CLUSTER_LP2['Cluster_LP']==64, 154, CLUSTER_LP2['Cluster_LP'])\n",
    "# CLUSTER_LP2['Cluster_LP'] = np.where(CLUSTER_LP2['Cluster_LP']==107, 155, CLUSTER_LP2['Cluster_LP'])\n",
    "# CLUSTER_LP1['Cluster_LP'] = np.where(CLUSTER_LP1['Cluster_LP']==22, 156, CLUSTER_LP1['Cluster_LP'])\n",
    "# CLUSTER_LP1['Cluster_LP'] = np.where(CLUSTER_LP1['Cluster_LP']==26, 157, CLUSTER_LP1['Cluster_LP'])\n",
    "# CLUSTER_LP1['Cluster_LP'] = np.where(CLUSTER_LP1['Cluster_LP']==30, 158, CLUSTER_LP1['Cluster_LP'])\n",
    "# CLUSTER_LP1['Cluster_LP'] = np.where(CLUSTER_LP1['Cluster_LP']==40, 159, CLUSTER_LP1['Cluster_LP'])\n",
    "# CLUSTER_LP1['Cluster_LP'] = np.where(CLUSTER_LP1['Cluster_LP']==41, 160, CLUSTER_LP1['Cluster_LP'])\n",
    "# CLUSTER_LP1['Cluster_LP'] = np.where(CLUSTER_LP1['Cluster_LP']==43, 161, CLUSTER_LP1['Cluster_LP'])\n",
    "# CLUSTER_LP1['Cluster_LP'] = np.where(CLUSTER_LP1['Cluster_LP']==60, 162, CLUSTER_LP1['Cluster_LP'])\n",
    "# CLUSTER_LP1['Cluster_LP'] = np.where(CLUSTER_LP1['Cluster_LP']==63, 163, CLUSTER_LP1['Cluster_LP'])\n",
    "# CLUSTER_LP1['Cluster_LP'] = np.where(CLUSTER_LP1['Cluster_LP']==64, 164, CLUSTER_LP1['Cluster_LP'])\n",
    "# CLUSTER_LP1['Cluster_LP'] = np.where(CLUSTER_LP1['Cluster_LP']==103, 165, CLUSTER_LP1['Cluster_LP'])\n",
    "# CLUSTER_LP1['Cluster_LP'] = np.where(CLUSTER_LP1['Cluster_LP']==107, 166, CLUSTER_LP1['Cluster_LP'])\n",
    "\n",
    "# CLUSTER_LP=pd.concat([CLUSTER_LP0,CLUSTER_LP1,CLUSTER_LP2,CLUSTER_LP3],axis=0)\n",
    "\n",
    "# CLUSTER_LP.drop(['level_1','index'], axis=1, inplace=True)"
   ]
  },
  {
   "cell_type": "code",
   "execution_count": null,
   "metadata": {},
   "outputs": [],
   "source": [
    "CLUSTER_LP.head()"
   ]
  },
  {
   "cell_type": "code",
   "execution_count": null,
   "metadata": {},
   "outputs": [],
   "source": [
    "# drop unnecessary columns\n",
    "CLUSTER_LUG.drop(\n",
    "    [\"OBJECTID\", \"DTMN11\", \"SEC11\", \"FR11\", \"SS11\", \"BGRI11\", \"LUG11DESIG\"],\n",
    "    axis=1,\n",
    "    inplace=True,\n",
    ")\n",
    "CLUSTER_FR.drop(\n",
    "    [\"OBJECTID\", \"DTMN11\", \"SEC11\", \"LUG11\", \"SS11\", \"BGRI11\", \"LUG11DESIG\"],\n",
    "    axis=1,\n",
    "    inplace=True,\n",
    ")"
   ]
  },
  {
   "cell_type": "code",
   "execution_count": null,
   "metadata": {},
   "outputs": [],
   "source": [
    "CLUSTER_LP.head()"
   ]
  },
  {
   "cell_type": "code",
   "execution_count": null,
   "metadata": {},
   "outputs": [],
   "source": [
    "CLUSTER_LUG"
   ]
  },
  {
   "cell_type": "code",
   "execution_count": null,
   "metadata": {},
   "outputs": [],
   "source": [
    "CLUSTER_FR"
   ]
  },
  {
   "cell_type": "code",
   "execution_count": null,
   "metadata": {},
   "outputs": [],
   "source": [
    "CLUSTER_LP = CLUSTER_LP.dissolve(by=\"Cluster_LP\").reset_index()"
   ]
  },
  {
   "cell_type": "code",
   "execution_count": null,
   "metadata": {},
   "outputs": [],
   "source": [
    "fig, (ax1, ax2, ax3) = plt.subplots(1, 3, figsize=(15, 4))\n",
    "fig.suptitle(\"Clustering by Label Propagation, LUG11 and FR11\")\n",
    "CLUSTER_LP.plot(ax=ax1)\n",
    "CLUSTER_LUG.plot(ax=ax2)\n",
    "CLUSTER_FR.plot(ax=ax3)"
   ]
  },
  {
   "cell_type": "code",
   "execution_count": null,
   "metadata": {},
   "outputs": [],
   "source": [
    "# print the result from the clustering with Label Propagation\n",
    "\n",
    "ax = CLUSTER_LP.plot(\n",
    "    figsize=(10, 10),\n",
    "    column=\"Cluster_LP\",\n",
    "    edgecolor=\"b\",\n",
    "    legend=False,\n",
    "    linewidth=0.2,\n",
    "    cmap=\"tab20\",\n",
    ")\n",
    "cx.add_basemap(ax, crs=CLUSTER_LP.crs, source=cx.providers.OpenStreetMap.Mapnik)\n",
    "plt.title(\"Representação das 74 zonas base geradas\")"
   ]
  },
  {
   "cell_type": "code",
   "execution_count": null,
   "metadata": {},
   "outputs": [],
   "source": [
    "CLUSTER_LP.shape"
   ]
  },
  {
   "cell_type": "code",
   "execution_count": null,
   "metadata": {},
   "outputs": [],
   "source": [
    "CLUSTER_LUG.shape"
   ]
  },
  {
   "cell_type": "code",
   "execution_count": null,
   "metadata": {},
   "outputs": [],
   "source": [
    "CLUSTER_FR.shape"
   ]
  },
  {
   "cell_type": "code",
   "execution_count": null,
   "metadata": {},
   "outputs": [],
   "source": [
    "# AVR_C=AVR.copy()"
   ]
  },
  {
   "cell_type": "code",
   "execution_count": null,
   "metadata": {},
   "outputs": [],
   "source": [
    "# create a centroid for the geometries\n",
    "# AVR_C['centroid'] = AVR_C.centroid"
   ]
  },
  {
   "cell_type": "code",
   "execution_count": null,
   "metadata": {},
   "outputs": [],
   "source": [
    "# rename columns so centroid is the geometry for the geodataframe AVR_C (necessary for the spatial join)\n",
    "# AVR_C.rename(columns={\"geometry\":\"geometry2\",\"centroid\": \"geometry\"}, inplace=True)"
   ]
  },
  {
   "cell_type": "code",
   "execution_count": null,
   "metadata": {},
   "outputs": [],
   "source": [
    "# AVR_C.crs==CLUSTER_LP.crs"
   ]
  },
  {
   "cell_type": "code",
   "execution_count": null,
   "metadata": {},
   "outputs": [],
   "source": [
    "# commented because this was used to generate the u2 file, used above as u_updated\n",
    "# u2=gpd.sjoin(AVR_C[['BGRI11','geometry']],CLUSTER_LP, how='left', predicate='intersects')"
   ]
  },
  {
   "cell_type": "code",
   "execution_count": null,
   "metadata": {},
   "outputs": [],
   "source": [
    "# commented because this was used to generate the u2 file, used above as u_updated\n",
    "# u2['Cluster_LP'].unique()"
   ]
  },
  {
   "cell_type": "code",
   "execution_count": null,
   "metadata": {},
   "outputs": [],
   "source": [
    "# commented because this was used to generate the u2 file, used above as u_updated\n",
    "# u2['Cluster_LP'].nunique()"
   ]
  },
  {
   "cell_type": "code",
   "execution_count": null,
   "metadata": {},
   "outputs": [],
   "source": [
    "# commented because this was used to generate the u2 file, used above as u_updated\n",
    "# u2.drop(columns=['geometry','index_right'], inplace=True)"
   ]
  },
  {
   "cell_type": "code",
   "execution_count": null,
   "metadata": {},
   "outputs": [],
   "source": [
    "# commented because this was used to generate the u2 file, used above as u_updated\n",
    "# u2.reset_index(drop=True, inplace=True)"
   ]
  },
  {
   "cell_type": "code",
   "execution_count": null,
   "metadata": {},
   "outputs": [],
   "source": [
    "# commented because this was used to generate the u2 file, used above as u_updated\n",
    "# u2"
   ]
  },
  {
   "cell_type": "code",
   "execution_count": null,
   "metadata": {},
   "outputs": [],
   "source": [
    "# commented because this was used to generate the u2 file, used above as u_updated\n",
    "# u2.to_csv('../Data/BGRI11_AVRILH_M1LABELS_LP_AdjMatGeoNetDist_v2.csv', index=False)"
   ]
  },
  {
   "attachments": {},
   "cell_type": "markdown",
   "metadata": {},
   "source": [
    "#### 4.1.2b Merge Cluster Data with CAOP2011\n"
   ]
  },
  {
   "cell_type": "code",
   "execution_count": null,
   "metadata": {},
   "outputs": [],
   "source": [
    "AVR_C = AVR.copy()"
   ]
  },
  {
   "cell_type": "code",
   "execution_count": null,
   "metadata": {},
   "outputs": [],
   "source": [
    "# create a centroid for the geometries\n",
    "AVR_C[\"centroid\"] = AVR_C.centroid"
   ]
  },
  {
   "cell_type": "code",
   "execution_count": null,
   "metadata": {},
   "outputs": [],
   "source": [
    "# rename columns so centroid is the geometry for the geodataframe AVR_C (necessary for the spatial join)\n",
    "AVR_C.rename(columns={\"geometry\": \"geometry2\", \"centroid\": \"geometry\"}, inplace=True)"
   ]
  },
  {
   "cell_type": "code",
   "execution_count": null,
   "metadata": {},
   "outputs": [],
   "source": [
    "AVR_C.head()"
   ]
  },
  {
   "cell_type": "code",
   "execution_count": null,
   "metadata": {},
   "outputs": [],
   "source": [
    "AVR_C.shape"
   ]
  },
  {
   "cell_type": "code",
   "execution_count": null,
   "metadata": {},
   "outputs": [],
   "source": [
    "AVR_C.crs"
   ]
  },
  {
   "cell_type": "code",
   "execution_count": null,
   "metadata": {},
   "outputs": [],
   "source": [
    "CLUSTER_LP.shape"
   ]
  },
  {
   "cell_type": "code",
   "execution_count": null,
   "metadata": {},
   "outputs": [],
   "source": [
    "AVR_C.shape"
   ]
  },
  {
   "cell_type": "code",
   "execution_count": null,
   "metadata": {},
   "outputs": [],
   "source": [
    "CLUSTER_LP[\"Cluster_LP\"].unique()"
   ]
  },
  {
   "cell_type": "code",
   "execution_count": null,
   "metadata": {},
   "outputs": [],
   "source": [
    "CLUSTER_LP.plot()\n",
    "AVR.plot()"
   ]
  },
  {
   "cell_type": "code",
   "execution_count": null,
   "metadata": {},
   "outputs": [],
   "source": [
    "AVR_C.crs == CLUSTER_LP.crs == CLUSTER_LUG.crs == CLUSTER_FR.crs"
   ]
  },
  {
   "cell_type": "code",
   "execution_count": null,
   "metadata": {},
   "outputs": [],
   "source": [
    "# bring Cluster Coding to the temp dataframe (with DICOFRESUBSEC info)\n",
    "AVR = gpd.sjoin(\n",
    "    AVR_C, CLUSTER_LP[[\"Cluster_LP\", \"geometry\"]], how=\"left\", predicate=\"intersects\"\n",
    ")"
   ]
  },
  {
   "cell_type": "code",
   "execution_count": null,
   "metadata": {},
   "outputs": [],
   "source": [
    "# drop unnecessary columns and rename back geometry 2 to geometry\n",
    "AVR.drop([\"geometry\", \"index_right\"], axis=1, inplace=True)\n",
    "AVR.rename(columns={\"geometry2\": \"geometry\"}, inplace=True)"
   ]
  },
  {
   "cell_type": "code",
   "execution_count": null,
   "metadata": {},
   "outputs": [],
   "source": [
    "AVR.head()"
   ]
  },
  {
   "cell_type": "code",
   "execution_count": null,
   "metadata": {},
   "outputs": [],
   "source": [
    "AVR.shape"
   ]
  },
  {
   "attachments": {},
   "cell_type": "markdown",
   "metadata": {},
   "source": [
    "### 4.1.3 PY Data\n"
   ]
  },
  {
   "cell_type": "code",
   "execution_count": null,
   "metadata": {},
   "outputs": [],
   "source": [
    "PY_data.shape"
   ]
  },
  {
   "cell_type": "code",
   "execution_count": null,
   "metadata": {},
   "outputs": [],
   "source": [
    "PY_data2 = PY_data.copy()\n",
    "PY_data2 = PY_data2[[\"ID\", \"CONSTRUCTION_YEAR\", \"ADD_LONGITUDE\", \"ADD_LATITUDE\"]]"
   ]
  },
  {
   "cell_type": "code",
   "execution_count": null,
   "metadata": {},
   "outputs": [],
   "source": [
    "# create a geodataframe for the PY data\n",
    "gdf_PY = gpd.GeoDataFrame(\n",
    "    PY_data, geometry=gpd.points_from_xy(PY_data.ADD_LONGITUDE, PY_data.ADD_LATITUDE)\n",
    ")"
   ]
  },
  {
   "cell_type": "code",
   "execution_count": null,
   "metadata": {},
   "outputs": [],
   "source": [
    "# drop unnecessary columns\n",
    "gdf_PY = gdf_PY.drop([\"ADD_LATITUDE\", \"ADD_LONGITUDE\"], axis=1)"
   ]
  },
  {
   "cell_type": "code",
   "execution_count": null,
   "metadata": {},
   "outputs": [],
   "source": [
    "# set crs to EPSG:4326\n",
    "gdf_PY = gdf_PY.set_crs(\"epsg:4326\")"
   ]
  },
  {
   "cell_type": "code",
   "execution_count": null,
   "metadata": {},
   "outputs": [],
   "source": [
    "# convert to EPSG:3763\n",
    "gdf_PY = gdf_PY.to_crs(\"epsg:3763\")"
   ]
  },
  {
   "cell_type": "code",
   "execution_count": null,
   "metadata": {},
   "outputs": [],
   "source": [
    "gdf_PY.plot()"
   ]
  },
  {
   "cell_type": "code",
   "execution_count": null,
   "metadata": {},
   "outputs": [],
   "source": [
    "gdf_PY.shape"
   ]
  },
  {
   "cell_type": "code",
   "execution_count": null,
   "metadata": {},
   "outputs": [],
   "source": [
    "AVR.crs == gdf_PY.crs"
   ]
  },
  {
   "cell_type": "code",
   "execution_count": null,
   "metadata": {},
   "outputs": [],
   "source": [
    "gdf_PY.head()"
   ]
  },
  {
   "cell_type": "code",
   "execution_count": null,
   "metadata": {},
   "outputs": [],
   "source": [
    "gdf_PY[\"CREATION_DATE\"]"
   ]
  },
  {
   "cell_type": "code",
   "execution_count": null,
   "metadata": {},
   "outputs": [],
   "source": [
    "# steps to extract the year from the date\n",
    "a = gdf_PY[\"CREATION_DATE\"].str.split(\"-\", n=1, expand=True)"
   ]
  },
  {
   "cell_type": "code",
   "execution_count": null,
   "metadata": {},
   "outputs": [],
   "source": [
    "# steps to extract the year from the date\n",
    "a.rename(columns={0: \"year\", 1: \"other\"}, inplace=True)"
   ]
  },
  {
   "cell_type": "code",
   "execution_count": null,
   "metadata": {},
   "outputs": [],
   "source": [
    "a[\"year\"].value_counts()"
   ]
  },
  {
   "cell_type": "code",
   "execution_count": null,
   "metadata": {},
   "outputs": [],
   "source": [
    "# transform original date to year\n",
    "gdf_PY[\"Year\"] = a[\"year\"]"
   ]
  },
  {
   "cell_type": "code",
   "execution_count": null,
   "metadata": {},
   "outputs": [],
   "source": [
    "# drop unnecessary column\n",
    "gdf_PY.drop([\"CREATION_DATE\"], axis=1, inplace=True)"
   ]
  },
  {
   "cell_type": "code",
   "execution_count": null,
   "metadata": {},
   "outputs": [],
   "source": [
    "gdf_PY = gdf_PY[~gdf_PY[\"AREA\"].isnull()]  # filtrar elementos sem informação de área\n",
    "gdf_PY = gdf_PY[gdf_PY[\"AREA\"] > 0]  # filtrar elementos com área igual a 0\n",
    "gdf_PY = gdf_PY[\n",
    "    gdf_PY[\"AREA\"] < 10000\n",
    "]  # filtrar elementos com área igual a 0 - isto é feito mais à frente, mas trouxe para cá na elaboração do guia metodológico\n",
    "gdf_PY.shape"
   ]
  },
  {
   "cell_type": "code",
   "execution_count": null,
   "metadata": {},
   "outputs": [],
   "source": [
    "gdf_PY[\"CONSTRUCTION_YEAR\"] = gdf_PY[\"CONSTRUCTION_YEAR\"].astype(\n",
    "    \"Int64\"\n",
    ")  # converter variável ano de construção para inteiro\n",
    "gdf_PY = gdf_PY[~gdf_PY[\"CONSTRUCTION_YEAR\"].isnull()]  # remover nan\n",
    "gdf_PY = gdf_PY[\n",
    "    gdf_PY[\"CONSTRUCTION_YEAR\"] > 1600\n",
    "]  # filtrar elementos com ano de construção errado (inferior a 1600)\n",
    "gdf_PY = gdf_PY[\n",
    "    gdf_PY[\"CONSTRUCTION_YEAR\"] <= (datetime.date.today().year)\n",
    "]  # filtrar elementos com ano de construção errado (superior ao ano atual)\n",
    "gdf_PY.shape"
   ]
  },
  {
   "cell_type": "code",
   "execution_count": null,
   "metadata": {},
   "outputs": [],
   "source": [
    "# Preparação de dados para posterior lin reg\n",
    "gdf_PY[\"Price_Area\"] = (\n",
    "    gdf_PY[\"CURRENT_PRICE\"] / gdf_PY[\"AREA\"]\n",
    ")  # criar variável por preço por m2\n",
    "gdf_PY[\"Log_Price_Area\"] = np.log(\n",
    "    gdf_PY[\"Price_Area\"]\n",
    ")  # criar variável por preço por m2"
   ]
  },
  {
   "cell_type": "code",
   "execution_count": null,
   "metadata": {},
   "outputs": [],
   "source": [
    "# drop unnecessary column\n",
    "gdf_PY.drop([\"Price_Area\"], axis=1, inplace=True)"
   ]
  },
  {
   "cell_type": "code",
   "execution_count": null,
   "metadata": {},
   "outputs": [],
   "source": [
    "gdf_PY.shape"
   ]
  },
  {
   "cell_type": "code",
   "execution_count": null,
   "metadata": {},
   "outputs": [],
   "source": [
    "# calculate Preservação for PY data\n",
    "today = datetime.datetime.now()\n",
    "\n",
    "gdf_PY[\"Preservacao\"] = (\n",
    "    today.year - gdf_PY[\"CONSTRUCTION_YEAR\"]\n",
    ")  # criar variável por idade do imóvel"
   ]
  },
  {
   "cell_type": "code",
   "execution_count": null,
   "metadata": {},
   "outputs": [],
   "source": [
    "gdf_PY[\"Preservacao\"].describe()"
   ]
  },
  {
   "cell_type": "code",
   "execution_count": null,
   "metadata": {},
   "outputs": [],
   "source": [
    "# match preservação to the categories defined for casasapo\n",
    "for i, row in gdf_PY.iterrows():\n",
    "    if (\n",
    "        row[\"CONDITION_ID\"] in [3, 7] or row[\"Preservacao\"] < 0\n",
    "    ):  # Under Construction, Under Project\n",
    "        gdf_PY.at[i, \"Preservacao\"] = 5\n",
    "    elif row[\"Preservacao\"] >= 0 and row[\"Preservacao\"] < 2:\n",
    "        gdf_PY.at[i, \"Preservacao\"] = 1\n",
    "    elif row[\"Preservacao\"] >= 2 and row[\"Preservacao\"] <= 10:\n",
    "        gdf_PY.at[i, \"Preservacao\"] = 2\n",
    "    elif row[\"Preservacao\"] > 10 and row[\"Preservacao\"] <= 25:\n",
    "        gdf_PY.at[i, \"Preservacao\"] = 3\n",
    "    elif row[\"Preservacao\"] > 25:\n",
    "        gdf_PY.at[i, \"Preservacao\"] = 4"
   ]
  },
  {
   "cell_type": "code",
   "execution_count": null,
   "metadata": {},
   "outputs": [],
   "source": [
    "gdf_PY[\"Preservacao\"].value_counts()"
   ]
  },
  {
   "cell_type": "code",
   "execution_count": null,
   "metadata": {},
   "outputs": [],
   "source": [
    "gdf_PY.shape"
   ]
  },
  {
   "cell_type": "code",
   "execution_count": null,
   "metadata": {},
   "outputs": [],
   "source": [
    "# convert to integer\n",
    "gdf_PY[\"ID\"] = gdf_PY[\"ID\"].astype(\"Int64\")\n",
    "gdf_PY[\"CONDITION_ID\"] = gdf_PY[\"CONDITION_ID\"].astype(\"Int64\")\n",
    "gdf_PY[\"TYPE_ID\"] = gdf_PY[\"TYPE_ID\"].astype(\"Int64\")\n",
    "gdf_PY[\"TYPOLOGY_ID\"] = gdf_PY[\"TYPOLOGY_ID\"].astype(\"Int64\")"
   ]
  },
  {
   "cell_type": "code",
   "execution_count": null,
   "metadata": {},
   "outputs": [],
   "source": [
    "# Análise da Variável BUSINESS_TYPE\n",
    "gdf_PY[\"CONSTRUCTION_YEAR\"].unique()"
   ]
  },
  {
   "cell_type": "code",
   "execution_count": null,
   "metadata": {},
   "outputs": [],
   "source": [
    "# drop unnecessary columns\n",
    "gdf_PY.drop([\"CONSTRUCTION_YEAR\"], axis=1, inplace=True)"
   ]
  },
  {
   "cell_type": "code",
   "execution_count": null,
   "metadata": {},
   "outputs": [],
   "source": [
    "gdf_PY.shape"
   ]
  },
  {
   "cell_type": "code",
   "execution_count": null,
   "metadata": {},
   "outputs": [],
   "source": [
    "gdf_PY.nsmallest(\n",
    "    5, [\"CURRENT_PRICE\"]\n",
    ")  # há um valor que não faz sentido (400€) - será filtrado"
   ]
  },
  {
   "cell_type": "code",
   "execution_count": null,
   "metadata": {},
   "outputs": [],
   "source": [
    "gdf_PY = gdf_PY[\n",
    "    gdf_PY[\"CURRENT_PRICE\"] > 1000\n",
    "]  # filtrar elementos com preço inferior a 1000€"
   ]
  },
  {
   "cell_type": "code",
   "execution_count": null,
   "metadata": {},
   "outputs": [],
   "source": [
    "gdf_PY.shape"
   ]
  },
  {
   "cell_type": "code",
   "execution_count": null,
   "metadata": {},
   "outputs": [],
   "source": [
    "gdf_PY.nsmallest(5, [\"CURRENT_PRICE\"])  # OK"
   ]
  },
  {
   "cell_type": "code",
   "execution_count": null,
   "metadata": {},
   "outputs": [],
   "source": [
    "gdf_PY.nsmallest(5, [\"AREA\"])"
   ]
  },
  {
   "cell_type": "code",
   "execution_count": null,
   "metadata": {},
   "outputs": [],
   "source": [
    "gdf_PY = gdf_PY[gdf_PY[\"AREA\"] > 20]  # filtrar elementos com area inferior a 20m2"
   ]
  },
  {
   "cell_type": "code",
   "execution_count": null,
   "metadata": {},
   "outputs": [],
   "source": [
    "gdf_PY.shape"
   ]
  },
  {
   "cell_type": "code",
   "execution_count": null,
   "metadata": {},
   "outputs": [],
   "source": [
    "gdf_PY.nlargest(5, [\"AREA\"])"
   ]
  },
  {
   "cell_type": "code",
   "execution_count": null,
   "metadata": {},
   "outputs": [],
   "source": [
    "gdf_PY.shape"
   ]
  },
  {
   "cell_type": "code",
   "execution_count": null,
   "metadata": {},
   "outputs": [],
   "source": [
    "# drop unnecessary column\n",
    "gdf_PY.drop([\"CONDITION_ID\"], axis=1, inplace=True)"
   ]
  },
  {
   "cell_type": "code",
   "execution_count": null,
   "metadata": {},
   "outputs": [],
   "source": [
    "gdf_PY[\"TYPE_ID\"].unique()  # OK, será variável dummy"
   ]
  },
  {
   "cell_type": "code",
   "execution_count": null,
   "metadata": {},
   "outputs": [],
   "source": [
    "gdf_PY[\"TYPOLOGY_ID\"].unique()  # OK"
   ]
  },
  {
   "cell_type": "code",
   "execution_count": null,
   "metadata": {},
   "outputs": [],
   "source": [
    "gdf_PY.shape"
   ]
  },
  {
   "cell_type": "code",
   "execution_count": null,
   "metadata": {},
   "outputs": [],
   "source": [
    "# spatial join between the geodataframe with the PY data and the geodataframe with the cluster info\n",
    "PY = gpd.sjoin(\n",
    "    gdf_PY, CLUSTER_LP[[\"Cluster_LP\", \"geometry\"]], how=\"left\", predicate=\"intersects\"\n",
    ")"
   ]
  },
  {
   "cell_type": "code",
   "execution_count": null,
   "metadata": {},
   "outputs": [],
   "source": [
    "PY.shape"
   ]
  },
  {
   "cell_type": "code",
   "execution_count": null,
   "metadata": {},
   "outputs": [],
   "source": [
    "PY[\"Cluster_LP\"] = PY[\"Cluster_LP\"].astype(\"Int64\")"
   ]
  },
  {
   "cell_type": "code",
   "execution_count": null,
   "metadata": {},
   "outputs": [],
   "source": [
    "PY[\"Cluster_LP\"].value_counts()"
   ]
  },
  {
   "cell_type": "code",
   "execution_count": null,
   "metadata": {},
   "outputs": [],
   "source": [
    "# histogram  for Log_Price_Area\n",
    "sns.displot(PY[\"Log_Price_Area\"], bins=30, kde=True)"
   ]
  },
  {
   "cell_type": "code",
   "execution_count": null,
   "metadata": {},
   "outputs": [],
   "source": [
    "import contextily as cx\n",
    "\n",
    "ax = PY.plot()\n",
    "cx.add_basemap(ax, crs=PY.crs, source=cx.providers.OpenStreetMap.Mapnik)"
   ]
  },
  {
   "cell_type": "code",
   "execution_count": null,
   "metadata": {},
   "outputs": [],
   "source": [
    "# filter out elements outside the study area\n",
    "PY = PY[~PY[\"Cluster_LP\"].isnull()]\n",
    "# filtrar elementos fora da região em estudo"
   ]
  },
  {
   "cell_type": "code",
   "execution_count": null,
   "metadata": {},
   "outputs": [],
   "source": [
    "PY.shape"
   ]
  },
  {
   "cell_type": "code",
   "execution_count": null,
   "metadata": {},
   "outputs": [],
   "source": [
    "PY.head()"
   ]
  },
  {
   "cell_type": "code",
   "execution_count": null,
   "metadata": {},
   "outputs": [],
   "source": [
    "PY.shape"
   ]
  },
  {
   "cell_type": "code",
   "execution_count": null,
   "metadata": {},
   "outputs": [],
   "source": [
    "ax = PY.plot()\n",
    "cx.add_basemap(ax, crs=PY.crs, source=cx.providers.OpenStreetMap.Mapnik)"
   ]
  },
  {
   "attachments": {},
   "cell_type": "markdown",
   "metadata": {},
   "source": [
    "### 4.1.4 Aggregation of Socioeconomic Indicators to the Datasets\n",
    "\n",
    "The target here is to aggregate the socioeconomic indicators to the datasets, so that we can use them in the analysis. To do that, we'll bring the socioeconomic indicators to the existing clusters proposed by PB and then to the datasets.\n"
   ]
  },
  {
   "cell_type": "code",
   "execution_count": null,
   "metadata": {},
   "outputs": [],
   "source": [
    "# load BGRI 2011 indicators (dataframe)\n",
    "PT_BGRI = pd.read_table(\n",
    "    \"../Data/BGRI_2011/BGRI2011_PT_corrigido.csv\", sep=\",\", encoding=\"latin1\"\n",
    ")"
   ]
  },
  {
   "cell_type": "code",
   "execution_count": null,
   "metadata": {},
   "outputs": [],
   "source": [
    "PT_BGRI.shape"
   ]
  },
  {
   "cell_type": "code",
   "execution_count": null,
   "metadata": {},
   "outputs": [],
   "source": [
    "# subset of BGRI11, with only subsec entries\n",
    "PT_BGRI = PT_BGRI.loc[PT_BGRI[\"NIVEL\"] == 8]"
   ]
  },
  {
   "cell_type": "code",
   "execution_count": null,
   "metadata": {},
   "outputs": [],
   "source": [
    "PT_BGRI.shape"
   ]
  },
  {
   "cell_type": "code",
   "execution_count": null,
   "metadata": {},
   "outputs": [],
   "source": [
    "PT_BGRI[\"GEO_COD\"]"
   ]
  },
  {
   "cell_type": "code",
   "execution_count": null,
   "metadata": {},
   "outputs": [],
   "source": [
    "list(PT_BGRI.columns)"
   ]
  },
  {
   "cell_type": "code",
   "execution_count": null,
   "metadata": {},
   "outputs": [],
   "source": [
    "AVR.shape"
   ]
  },
  {
   "cell_type": "code",
   "execution_count": null,
   "metadata": {},
   "outputs": [],
   "source": [
    "# convert Cluster variable to integer\n",
    "AVR[\"Cluster_LP\"] = AVR[\"Cluster_LP\"].astype(\"Int64\")"
   ]
  },
  {
   "cell_type": "code",
   "execution_count": null,
   "metadata": {},
   "outputs": [],
   "source": [
    "AVR[\"Cluster_LP\"].unique()"
   ]
  },
  {
   "cell_type": "code",
   "execution_count": null,
   "metadata": {},
   "outputs": [],
   "source": [
    "AVR.head()"
   ]
  },
  {
   "cell_type": "code",
   "execution_count": null,
   "metadata": {},
   "outputs": [],
   "source": [
    "AVR.reset_index(drop=True, inplace=True)"
   ]
  },
  {
   "cell_type": "code",
   "execution_count": null,
   "metadata": {},
   "outputs": [],
   "source": [
    "PT_BGRI.reset_index(drop=True, inplace=True)"
   ]
  },
  {
   "cell_type": "code",
   "execution_count": null,
   "metadata": {},
   "outputs": [],
   "source": [
    "PT_BGRI.shape"
   ]
  },
  {
   "cell_type": "code",
   "execution_count": null,
   "metadata": {},
   "outputs": [],
   "source": [
    "# drop unnecessary columns\n",
    "PT_BGRI.drop([\"Unnamed: 0\", \"GEO_COD_DSG\", \"NIVEL\", \"NIVEL_DSG\"], axis=1, inplace=True)"
   ]
  },
  {
   "cell_type": "code",
   "execution_count": null,
   "metadata": {},
   "outputs": [],
   "source": [
    "PT_BGRI.shape"
   ]
  },
  {
   "cell_type": "code",
   "execution_count": null,
   "metadata": {},
   "outputs": [],
   "source": [
    "PT_BGRI.head()"
   ]
  },
  {
   "cell_type": "code",
   "execution_count": null,
   "metadata": {},
   "outputs": [],
   "source": [
    "# convert variables to integer prior to merge\n",
    "AVR[\"BGRI11\"] = AVR[\"BGRI11\"].astype(int)\n",
    "PT_BGRI[\"GEO_COD\"] = PT_BGRI[\"GEO_COD\"].astype(int)"
   ]
  },
  {
   "cell_type": "code",
   "execution_count": null,
   "metadata": {},
   "outputs": [],
   "source": [
    "# include the BGRI socioeconomic indicators in the geodataframe\n",
    "BGRI_CLUSTER = PT_BGRI.merge(AVR, left_on=\"GEO_COD\", right_on=\"BGRI11\")"
   ]
  },
  {
   "cell_type": "code",
   "execution_count": null,
   "metadata": {},
   "outputs": [],
   "source": [
    "BGRI_CLUSTER.shape"
   ]
  },
  {
   "cell_type": "code",
   "execution_count": null,
   "metadata": {},
   "outputs": [],
   "source": [
    "BGRI_CLUSTER.head()"
   ]
  },
  {
   "cell_type": "code",
   "execution_count": null,
   "metadata": {},
   "outputs": [],
   "source": [
    "# drop unnecessary columns\n",
    "BGRI_CLUSTER.drop([\"OBJECTID\", \"DTMN11\", \"SEC11\", \"SS11\"], axis=1, inplace=True)"
   ]
  },
  {
   "cell_type": "code",
   "execution_count": null,
   "metadata": {},
   "outputs": [],
   "source": [
    "BGRI_CLUSTER"
   ]
  },
  {
   "cell_type": "code",
   "execution_count": null,
   "metadata": {},
   "outputs": [],
   "source": [
    "BGRI_CLUSTER.shape"
   ]
  },
  {
   "cell_type": "code",
   "execution_count": null,
   "metadata": {},
   "outputs": [],
   "source": [
    "BGRI_CLUSTER.reset_index(drop=True, inplace=True)"
   ]
  },
  {
   "cell_type": "code",
   "execution_count": null,
   "metadata": {},
   "outputs": [],
   "source": [
    "# rename columns\n",
    "BGRI_CLUSTER.rename(\n",
    "    columns={\n",
    "        \"N_EDIFICIOS_CLASSICOS_ISOLADOS \": \"N_EDIFICIOS_CLASSICOS_ISOLADOS\",\n",
    "        \".N_EDIFICIOS_5OU_MAIS_PISOS\": \"N_EDIFICIOS_5OU_MAIS_PISOS\",\n",
    "        \"N_IND_RESID_TRAB_MUN_RESID,\": \"N_IND_RESID_TRAB_MUN_RESID\",\n",
    "    },\n",
    "    inplace=True,\n",
    "    errors=\"raise\",\n",
    ")"
   ]
  },
  {
   "cell_type": "code",
   "execution_count": null,
   "metadata": {},
   "outputs": [],
   "source": [
    "# fix variable (remove last character)\n",
    "BGRI_CLUSTER[\"N_IND_RESID_TRAB_MUN_RESID\"] = BGRI_CLUSTER[\n",
    "    \"N_IND_RESID_TRAB_MUN_RESID\"\n",
    "].str[:-1]"
   ]
  },
  {
   "cell_type": "code",
   "execution_count": null,
   "metadata": {},
   "outputs": [],
   "source": [
    "# convert it to integer\n",
    "BGRI_CLUSTER[\"N_IND_RESID_TRAB_MUN_RESID\"] = BGRI_CLUSTER[\n",
    "    \"N_IND_RESID_TRAB_MUN_RESID\"\n",
    "].astype(\"Int64\")"
   ]
  },
  {
   "cell_type": "code",
   "execution_count": null,
   "metadata": {},
   "outputs": [],
   "source": [
    "# this dataframe BGRI_CLUSTER has the BGRI11 and the cluster coding, so now we can bring the inddicators to the datasets with housing prices and transactions\n",
    "BGRI_CLUSTER.head()"
   ]
  },
  {
   "cell_type": "code",
   "execution_count": null,
   "metadata": {},
   "outputs": [],
   "source": [
    "len(BGRI_CLUSTER[\"GEO_COD\"].unique())"
   ]
  },
  {
   "cell_type": "code",
   "execution_count": null,
   "metadata": {},
   "outputs": [],
   "source": [
    "BGRI_CLUSTER.shape"
   ]
  },
  {
   "cell_type": "markdown",
   "metadata": {},
   "source": [
    "### 4.1.5 Aggregation of Tourism Indicators to the Datasets\n"
   ]
  },
  {
   "cell_type": "markdown",
   "metadata": {},
   "source": [
    "#### 4.1.5a Explore AL Data and prepare for merging\n"
   ]
  },
  {
   "cell_type": "code",
   "execution_count": null,
   "metadata": {},
   "outputs": [],
   "source": [
    "al.shape"
   ]
  },
  {
   "cell_type": "code",
   "execution_count": null,
   "metadata": {},
   "outputs": [],
   "source": [
    "al.head()"
   ]
  },
  {
   "cell_type": "code",
   "execution_count": null,
   "metadata": {},
   "outputs": [],
   "source": [
    "al.columns"
   ]
  },
  {
   "cell_type": "code",
   "execution_count": null,
   "metadata": {},
   "outputs": [],
   "source": [
    "# filter Alojamento Local data for Municipalities of Aveiro and Ílhavo\n",
    "aveiro = al[al[\"Concelho\"] == \"Aveiro\"]\n",
    "ilhavo = al[al[\"Concelho\"] == \"Ílhavo\"]"
   ]
  },
  {
   "cell_type": "code",
   "execution_count": null,
   "metadata": {},
   "outputs": [],
   "source": [
    "# create a new df with both municipalities\n",
    "al_avrilh = pd.concat([aveiro, ilhavo], axis=0)"
   ]
  },
  {
   "cell_type": "code",
   "execution_count": null,
   "metadata": {},
   "outputs": [],
   "source": [
    "al_avrilh.shape"
   ]
  },
  {
   "cell_type": "code",
   "execution_count": null,
   "metadata": {},
   "outputs": [],
   "source": [
    "al_avrilh.head()"
   ]
  },
  {
   "cell_type": "code",
   "execution_count": null,
   "metadata": {},
   "outputs": [],
   "source": [
    "# get year from date\n",
    "al_avrilh[\"DataAberturaPublico\"] = al_avrilh[\"DataAberturaPublico\"].str[:4]"
   ]
  },
  {
   "cell_type": "code",
   "execution_count": null,
   "metadata": {},
   "outputs": [],
   "source": [
    "al_avrilh.reset_index(drop=True, inplace=True)"
   ]
  },
  {
   "cell_type": "code",
   "execution_count": null,
   "metadata": {},
   "outputs": [],
   "source": [
    "# filter out unnecessary columns\n",
    "al_avrilh = al_avrilh[[\"X\", \"Y\", \"DataAberturaPublico\", \"NrUtentes\"]]"
   ]
  },
  {
   "cell_type": "code",
   "execution_count": null,
   "metadata": {},
   "outputs": [],
   "source": [
    "al_avrilh.head()"
   ]
  },
  {
   "cell_type": "code",
   "execution_count": null,
   "metadata": {},
   "outputs": [],
   "source": [
    "# transform to geodataframe\n",
    "gdf_al = gpd.GeoDataFrame(\n",
    "    al_avrilh, geometry=gpd.points_from_xy(al_avrilh.X, al_avrilh.Y)\n",
    ")"
   ]
  },
  {
   "cell_type": "code",
   "execution_count": null,
   "metadata": {},
   "outputs": [],
   "source": [
    "# set crs\n",
    "gdf_al = gdf_al.set_crs(\"epsg:4326\")"
   ]
  },
  {
   "cell_type": "code",
   "execution_count": null,
   "metadata": {},
   "outputs": [],
   "source": [
    "# convert to portuguese crs\n",
    "gdf_al = gdf_al.to_crs(\"epsg:3763\")"
   ]
  },
  {
   "cell_type": "code",
   "execution_count": null,
   "metadata": {},
   "outputs": [],
   "source": [
    "# drop unnecessary columns\n",
    "gdf_al.drop([\"X\", \"Y\"], axis=1, inplace=True)"
   ]
  },
  {
   "cell_type": "code",
   "execution_count": null,
   "metadata": {},
   "outputs": [],
   "source": [
    "gdf_al.plot()"
   ]
  },
  {
   "cell_type": "markdown",
   "metadata": {},
   "source": [
    "#### 4.1.5b Merge Info into the Datasets\n"
   ]
  },
  {
   "cell_type": "code",
   "execution_count": null,
   "metadata": {},
   "outputs": [],
   "source": [
    "gdf_al.crs == CLUSTER_LP.crs"
   ]
  },
  {
   "cell_type": "code",
   "execution_count": null,
   "metadata": {},
   "outputs": [],
   "source": [
    "# intersect the geodataframes to bring Cluster info to the AL dataset\n",
    "gdf_al = gpd.sjoin(\n",
    "    gdf_al, CLUSTER_LP[[\"Cluster_LP\", \"geometry\"]], how=\"left\", predicate=\"intersects\"\n",
    ")"
   ]
  },
  {
   "cell_type": "code",
   "execution_count": null,
   "metadata": {},
   "outputs": [],
   "source": [
    "gdf_al.shape"
   ]
  },
  {
   "cell_type": "code",
   "execution_count": null,
   "metadata": {},
   "outputs": [],
   "source": [
    "# filter out AL that are not inside a cluster\n",
    "gdf_al = gdf_al[gdf_al[\"Cluster_LP\"].notnull()]"
   ]
  },
  {
   "cell_type": "code",
   "execution_count": null,
   "metadata": {},
   "outputs": [],
   "source": [
    "gdf_al.shape"
   ]
  },
  {
   "cell_type": "code",
   "execution_count": null,
   "metadata": {},
   "outputs": [],
   "source": [
    "BGRI_CLUSTER[\"N_INDIVIDUOS_RESIDENT\"].describe()"
   ]
  },
  {
   "cell_type": "code",
   "execution_count": null,
   "metadata": {},
   "outputs": [],
   "source": [
    "# get a sum of the number of residents in 2011\n",
    "a = BGRI_CLUSTER[\"N_INDIVIDUOS_RESIDENT\"].sum()\n",
    "a"
   ]
  },
  {
   "cell_type": "code",
   "execution_count": null,
   "metadata": {},
   "outputs": [],
   "source": [
    "fiona.listlayers(\"../Data/BGRI21_CONT/BGRI21_CONT.gpkg\")"
   ]
  },
  {
   "cell_type": "code",
   "execution_count": null,
   "metadata": {},
   "outputs": [],
   "source": [
    "# load BGRI 2021 data\n",
    "BGRI_2021 = gpd.read_file(\"../Data/BGRI21_CONT/BGRI21_CONT.gpkg\", layer=\"BGRI21_CONT\")"
   ]
  },
  {
   "cell_type": "code",
   "execution_count": null,
   "metadata": {},
   "outputs": [],
   "source": [
    "BGRI_2021.columns"
   ]
  },
  {
   "cell_type": "code",
   "execution_count": null,
   "metadata": {},
   "outputs": [],
   "source": [
    "BGRI_2021.head()"
   ]
  },
  {
   "cell_type": "code",
   "execution_count": null,
   "metadata": {},
   "outputs": [],
   "source": [
    "BGRI_2021_AVRILH = BGRI_2021.clip(AVR)"
   ]
  },
  {
   "cell_type": "code",
   "execution_count": null,
   "metadata": {},
   "outputs": [],
   "source": [
    "BGRI_2021_AVRILH.plot()"
   ]
  },
  {
   "cell_type": "code",
   "execution_count": null,
   "metadata": {},
   "outputs": [],
   "source": [
    "BGRI_2021_AVRILH[\"N_INDIVIDUOS\"].describe()"
   ]
  },
  {
   "cell_type": "code",
   "execution_count": null,
   "metadata": {},
   "outputs": [],
   "source": [
    "# get a sum of the number of residents in 2021\n",
    "a = BGRI_2021_AVRILH[\"N_INDIVIDUOS\"].sum()\n",
    "a"
   ]
  },
  {
   "cell_type": "code",
   "execution_count": null,
   "metadata": {},
   "outputs": [],
   "source": [
    "BGRI_2021_AVRILH_C = BGRI_2021_AVRILH.copy()"
   ]
  },
  {
   "cell_type": "code",
   "execution_count": null,
   "metadata": {},
   "outputs": [],
   "source": [
    "# calculate centroids\n",
    "BGRI_2021_AVRILH_C[\"centroid\"] = BGRI_2021_AVRILH_C.centroid"
   ]
  },
  {
   "cell_type": "code",
   "execution_count": null,
   "metadata": {},
   "outputs": [],
   "source": [
    "# use centroids as geometry\n",
    "BGRI_2021_AVRILH_C.rename(\n",
    "    columns={\"geometry\": \"geometry2\", \"centroid\": \"geometry\"}, inplace=True\n",
    ")"
   ]
  },
  {
   "cell_type": "code",
   "execution_count": null,
   "metadata": {},
   "outputs": [],
   "source": [
    "# intersect the geodataframes to bring Cluster info to the BGRI 2021 dataset\n",
    "AVRILH_CLUSTERS_2 = gpd.sjoin(\n",
    "    BGRI_2021_AVRILH_C,\n",
    "    CLUSTER_LP[[\"Cluster_LP\", \"geometry\"]],\n",
    "    how=\"left\",\n",
    "    predicate=\"intersects\",\n",
    ")"
   ]
  },
  {
   "cell_type": "code",
   "execution_count": null,
   "metadata": {},
   "outputs": [],
   "source": [
    "AVRILH_CLUSTERS_2.head()"
   ]
  },
  {
   "cell_type": "code",
   "execution_count": null,
   "metadata": {},
   "outputs": [],
   "source": [
    "AVRILH_CLUSTERS_2.shape"
   ]
  },
  {
   "cell_type": "code",
   "execution_count": null,
   "metadata": {},
   "outputs": [],
   "source": [
    "# drop unnecessary columns\n",
    "AVRILH_CLUSTERS_2.drop([\"geometry\", \"index_right\"], axis=1, inplace=True)"
   ]
  },
  {
   "cell_type": "code",
   "execution_count": null,
   "metadata": {},
   "outputs": [],
   "source": [
    "# make geometry2, geometry again\n",
    "AVRILH_CLUSTERS_2.rename(columns={\"geometry2\": \"geometry\"}, inplace=True)"
   ]
  },
  {
   "cell_type": "code",
   "execution_count": null,
   "metadata": {},
   "outputs": [],
   "source": [
    "AVRILH_CLUSTERS_2.shape"
   ]
  },
  {
   "cell_type": "code",
   "execution_count": null,
   "metadata": {},
   "outputs": [],
   "source": [
    "# remove data points not inside a cluster\n",
    "AVRILH_CLUSTERS_2 = AVRILH_CLUSTERS_2[AVRILH_CLUSTERS_2[\"Cluster_LP\"].notnull()]"
   ]
  },
  {
   "cell_type": "code",
   "execution_count": null,
   "metadata": {},
   "outputs": [],
   "source": [
    "AVRILH_CLUSTERS_2.shape"
   ]
  },
  {
   "cell_type": "code",
   "execution_count": null,
   "metadata": {},
   "outputs": [],
   "source": [
    "AVRILH_CLUSTERS_2.head()"
   ]
  },
  {
   "cell_type": "code",
   "execution_count": null,
   "metadata": {},
   "outputs": [],
   "source": [
    "len(AVRILH_CLUSTERS_2[\"BGRI2021\"].unique())"
   ]
  },
  {
   "cell_type": "code",
   "execution_count": null,
   "metadata": {},
   "outputs": [],
   "source": [
    "# convert to int the date\n",
    "gdf_al[\"DataAberturaPublico\"] = gdf_al[\"DataAberturaPublico\"].astype(int)"
   ]
  },
  {
   "cell_type": "code",
   "execution_count": null,
   "metadata": {},
   "outputs": [],
   "source": [
    "# create a new df with the AL existing before 2011\n",
    "gdf_al_cs = gdf_al[gdf_al[\"DataAberturaPublico\"] <= 2010]"
   ]
  },
  {
   "cell_type": "code",
   "execution_count": null,
   "metadata": {},
   "outputs": [],
   "source": [
    "gdf_al_cs[\"DataAberturaPublico\"].unique()"
   ]
  },
  {
   "cell_type": "code",
   "execution_count": null,
   "metadata": {},
   "outputs": [],
   "source": [
    "BGRI_CLUSTER.head()"
   ]
  },
  {
   "cell_type": "code",
   "execution_count": null,
   "metadata": {},
   "outputs": [],
   "source": [
    "# check residents per cluster in 2021\n",
    "df1 = BGRI_CLUSTER.groupby([\"Cluster_LP\"])[\"N_INDIVIDUOS_RESIDENT\"].sum().reset_index()"
   ]
  },
  {
   "cell_type": "code",
   "execution_count": null,
   "metadata": {},
   "outputs": [],
   "source": [
    "df1"
   ]
  },
  {
   "cell_type": "code",
   "execution_count": null,
   "metadata": {},
   "outputs": [],
   "source": [
    "# check Utentes AL per cluster in 2011\n",
    "df2 = gdf_al_cs.groupby([\"Cluster_LP\"])[\"NrUtentes\"].sum().reset_index()"
   ]
  },
  {
   "cell_type": "code",
   "execution_count": null,
   "metadata": {},
   "outputs": [],
   "source": [
    "df3 = gdf_al_cs.groupby([\"Cluster_LP\"])[\"DataAberturaPublico\"].count().reset_index()"
   ]
  },
  {
   "cell_type": "code",
   "execution_count": null,
   "metadata": {},
   "outputs": [],
   "source": [
    "df3"
   ]
  },
  {
   "cell_type": "code",
   "execution_count": null,
   "metadata": {},
   "outputs": [],
   "source": [
    "df2"
   ]
  },
  {
   "cell_type": "code",
   "execution_count": null,
   "metadata": {},
   "outputs": [],
   "source": [
    "df1.dtypes"
   ]
  },
  {
   "cell_type": "code",
   "execution_count": null,
   "metadata": {},
   "outputs": [],
   "source": [
    "df2[\"Cluster_LP\"] = df2[\"Cluster_LP\"].astype(\"int64\")"
   ]
  },
  {
   "cell_type": "code",
   "execution_count": null,
   "metadata": {},
   "outputs": [],
   "source": [
    "df2 = df2.merge(df1, on=\"Cluster_LP\", how=\"left\")"
   ]
  },
  {
   "cell_type": "code",
   "execution_count": null,
   "metadata": {},
   "outputs": [],
   "source": [
    "# calculate AL_pc, Alojamento Local Per Capita, as the number of utentes AL divided by residents, per cluster\n",
    "df2[\"AL_pc\"] = df2[\"NrUtentes\"] / df2[\"N_INDIVIDUOS_RESIDENT\"]"
   ]
  },
  {
   "cell_type": "code",
   "execution_count": null,
   "metadata": {},
   "outputs": [],
   "source": [
    "df2"
   ]
  },
  {
   "cell_type": "code",
   "execution_count": null,
   "metadata": {},
   "outputs": [],
   "source": [
    "df3 = df3.merge(df2, on=\"Cluster_LP\", how=\"left\")"
   ]
  },
  {
   "cell_type": "code",
   "execution_count": null,
   "metadata": {},
   "outputs": [],
   "source": [
    "df3"
   ]
  },
  {
   "cell_type": "code",
   "execution_count": null,
   "metadata": {},
   "outputs": [],
   "source": [
    "# merge\n",
    "gdf_al_cs = gdf_al_cs.merge(df3, on=\"Cluster_LP\", how=\"left\")"
   ]
  },
  {
   "cell_type": "code",
   "execution_count": null,
   "metadata": {},
   "outputs": [],
   "source": [
    "gdf_al_cs.drop(\n",
    "    columns=[\n",
    "        \"DataAberturaPublico_x\",\n",
    "        \"NrUtentes_x\",\n",
    "        \"geometry\",\n",
    "        \"index_right\",\n",
    "        \"NrUtentes_y\",\n",
    "        \"N_INDIVIDUOS_RESIDENT\",\n",
    "    ],\n",
    "    inplace=True,\n",
    ")"
   ]
  },
  {
   "cell_type": "code",
   "execution_count": null,
   "metadata": {},
   "outputs": [],
   "source": [
    "gdf_al_cs.rename(columns={\"DataAberturaPublico_y\": \"Tot_AL\"}, inplace=True)"
   ]
  },
  {
   "cell_type": "code",
   "execution_count": null,
   "metadata": {},
   "outputs": [],
   "source": [
    "gdf_al_cs"
   ]
  },
  {
   "cell_type": "code",
   "execution_count": null,
   "metadata": {},
   "outputs": [],
   "source": [
    "# repeat process, but now for AL existing after 2011\n",
    "dfa = AVRILH_CLUSTERS_2.groupby([\"Cluster_LP\"])[\"N_INDIVIDUOS\"].sum().reset_index()"
   ]
  },
  {
   "cell_type": "code",
   "execution_count": null,
   "metadata": {},
   "outputs": [],
   "source": [
    "# repeat process, but now for AL existing after 2011\n",
    "dfb = gdf_al.groupby([\"Cluster_LP\"])[\"NrUtentes\"].sum().reset_index()"
   ]
  },
  {
   "cell_type": "code",
   "execution_count": null,
   "metadata": {},
   "outputs": [],
   "source": [
    "# repeat process, but now for AL existing after 2011\n",
    "dfc = gdf_al.groupby([\"Cluster_LP\"])[\"DataAberturaPublico\"].count().reset_index()"
   ]
  },
  {
   "cell_type": "code",
   "execution_count": null,
   "metadata": {},
   "outputs": [],
   "source": [
    "# repeat process, but now for AL existing after 2011\n",
    "dfb = dfb.merge(dfa, on=\"Cluster_LP\", how=\"left\")"
   ]
  },
  {
   "cell_type": "code",
   "execution_count": null,
   "metadata": {},
   "outputs": [],
   "source": [
    "# repeat process, but now for AL existing after 2011\n",
    "dfb[\"AL_pc\"] = dfb[\"NrUtentes\"] / dfb[\"N_INDIVIDUOS\"]"
   ]
  },
  {
   "cell_type": "code",
   "execution_count": null,
   "metadata": {},
   "outputs": [],
   "source": [
    "dfb.drop(columns=[\"NrUtentes\", \"N_INDIVIDUOS\"], inplace=True)"
   ]
  },
  {
   "cell_type": "code",
   "execution_count": null,
   "metadata": {},
   "outputs": [],
   "source": [
    "# repeat process, but now for AL existing after 2011\n",
    "dfb = dfb.merge(dfc, on=\"Cluster_LP\", how=\"left\")"
   ]
  },
  {
   "cell_type": "code",
   "execution_count": null,
   "metadata": {},
   "outputs": [],
   "source": [
    "dfb.dtypes"
   ]
  },
  {
   "cell_type": "code",
   "execution_count": null,
   "metadata": {},
   "outputs": [],
   "source": [
    "dfb.rename(columns={\"DataAberturaPublico\": \"Tot_AL\"}, inplace=True)"
   ]
  },
  {
   "cell_type": "code",
   "execution_count": null,
   "metadata": {},
   "outputs": [],
   "source": [
    "dfb.head()"
   ]
  },
  {
   "cell_type": "code",
   "execution_count": null,
   "metadata": {},
   "outputs": [],
   "source": [
    "# bring AL_pc to the casasapo dataset\n",
    "casasapo = casasapo.merge(gdf_al_cs, on=\"Cluster_LP\", how=\"left\")"
   ]
  },
  {
   "cell_type": "code",
   "execution_count": null,
   "metadata": {},
   "outputs": [],
   "source": [
    "# fill na with 0\n",
    "casasapo[\"AL_pc\"] = casasapo[\"AL_pc\"].fillna(0)\n",
    "casasapo[\"Tot_AL\"] = casasapo[\"Tot_AL\"].fillna(0)"
   ]
  },
  {
   "cell_type": "code",
   "execution_count": null,
   "metadata": {},
   "outputs": [],
   "source": [
    "dfb[\"Cluster_LP\"] = dfb[\"Cluster_LP\"].astype(\"int64\")"
   ]
  },
  {
   "cell_type": "code",
   "execution_count": null,
   "metadata": {},
   "outputs": [],
   "source": [
    "# bring AL_pc to the PY dataset\n",
    "PY = PY.merge(dfb, on=\"Cluster_LP\", how=\"left\")"
   ]
  },
  {
   "cell_type": "code",
   "execution_count": null,
   "metadata": {},
   "outputs": [],
   "source": [
    "# fill na with 0\n",
    "PY[\"AL_pc\"] = PY[\"AL_pc\"].fillna(0)\n",
    "PY[\"Tot_AL\"] = PY[\"Tot_AL\"].fillna(0)"
   ]
  },
  {
   "cell_type": "code",
   "execution_count": null,
   "metadata": {},
   "outputs": [],
   "source": [
    "casasapo = casasapo.drop_duplicates()"
   ]
  },
  {
   "cell_type": "code",
   "execution_count": null,
   "metadata": {},
   "outputs": [],
   "source": [
    "PY = PY.drop_duplicates()"
   ]
  },
  {
   "cell_type": "code",
   "execution_count": null,
   "metadata": {},
   "outputs": [],
   "source": [
    "casasapo.reset_index(drop=True, inplace=True)"
   ]
  },
  {
   "cell_type": "code",
   "execution_count": null,
   "metadata": {},
   "outputs": [],
   "source": [
    "PY.reset_index(drop=True, inplace=True)"
   ]
  },
  {
   "attachments": {},
   "cell_type": "markdown",
   "metadata": {},
   "source": [
    "### 4.1.6 Export Data to Pickle Files\n"
   ]
  },
  {
   "attachments": {},
   "cell_type": "markdown",
   "metadata": {},
   "source": [
    "#### 4.1.6a Export Casasapo Data to a Pickle File\n",
    "\n",
    "File needed for the Clustering_AIC notebook.\n"
   ]
  },
  {
   "cell_type": "code",
   "execution_count": null,
   "metadata": {},
   "outputs": [],
   "source": [
    "casasapo.head()"
   ]
  },
  {
   "cell_type": "code",
   "execution_count": null,
   "metadata": {},
   "outputs": [],
   "source": [
    "casasapo.shape"
   ]
  },
  {
   "cell_type": "code",
   "execution_count": null,
   "metadata": {},
   "outputs": [],
   "source": [
    "# save casasapo dataset to a pickle\n",
    "casasapo.to_pickle(\"../Data/piclo_casasapo.piclo\")"
   ]
  },
  {
   "cell_type": "code",
   "execution_count": null,
   "metadata": {},
   "outputs": [],
   "source": [
    "casasapo.head()"
   ]
  },
  {
   "attachments": {},
   "cell_type": "markdown",
   "metadata": {},
   "source": [
    "#### 4.1.6b Export PY Data to a Pickle File\n",
    "\n",
    "File needed for the Clustering_AIC notebook.\n"
   ]
  },
  {
   "cell_type": "code",
   "execution_count": null,
   "metadata": {},
   "outputs": [],
   "source": [
    "PY.shape"
   ]
  },
  {
   "cell_type": "code",
   "execution_count": null,
   "metadata": {},
   "outputs": [],
   "source": [
    "PY.head()"
   ]
  },
  {
   "cell_type": "code",
   "execution_count": null,
   "metadata": {},
   "outputs": [],
   "source": [
    "# save PY dataset to a pickle\n",
    "PY.to_pickle(\"../Data/piclo_py.piclo\")"
   ]
  },
  {
   "attachments": {},
   "cell_type": "markdown",
   "metadata": {},
   "source": [
    "#### 4.1.6c Export All Data (Casasapo + PY) Data to a Pickle File\n",
    "\n",
    "File needed for the Modelling_AIC notebook.\n"
   ]
  },
  {
   "cell_type": "code",
   "execution_count": null,
   "metadata": {},
   "outputs": [],
   "source": [
    "casasapo"
   ]
  },
  {
   "cell_type": "code",
   "execution_count": null,
   "metadata": {},
   "outputs": [],
   "source": [
    "casasapo.columns"
   ]
  },
  {
   "cell_type": "code",
   "execution_count": null,
   "metadata": {},
   "outputs": [],
   "source": [
    "# rename columns\n",
    "casasapo.rename(\n",
    "    columns={\n",
    "        \"Tipologia\": \"Typology\",\n",
    "        \"Natureza\": \"Nature\",\n",
    "        \"Preservacao\": \"Status\",\n",
    "        \"VA1010_PrecoInicial\": \"Price\",\n",
    "        \"VA1012_LOG_PrecoInicial_M2Area\": \"Log_P_A\",\n",
    "        \"VA0110_Area\": \"A\",\n",
    "        \"DTA_ano\": \"Year\",\n",
    "    },\n",
    "    inplace=True,\n",
    ")"
   ]
  },
  {
   "cell_type": "code",
   "execution_count": null,
   "metadata": {},
   "outputs": [],
   "source": [
    "casasapo.head()"
   ]
  },
  {
   "cell_type": "code",
   "execution_count": null,
   "metadata": {},
   "outputs": [],
   "source": [
    "# rename columns\n",
    "PY.rename(\n",
    "    columns={\n",
    "        \"AREA\": \"A\",\n",
    "        \"Preservacao\": \"Status\",\n",
    "        \"TYPE_ID\": \"Nature\",\n",
    "        \"TYPOLOGY_ID\": \"Typology\",\n",
    "        \"Log_Price_Area\": \"Log_P_A\",\n",
    "        \"Log_VA0110_Area\": \"Log_A\",\n",
    "        \"ZONECorr\": \"Cluster_50\",\n",
    "        \"CURRENT_PRICE\": \"Price\",\n",
    "        \"Log_Price\": \"Log_P\",\n",
    "        \"Log_Area\": \"Log_A\",\n",
    "    },\n",
    "    inplace=True,\n",
    ")"
   ]
  },
  {
   "cell_type": "code",
   "execution_count": null,
   "metadata": {},
   "outputs": [],
   "source": [
    "# define T=1 for py and T=0 for cs, post intervention and pre intervention\n",
    "PY[\"T\"] = 1\n",
    "casasapo[\"T\"] = 0"
   ]
  },
  {
   "cell_type": "code",
   "execution_count": null,
   "metadata": {},
   "outputs": [],
   "source": [
    "PY.reset_index(drop=True, inplace=True)"
   ]
  },
  {
   "cell_type": "code",
   "execution_count": null,
   "metadata": {},
   "outputs": [],
   "source": [
    "# drop unnecessary columns\n",
    "PY.drop(columns=[\"geometry\", \"index_right\"], axis=1, inplace=True)"
   ]
  },
  {
   "cell_type": "code",
   "execution_count": null,
   "metadata": {},
   "outputs": [],
   "source": [
    "# drop unnecessary columns\n",
    "casasapo.drop(columns=[\"Zone_ID\", \"Cluster_old\"], axis=1, inplace=True)"
   ]
  },
  {
   "cell_type": "code",
   "execution_count": null,
   "metadata": {},
   "outputs": [],
   "source": [
    "casasapo.shape"
   ]
  },
  {
   "cell_type": "code",
   "execution_count": null,
   "metadata": {},
   "outputs": [],
   "source": [
    "PY.shape"
   ]
  },
  {
   "cell_type": "code",
   "execution_count": null,
   "metadata": {},
   "outputs": [],
   "source": [
    "# concat data\n",
    "all_data = pd.concat([casasapo, PY], axis=0, ignore_index=True)"
   ]
  },
  {
   "cell_type": "code",
   "execution_count": null,
   "metadata": {},
   "outputs": [],
   "source": [
    "all_data[\"Year\"].unique()"
   ]
  },
  {
   "cell_type": "code",
   "execution_count": null,
   "metadata": {},
   "outputs": [],
   "source": [
    "all_data.head()"
   ]
  },
  {
   "cell_type": "code",
   "execution_count": null,
   "metadata": {},
   "outputs": [],
   "source": [
    "all_data.shape"
   ]
  },
  {
   "cell_type": "code",
   "execution_count": null,
   "metadata": {},
   "outputs": [],
   "source": [
    "all_data = all_data[all_data[\"Status\"] != 5]  # remove elements under construction"
   ]
  },
  {
   "cell_type": "code",
   "execution_count": null,
   "metadata": {},
   "outputs": [],
   "source": [
    "all_data[\"Status\"].unique()"
   ]
  },
  {
   "cell_type": "code",
   "execution_count": null,
   "metadata": {},
   "outputs": [],
   "source": [
    "all_data.shape"
   ]
  },
  {
   "cell_type": "code",
   "execution_count": null,
   "metadata": {},
   "outputs": [],
   "source": [
    "all_data[\"T\"].value_counts()"
   ]
  },
  {
   "cell_type": "code",
   "execution_count": null,
   "metadata": {},
   "outputs": [],
   "source": [
    "all_data[\"Cluster_LP\"].nunique()"
   ]
  },
  {
   "cell_type": "code",
   "execution_count": null,
   "metadata": {},
   "outputs": [],
   "source": [
    "all_data.shape"
   ]
  },
  {
   "cell_type": "code",
   "execution_count": null,
   "metadata": {},
   "outputs": [],
   "source": [
    "all_data.dtypes"
   ]
  },
  {
   "cell_type": "code",
   "execution_count": null,
   "metadata": {},
   "outputs": [],
   "source": [
    "all_data.loc[all_data[\"T\"] == 0, \"SOURCE_ID\"] = 4.0"
   ]
  },
  {
   "cell_type": "code",
   "execution_count": null,
   "metadata": {},
   "outputs": [],
   "source": [
    "all_data2 = all_data.merge(PY_data2, left_on=\"ID\", right_on=\"ID\", how=\"left\")"
   ]
  },
  {
   "cell_type": "code",
   "execution_count": null,
   "metadata": {},
   "outputs": [],
   "source": [
    "all_data2.head()"
   ]
  },
  {
   "cell_type": "code",
   "execution_count": null,
   "metadata": {},
   "outputs": [],
   "source": [
    "all_data2.rename(columns={\"geometry\": \"Coordinates\"}, inplace=True)"
   ]
  },
  {
   "cell_type": "code",
   "execution_count": null,
   "metadata": {},
   "outputs": [],
   "source": [
    "all_data2.rename(\n",
    "    columns={\n",
    "        \"ADD_LONGITUDE\": \"Longitude\",\n",
    "        \"ADD_LATITUDE\": \"Latitude\",\n",
    "        \"CONSTRUCTION_YEAR\": \"Construc_Year\",\n",
    "    },\n",
    "    inplace=True,\n",
    ")\n",
    "all_data2.fillna(0, inplace=True)"
   ]
  },
  {
   "cell_type": "code",
   "execution_count": null,
   "metadata": {},
   "outputs": [],
   "source": [
    "all_data2"
   ]
  },
  {
   "cell_type": "code",
   "execution_count": null,
   "metadata": {},
   "outputs": [],
   "source": [
    "all_data2[\"Construc_Year\"] = all_data2[\"Construc_Year\"].astype(\"Int64\")"
   ]
  },
  {
   "cell_type": "code",
   "execution_count": null,
   "metadata": {},
   "outputs": [],
   "source": [
    "all_data2.drop(columns=[\"Log_P_A\"], axis=1, inplace=True)"
   ]
  },
  {
   "cell_type": "code",
   "execution_count": null,
   "metadata": {},
   "outputs": [],
   "source": [
    "all_data2"
   ]
  },
  {
   "cell_type": "code",
   "execution_count": null,
   "metadata": {},
   "outputs": [],
   "source": [
    "# export CSV with all data\n",
    "all_data2.to_csv(\"../Data/all_data.csv\", index=False)"
   ]
  },
  {
   "cell_type": "code",
   "execution_count": null,
   "metadata": {},
   "outputs": [],
   "source": [
    "# save df with bluster info to a pickle\n",
    "all_data.to_pickle(\"../Data/all_data.piclo\")"
   ]
  },
  {
   "attachments": {},
   "cell_type": "markdown",
   "metadata": {},
   "source": [
    "#### 4.1.6d Export BGRI_Cluster data to a Pickle File\n",
    "\n",
    "File needed for the Clustering_AIC notebook.\n"
   ]
  },
  {
   "cell_type": "code",
   "execution_count": null,
   "metadata": {},
   "outputs": [],
   "source": [
    "BGRI_CLUSTER.head()"
   ]
  },
  {
   "cell_type": "code",
   "execution_count": null,
   "metadata": {},
   "outputs": [],
   "source": [
    "BGRI_CLUSTER.shape"
   ]
  },
  {
   "cell_type": "code",
   "execution_count": null,
   "metadata": {},
   "outputs": [],
   "source": [
    "BGRI_CLUSTER.Cluster_LP.unique()"
   ]
  },
  {
   "cell_type": "code",
   "execution_count": null,
   "metadata": {},
   "outputs": [],
   "source": [
    "BGRI_CLUSTER.drop(\n",
    "    columns=[\"area\", \"geometry\", \"GEO_COD\", \"BGRI11\", \"LUG11DESIG\"], inplace=True\n",
    ")"
   ]
  },
  {
   "cell_type": "code",
   "execution_count": null,
   "metadata": {},
   "outputs": [],
   "source": [
    "BGRI_CLUSTER.shape"
   ]
  },
  {
   "cell_type": "code",
   "execution_count": null,
   "metadata": {},
   "outputs": [],
   "source": [
    "# save df with socioeconomic indicators to a pickle\n",
    "BGRI_CLUSTER.to_pickle(\"../Data/piclo_bgri.piclo\")"
   ]
  },
  {
   "cell_type": "code",
   "execution_count": null,
   "metadata": {},
   "outputs": [],
   "source": [
    "CLUSTER_LP"
   ]
  },
  {
   "cell_type": "code",
   "execution_count": null,
   "metadata": {},
   "outputs": [],
   "source": [
    "# save df with bluster info to a pickle\n",
    "CLUSTER_LP.to_pickle(\"../Data/piclo_clusters_lp.piclo\")\n",
    "CLUSTER_LUG.to_pickle(\"../Data/piclo_clusters_lug.piclo\")\n",
    "CLUSTER_FR.to_pickle(\"../Data/piclo_clusters_fr.piclo\")"
   ]
  }
 ],
 "metadata": {
  "kernelspec": {
   "display_name": "Thesis",
   "language": "python",
   "name": "python3"
  },
  "language_info": {
   "codemirror_mode": {
    "name": "ipython",
    "version": 3
   },
   "file_extension": ".py",
   "mimetype": "text/x-python",
   "name": "python",
   "nbconvert_exporter": "python",
   "pygments_lexer": "ipython3",
   "version": "3.12.7"
  }
 },
 "nbformat": 4,
 "nbformat_minor": 4
}
